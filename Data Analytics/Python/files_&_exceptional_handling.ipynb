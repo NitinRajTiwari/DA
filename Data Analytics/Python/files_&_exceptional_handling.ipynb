{
  "cells": [
    {
      "cell_type": "markdown",
      "metadata": {
        "id": "B1JfA1lFr8ol"
      },
      "source": [
        "# Theory Section\n"
      ]
    },
    {
      "cell_type": "markdown",
      "metadata": {
        "id": "udeWzrEruw5_"
      },
      "source": [
        "## Q1 What is the difference between interpreted and compiled languages\n",
        "**Compiled languages** are translated directly into machine code by a compiler **before** execution, while **interpreted languages** are executed **line-by-line** by an interpreter.\n",
        "\n",
        "**Compiled Language:**\n",
        "- Faster execution\n",
        "- Needs compilation before running\n",
        "- Examples: C, C++, Rust\n",
        "\n",
        "**Interpreted Language:**\n",
        "- Slower but flexible\n",
        "- No separate compilation step\n",
        "- Examples: Python, JavaScript\n",
        "\n",
        "**Python is an interpreted language**, but internally it compiles code to bytecode (`.pyc`) before interpretation by the Python Virtual Machine (PVM).\n",
        "\n",
        "---\n",
        "## Q2 What is exception handling in Python?\n",
        "**Exception handling** allows you to handle errors that occur during program execution without crashing the program.\n",
        "\n",
        "Python uses:\n",
        "- `try`: block of code to test for errors\n",
        "- `except`: block that handles the error\n",
        "- `finally`: always runs, used for cleanup\n",
        "\n",
        "**Example:**\n",
        "```python\n",
        "try:\n",
        "    x = 10 / 0\n",
        "except ZeroDivisionError:\n",
        "    print(\"Cannot divide by zero\")\n",
        "```\n",
        "\n",
        "---\n",
        "\n",
        "## Q3. What is the purpose of the `finally` block in exception handling?\n",
        "\n",
        "The `finally` block is used to specify **cleanup code** that always executes, **whether an exception occurred or not**.\n",
        "\n",
        "**Use case:** Closing files, releasing resources, or cleaning memory.\n",
        "\n",
        "**Example:**\n",
        "```python\n",
        "try:\n",
        "    file = open(\"data.txt\", \"r\")\n",
        "    data = file.read()\n",
        "except FileNotFoundError:\n",
        "    print(\"File not found.\")\n",
        "finally:\n",
        "    file.close()  # Always runs\n",
        "```\n",
        "\n",
        "---\n",
        "\n",
        "## Q4. What is logging in Python?\n",
        "\n",
        "**Logging** is a way to **track events** that happen during program execution. It's useful for debugging, auditing, and monitoring.\n",
        "\n",
        "Python provides the `logging` module for this purpose.\n",
        "\n",
        "**Basic Example:**\n",
        "```python\n",
        "import logging\n",
        "logging.basicConfig(level=logging.INFO,format='%(asctime)s - %(levelname)s - %(message)s')\n",
        "# Logs data in to the console directly\n",
        "logging.info(\"This is an info message\")\n",
        "\n",
        "# if you want to log data in to a file add another arugment in\n",
        "\n",
        "#logging.basicConfig(\n",
        "#     filename='app.log',        # Log to a file named app.log\n",
        "#     level=logging.INFO,        # Log INFO level and above\n",
        "#     format='%(asctime)s - %(levelname)s - %(message)s'\n",
        "# )\n",
        "\n",
        "# logging.info(\"This will log in the file\")\n",
        "```\n",
        "Benefits:\n",
        "\n",
        "- More flexible than print()\n",
        "- Can record messages in files\n",
        "- Supports different levels: DEBUG, INFO, WARNING, ERROR, CRITICAL\n",
        "\n",
        "\n",
        "---\n",
        "\n",
        "## Q5. What is the significance of the `__del__` method in Python?\n",
        "\n",
        "The `__del__` method is a **destructor** that is called when an object is about to be destroyed (usually when there are no more references to it).\n",
        "\n",
        "**Use case:** Automatically releasing resources like closing files.\n",
        "\n",
        "**Example:**\n",
        "```python\n",
        "class FileManager:\n",
        "    def __init__(self, filename):\n",
        "        self.file = open(filename, 'w')\n",
        "\n",
        "    def __del__(self):\n",
        "        self.file.close()\n",
        "        print(\"File closed\")\n",
        "\n",
        "fm = FileManager(\"log.txt\")\n",
        "del fm  # Triggers __del__()\n",
        "```\n",
        "- __del__() is not guaranteed to be called immediately after an object is no longer needed.\n",
        "\n",
        "- The garbage collector may delay or skip calling __del__() (especially during circular references).\n",
        "\n",
        "- If an exception occurs in __init__, __del__ may still be called—possibly on a partially constructed object.\n",
        "\n",
        "- If your program exits suddenly or is killed, __del__() might never run.\n",
        "\n",
        "- Prefer using context managers (with statements) or the contextlib module for  resource management instead of __del__.\n",
        "\n",
        "Example with Context Manager:\n",
        "```python\n",
        "class FileManager:\n",
        "    def __init__(self, filename):\n",
        "        self.file = open(filename, 'w')\n",
        "\n",
        "    def __enter__(self):\n",
        "        return self.file\n",
        "\n",
        "    def __exit__(self, exc_type, exc_val, exc_tb):\n",
        "        self.file.close()\n",
        "        print(\"File closed\")\n",
        "\n",
        "with FileManager(\"log.txt\") as f:\n",
        "    f.write(\"Hello, world!\")\n",
        "```\n",
        "\n",
        "---\n",
        "\n",
        "## 6. What is the difference between `import` and `from ... import` in Python?\n",
        "\n",
        "- `import module` imports the **entire module** and requires referencing with dot notation.\n",
        "- `from module import item` imports a **specific function or class** directly.\n",
        "\n",
        "**Examples:**\n",
        "```python\n",
        "import math\n",
        "print(math.sqrt(16))  # Access using module name\n",
        "\n",
        "from math import sqrt\n",
        "print(sqrt(16))       # Direct access\n",
        "```\n",
        "### Using from ... import makes code shorter, but can cause name conflicts.\n",
        "\n",
        "```python\n",
        "from math import sqrt\n",
        "from cmath import sqrt  # <-- conflict here\n",
        "\n",
        "print(sqrt(4))\n",
        "```\n",
        "- Since both math and cmath have a function named sqrt, the second import (from cmath import sqrt) overrides the first one.\n",
        "So now sqrt(4) returns a complex number: (2+0j), not a real 2.0.\n",
        "\n",
        "\n",
        "---\n",
        "\n",
        "## Q7. How can you handle multiple exceptions in Python?\n",
        "\n",
        "You can handle multiple exceptions by:\n",
        "1. Writing multiple `except` blocks\n",
        "2. Using a tuple of exceptions in one block\n",
        "\n",
        "**Example 1: Multiple `except`:**\n",
        "```python\n",
        "try:\n",
        "    num = int(\"abc\")\n",
        "except ValueError:\n",
        "    print(\"Invalid number\")\n",
        "except TypeError:\n",
        "    print(\"Wrong type\")\n",
        "```\n",
        "**Example 2:** Tuple of exceptions:\n",
        "```python\n",
        "try:\n",
        "    x = 1 / 0\n",
        "except (ZeroDivisionError, ValueError) as e:\n",
        "    print(f\"Error occurred: {e}\")\n",
        "```\n",
        "\n",
        "---\n",
        "\n",
        "## Q8. What is the purpose of the `with` statement when handling files in Python?\n",
        "\n",
        "The `with` statement ensures **automatic resource management**. It automatically closes the file, even if an error occurs.\n",
        "\n",
        "**Example:**\n",
        "```python\n",
        "with open(\"data.txt\", \"r\") as f:\n",
        "    content = f.read()\n",
        "# File is automatically closed here\n",
        "```\n",
        "\n",
        "---\n",
        "\n",
        "## Q9. What is the difference between multithreading and multiprocessing?\n",
        "\n",
        "- **Multithreading** runs multiple threads (lightweight processes) in the **same memory space**.\n",
        "- **Multiprocessing** runs multiple processes, each with its **own memory space**.\n",
        "\n",
        "**Multithreading:**\n",
        "- Best for **I/O-bound** tasks (e.g., reading files, network calls)\n",
        "- Threads share memory → faster communication\n",
        "- Limited by Python’s **GIL** (Global Interpreter Lock), which prevents true parallel execution of threads\n",
        "\n",
        "**Multiprocessing:**\n",
        "- Best for **CPU-bound** tasks (e.g., heavy computations)\n",
        "- Processes do **not share memory** → safer but slower communication\n",
        "- No GIL interference → can use multiple CPU cores efficiently\n",
        "\n",
        "**Examples:**\n",
        "```python\n",
        "# Multithreading Example\n",
        "from threading import Thread\n",
        "\n",
        "def thread_task():\n",
        "    print(\"Thread is running\")\n",
        "\n",
        "t1 = Thread(target=thread_task)\n",
        "t1.start()\n",
        "t1.join()\n",
        "```\n",
        "```python\n",
        "# Multiprocessing Example\n",
        "from multiprocessing import Process\n",
        "\n",
        "def process_task():\n",
        "    print(\"Process is running\")\n",
        "\n",
        "p1 = Process(target=process_task)\n",
        "p1.start()\n",
        "p1.join()\n",
        "```\n",
        "\n",
        "---\n",
        "\n",
        "## Q10. What are the advantages of using logging in a program?\n",
        "\n",
        "**Advantages of Logging:**\n",
        "\n",
        "- Tracks program execution – Helps trace how the code runs.\n",
        "\n",
        "- Aids debugging and maintenance – Captures issues with time and context.\n",
        "\n",
        "- Records events with timestamps – Useful for audits and postmortem analysis.\n",
        "\n",
        "- Supports multiple severity levels – DEBUG, INFO, WARNING, ERROR, CRITICAL.\n",
        "\n",
        "- Flexible output options – Log to file, console, remote servers, etc.\n",
        "\n",
        "- Non-intrusive – Can be enabled, disabled, or redirected without changing program logic.\n",
        "\n",
        "**Example:**\n",
        "```python\n",
        "import logging\n",
        "\n",
        "# Configure logging to write to a file with DEBUG level\n",
        "logging.basicConfig(filename=\"app.log\", level=logging.DEBUG)\n",
        "\n",
        "logging.debug(\"This is a debug message\")\n",
        "logging.info(\"Starting the application\")\n",
        "logging.warning(\"Low disk space\")\n",
        "logging.error(\"Application crashed\")\n",
        "logging.critical(\"System is down\")\n",
        "```\n",
        "\n",
        "---\n",
        "\n",
        "## Q11. What is memory management in Python?\n",
        "Python uses **automatic memory management**, which includes:\n",
        "\n",
        "- **Reference counting**\n",
        "- **Garbage collection (GC)** for detecting and cleaning up circular references\n",
        "\n",
        "### 🔧 How it works:\n",
        "- Every Python object maintains a **reference count** — the number of references to it.\n",
        "- When an object’s reference count drops to **zero**, its memory is **automatically deallocated**.\n",
        "- The **`gc` module** is used to manage **cyclic references** (e.g., objects referencing each other in a loop).\n",
        "\n",
        "**Example:**\n",
        "```python\n",
        "import gc\n",
        "gc.collect()  # Force garbage collection\n",
        "```\n",
        "\n",
        "---\n",
        "\n",
        "## Q12. What are the basic steps involved in exception handling in Python?\n",
        "\n",
        "Python exception handling involves:\n",
        "\n",
        "1. **try block** – code that may raise an error\n",
        "2. **except block(s)** – catch specific or general exceptions\n",
        "3. **else block** (optional) – runs if no exception occurs\n",
        "4. **finally block** (optional) – always runs\n",
        "\n",
        "**Example:**\n",
        "```python\n",
        "try:\n",
        "    x = 10 / 2\n",
        "except ZeroDivisionError:\n",
        "    print(\"Cannot divide by zero\")\n",
        "else:\n",
        "    print(\"No errors!\")\n",
        "finally:\n",
        "    print(\"Execution complete.\")\n",
        "```\n",
        "\n",
        "\n",
        "---\n",
        "\n",
        "## Q13. Why is memory management important in Python?\n",
        "\n",
        "Efficient memory management is crucial to:\n",
        "\n",
        "- Prevent **memory leaks**\n",
        "- Optimize **performance and speed**\n",
        "- Handle **large data sets** or **long-running applications**\n",
        "- Ensure overall **program stability**\n",
        "\n",
        "While Python provides **automatic memory management**, understanding it helps developers:\n",
        "\n",
        "- Avoid unnecessary object creation\n",
        "- Detect and resolve circular references\n",
        "- Release unused memory early (e.g., via `del` or `gc.collect()`)\n",
        "- Improve efficiency in resource-heavy applications\n",
        "\n",
        "---\n",
        "## Q14. What is the role of try and except in exception handling?\n",
        "- The `try` block contains **code that might raise an exception** (risky operations).\n",
        "- The `except` block **handles the exception**, allowing the program to recover or respond gracefully.\n",
        "\n",
        "This prevents the program from crashing and enables **controlled error handling**.\n",
        "\n",
        "\n",
        "**Example:**\n",
        "```python\n",
        "try:\n",
        "    print(5 / 0)\n",
        "except ZeroDivisionError:\n",
        "    print(\"Cannot divide by zero.\")\n",
        "```\n",
        "---\n",
        "## Q15. How does Python's garbage collection system work?\n",
        "\n",
        "Python manages memory using:\n",
        "1. **Reference Counting** – each object keeps a count of how many references point to it. When it reaches 0, the object is deleted.\n",
        "2. **Garbage Collector (GC)** – handles **cyclic references** that reference counting cannot resolve.\n",
        "\n",
        "**Garbage Collection Phases:**\n",
        "- Generation 0: short-lived objects (checked frequently)\n",
        "- Generation 1 & 2: longer-lived objects (checked less often)\n",
        "\n",
        "You can use the `gc` module to inspect or trigger garbage collection.\n",
        "\n",
        "**Example:**\n",
        "```python\n",
        "import gc\n",
        "\n",
        "class Node:\n",
        "    def __init__(self, name):\n",
        "        self.name = name\n",
        "        self.ref = None\n",
        "\n",
        "    def __del__(self):\n",
        "        print(f\"Deleted: {self.name}\")\n",
        "\n",
        "# Create cyclic reference\n",
        "a = Node(\"A\")\n",
        "b = Node(\"B\")\n",
        "a.ref = b\n",
        "b.ref = a\n",
        "\n",
        "# Break direct references\n",
        "a = None\n",
        "b = None\n",
        "\n",
        "# At this point, the objects are unreachable but not collected due to the cycle\n",
        "\n",
        "# Force garbage collection\n",
        "unreachable = gc.collect()\n",
        "\n",
        "print(f\"Unreachable objects collected: {unreachable}\")\n",
        "```\n",
        "Output:\n",
        "```\n",
        "Deleted: A\n",
        "Deleted: B\n",
        "Unreachable objects collected: 9\n",
        "```\n",
        "\n",
        "\n",
        "---\n",
        "\n",
        "## Q16. What is the purpose of the `else` block in exception handling?\n",
        "\n",
        "```markdown\n",
        "In Python, the `else` block is used **after try-except** and runs only if **no exception occurs** in the `try` block.\n",
        "\n",
        "**Purpose:**\n",
        "- Helps separate successful logic from error handling.\n",
        "- Improves code readability.\n",
        "\n",
        "**Example:**\n",
        "```python\n",
        "try:\n",
        "    value = int(\"10\")\n",
        "except ValueError:\n",
        "    print(\"Conversion failed\")\n",
        "else:\n",
        "    print(\"Conversion successful\")  # Only runs if no error\n",
        "```\n",
        "\n",
        "\n",
        "---\n",
        "\n",
        "## Q17. What are the common logging levels in Python?\n",
        "\n",
        "Python’s `logging` module provides different severity levels for log messages:\n",
        "\n",
        "``` markdown\n",
        "| Level     | Function          | Purpose                               | Numeric value\n",
        "                        \n",
        "| DEBUG     | logging.debug()   | Detailed info (for debugging)         | 10\n",
        "| INFO      | logging.info()    | General information                   | 20\n",
        "| WARNING   | logging.warning() | Indicate something unexpected         | 30\n",
        "| ERROR     | logging.error()   | A serious issue occurred              | 40\n",
        "| CRITICAL  | logging.critical()| Very serious error, program may stop  | 50\n",
        "```\n",
        "### How levels control logging output\n",
        "- When you set a logging level (e.g., logging.basicConfig(level=logging.INFO)), only messages at that level or higher severity are processed.\n",
        "\n",
        "- For example, if level is set to INFO:\n",
        "\n",
        "- Messages logged as INFO, WARNING, ERROR, CRITICAL will be output.\n",
        "\n",
        "Messages logged as DEBUG will be ignored.\n",
        "**Example:**\n",
        "```python\n",
        "import logging\n",
        "\n",
        "logging.basicConfig(level=logging.WARNING)\n",
        "\n",
        "logging.debug(\"Debug message\")     # Ignored (level 10 < 30)\n",
        "logging.info(\"Info message\")       # Ignored (level 20 < 30)\n",
        "logging.warning(\"Warning message\") # Shown (level 30 >= 30)\n",
        "logging.error(\"Error message\")     # Shown (level 40 >= 30)\n",
        "logging.critical(\"Critical message\") # Shown (level 50 >= 30)\n",
        "```\n",
        "Output\n",
        "```\n",
        "WARNING:root:Warning message\n",
        "ERROR:root:Error message\n",
        "CRITICAL:root:Critical message\n",
        "```\n",
        "\n",
        "---\n",
        "\n",
        "## Q18. What is the difference between `os.fork()` and `multiprocessing` in Python?\n",
        "\n",
        "```markdown\n",
        "| Feature              | `os.fork()`                               | `multiprocessing` module           \n",
        "|--------------------- |-------------------------------------------|----------------------------------------------------\n",
        "| Platform Support     | Unix/Linux only                           | Cross-platform (Windows, Linux, macOS) \n",
        "| Ease of Use          | Low-level, manual process control         | High-level API with Process class  \n",
        "| Memory Sharing       | Copy-on-write (shared until modified)     | Separate memory space (no shared memory by default) \n",
        "| IPC (Interprocess Communication) | Manual (pipes, signals, etc.) | Built-in support (Queues, Pipes, Managers) \n",
        "| Portability          | Not portable to Windows                   | Portable across platforms          \n",
        "\n",
        "- `os.fork()` creates a new child process by duplicating the current process (clone).\n",
        "- `multiprocessing` abstracts process creation and management, making it easier and safer to write parallel code.\n",
        "```\n",
        "- Use os.fork() only if you need low-level control and are sure your code will run on Unix-like systems.\n",
        "\n",
        "- multiprocessing is recommended for most Python programs requiring parallelism, especially if cross-platform compatibility is important.\n",
        "\n",
        "**Example using multiprocessing:**\n",
        "```python\n",
        "from multiprocessing import Process\n",
        "\n",
        "def task():\n",
        "    print(\"Running in a new process\")\n",
        "\n",
        "p = Process(target=task)\n",
        "p.start()\n",
        "p.join()\n",
        "```\n",
        "\n",
        "---\n",
        "\n",
        "## Q19. What is the importance of closing a file in Python?\n",
        "\n",
        "Closing a file using `file.close()` is important because:\n",
        "\n",
        "- It **frees up system resources** (file handles).\n",
        "- Ensures **data is written to disk** (in case of buffering).\n",
        "- Prevents **file corruption**.\n",
        "- Avoids reaching the OS limit of open files.\n",
        "\n",
        "Best practice: use `with open(...)` to close files automatically.\n",
        "\n",
        "**Example:**\n",
        "```python\n",
        "with open(\"data.txt\", \"r\") as f:\n",
        "    data = f.read()\n",
        "# File is automatically closed\n",
        "```\n",
        "\n",
        "---\n",
        "\n",
        "## Q20. What is the difference between `file.read()` and `file.readline()`?\n",
        "\n",
        "- `file.read()` reads the **entire file content** as a single string.\n",
        "- `file.readline()` reads **one line at a time**.\n",
        "\n",
        "**Example:**\n",
        "```python\n",
        "with open(\"sample.txt\", \"r\") as f:\n",
        "    all_content = f.read()        # Whole file\n",
        "    # or\n",
        "    f.seek(0)\n",
        "    first_line = f.readline()     # Just first line\n",
        "```\n",
        "\n",
        "\n",
        "---\n",
        "\n",
        "## Q21. What is the logging module in Python used for?\n",
        "\n",
        "The `logging` module provides a flexible way to log messages from applications for **debugging, monitoring, and auditing**.\n",
        "\n",
        "**Features:**\n",
        "- Multiple severity levels\n",
        "- Output to files or console\n",
        "- Configurable format and destination\n",
        "- Better alternative to `print()`\n",
        "\n",
        "**Example:**\n",
        "```python\n",
        "import logging\n",
        "logging.basicConfig(filename=\"log.txt\", level=logging.INFO)\n",
        "logging.info(\"Application started\")\n",
        "```\n",
        "\n",
        "---\n",
        "\n",
        "## Q22. What is the `os` module in Python used for in file handling?\n",
        "\n",
        "The `os` module provides **functions to interact with the operating system**, especially useful in file and directory handling.\n",
        "\n",
        "Key Functions of the os Module for File Handling\n",
        "``` markdown\n",
        "Function\t                       Purpose\t                            Example Usage\n",
        "os.remove(path)   \t     Deletes a file at the given path\t         os.remove(\"file.txt\")\n",
        "os.rename(src, dst)\t     Renames or moves a file/directory\t         os.rename(\"old.txt\", \"new.txt\")\n",
        "os.listdir(path=\".\")\t Lists all files and directories in the      os.listdir()\n",
        "                         specified directory\t                   \n",
        "os.path.exists(path)\t Checks if a file or directory exists\t     os.path.exists(\"data.txt\")\n",
        "os.mkdir(path)\t         Creates a new directory\t                 os.mkdir(\"new_folder\")\n",
        "os.makedirs(path)\t     Recursively creates directories\t         os.makedirs(\"a/b/c\")\n",
        "os.getcwd()\t             Returns the current working directory\t     cwd = os.getcwd()\n",
        "os.chdir(path)\t         Changes the current working directory\t     os.chdir(\"/path/to/dir\")\n",
        "os.path.isfile(path)\t Checks if a path is a file\t                 os.path.isfile(\"data.txt\")\n",
        "os.path.isdir(path)\t     Checks if a path is a directory\t         os.path.isdir(\"folder\")\n",
        "```\n",
        "**Example:**\n",
        "```python\n",
        "import os\n",
        "\n",
        "file_path = \"data.txt\"\n",
        "\n",
        "# Check if the file exists before deleting it to avoid errors\n",
        "if os.path.exists(file_path):\n",
        "    try:\n",
        "        os.remove(file_path)  # Delete the file\n",
        "        print(f\"File '{file_path}' has been deleted successfully.\")\n",
        "    except PermissionError:\n",
        "        print(f\"Permission denied: cannot delete '{file_path}'.\")\n",
        "    except Exception as e:\n",
        "        print(f\"Error deleting file '{file_path}': {e}\")\n",
        "else:\n",
        "    print(f\"File '{file_path}' does not exist.\")\n",
        "\n",
        "```\n",
        "\n",
        "---\n",
        "\n",
        "## Q23. What are the challenges associated with memory management in Python?\n",
        "\n",
        "Python handles memory automatically, but challenges still exist:\n",
        "\n",
        "1. **Circular references**: Two objects referencing each other may prevent garbage collection.\n",
        "2. **Memory leaks**: Due to poor variable management or unused references.\n",
        "3. **Large data handling**: High memory consumption for large datasets.\n",
        "4. **Global Interpreter Lock (GIL)**: Limits multi-threaded performance on multi-core CPUs.\n",
        "5. **Caching and mutation**: Mutable objects like lists can cause unintended memory growth.\n",
        "\n",
        "**Solution:**\n",
        "- Use `gc` module to debug\n",
        "- Use generators and iterators for large data\n",
        "- Proper variable scope management\n",
        "---\n",
        "## Q24.How do you raise an exception manually in Python?\\\n",
        "\n",
        "You can use the `raise` keyword to manually trigger an exception when a specific condition occurs.\n",
        "\n",
        "```python\n",
        "age = -5\n",
        "if age < 0:\n",
        "    raise ValueError(\"Age cannot be negative\")\n",
        "```\n",
        "\n",
        "---\n",
        "\n",
        "## Q25. Why is it important to use multithreading in certain applications?\n",
        "\n",
        "```markdown\n",
        "**Multithreading** is useful for **I/O-bound tasks** like file operations, API requests, or user interaction because:\n",
        "\n",
        "- Threads **share memory**, making data sharing easy.\n",
        "- Increases **responsiveness** in UI-based applications.\n",
        "- Helps perform **background tasks** while the main program continues.\n",
        "\n",
        "**Example:**\n",
        "```python\n",
        "from threading import Thread\n",
        "\n",
        "def task():\n",
        "    print(\"Running in a thread\")\n",
        "\n",
        "t = Thread(target=task)\n",
        "t.start()\n",
        "```"
      ]
    },
    {
      "cell_type": "markdown",
      "metadata": {
        "id": "5OpKn3NxJaL8"
      },
      "source": [
        "# Practical Questions"
      ]
    },
    {
      "cell_type": "code",
      "execution_count": 10,
      "metadata": {
        "id": "aAXTUtDJJkNK"
      },
      "outputs": [],
      "source": [
        "# 1.How can you open a file for writing in Python and write a string to it\n",
        "with open(\"file1.txt\",'w') as f:\n",
        "  f.write(\"This is the First Line\")\n"
      ]
    },
    {
      "cell_type": "code",
      "execution_count": 28,
      "metadata": {
        "colab": {
          "base_uri": "https://localhost:8080/"
        },
        "id": "GCHsv3NOeK0c",
        "outputId": "194c3c88-5e45-4096-e8d7-25dcdca02aa7"
      },
      "outputs": [
        {
          "name": "stdout",
          "output_type": "stream",
          "text": [
            "This is the First Line\n",
            "\n",
            "This is the Second Line\n",
            "\n",
            "This is the Third Line\n"
          ]
        }
      ],
      "source": [
        "# 2.Write a Python program to read the contents of a file and print each line\n",
        "with open(\"file2.txt\",\"r\") as f:\n",
        "  for i in f:\n",
        "    print(i)"
      ]
    },
    {
      "cell_type": "code",
      "execution_count": 33,
      "metadata": {
        "colab": {
          "base_uri": "https://localhost:8080/"
        },
        "id": "_7UaojP-eYoz",
        "outputId": "77b3f0b4-775e-4ecf-94cf-a6472197d249"
      },
      "outputs": [
        {
          "name": "stdout",
          "output_type": "stream",
          "text": [
            "[Errno 2] No such file or directory: 'file3.txt'\n"
          ]
        }
      ],
      "source": [
        "# 3.How would you handle a case where the file doesn't exist while trying to open it for reading\n",
        "try:\n",
        "  with open(\"file3.txt\",\"r\") as f:\n",
        "    f.read()\n",
        "except Exception as e:\n",
        "  print(e)\n"
      ]
    },
    {
      "cell_type": "code",
      "execution_count": 35,
      "metadata": {
        "colab": {
          "base_uri": "https://localhost:8080/"
        },
        "id": "1Hj_1PJbftfX",
        "outputId": "c64e3d5f-0e6d-4dfd-ba5d-8b973d22d001"
      },
      "outputs": [
        {
          "name": "stdout",
          "output_type": "stream",
          "text": [
            "This is the First Line\n",
            "This is the Second Line\n",
            "This is the Third Line\n"
          ]
        }
      ],
      "source": [
        "# 4.Write a Python script that reads from one file and writes its content to another file\n",
        "import shutil\n",
        "\n",
        "shutil.copy(\"file2.txt\",\"file3.txt\") #this will copy content of file2.txt to file3.txt\n",
        "\n",
        "with open(\"file3.txt\",\"r\") as f:\n",
        "  print(f.read())"
      ]
    },
    {
      "cell_type": "code",
      "execution_count": 37,
      "metadata": {
        "colab": {
          "base_uri": "https://localhost:8080/"
        },
        "id": "D3MkVCWHg2aD",
        "outputId": "98d6543b-8a41-4baf-ff40-b2501f0f4b8c"
      },
      "outputs": [
        {
          "name": "stdout",
          "output_type": "stream",
          "text": [
            "Exception occured :division by zero\n"
          ]
        }
      ],
      "source": [
        "#5.How would you catch and handle division by zero error in Python\n",
        "try:\n",
        "  c=10/0\n",
        "  print(c)\n",
        "except ZeroDivisionError as e:\n",
        "  print(f\"Exception occured :{e}\")"
      ]
    },
    {
      "cell_type": "code",
      "execution_count": null,
      "metadata": {
        "id": "3MI0zcl4hU8U"
      },
      "outputs": [],
      "source": [
        "#6.Write a Python program that logs an error message to a log file when a division by zero exception occurs\n",
        "import logging\n",
        "logging.basicConfig(filename=\"logfile.log\", level=logging.ERROR)\n",
        "\n",
        "try:\n",
        "    c = 10 / 0\n",
        "except ZeroDivisionError as e:\n",
        "    logging.error(\"Caught an exception: %s\", e)\n"
      ]
    },
    {
      "cell_type": "code",
      "execution_count": null,
      "metadata": {},
      "outputs": [
        {
          "name": "stdout",
          "output_type": "stream",
          "text": [
            "ERROR:root:Caught an exception: division by zero\n",
            "ERROR:root:Caught an exception: division by zero\n",
            "\n"
          ]
        }
      ],
      "source": [
        "with open(\"logfile.log\",\"r\") as f:\n",
        "    print(f.read())"
      ]
    },
    {
      "cell_type": "code",
      "execution_count": null,
      "metadata": {},
      "outputs": [],
      "source": [
        "#7.How do you log information at different levels (INFO, ERROR, WARNING) in Python using the logging module\n",
        "import logging\n",
        "logging.basicConfig(\n",
        "    level=logging.INFO, \n",
        "    format='%(asctime)s - %(levelname)s - %(message)s',  \n",
        "    filename='logfile.log',\n",
        "    filemode='w'\n",
        ")\n",
        "# Log messages of different severity levels\n",
        "logging.debug(\"This is a DEBUG message\")    # (This will not be logged as level is INFO)\n",
        "logging.info(\"This is an INFO message\")     \n",
        "logging.warning(\"This is a WARNING message\") \n",
        "logging.error(\"This is an ERROR message\")\n",
        "logging.critical(\"This is a CRITICAL message\")"
      ]
    },
    {
      "cell_type": "code",
      "execution_count": 2,
      "metadata": {},
      "outputs": [
        {
          "name": "stdout",
          "output_type": "stream",
          "text": [
            "2025-07-08 22:26:32,036 - INFO - This is an INFO message\n",
            "2025-07-08 22:26:32,036 - WARNING - This is a WARNING message\n",
            "2025-07-08 22:26:32,037 - ERROR - This is an ERROR message\n",
            "2025-07-08 22:26:32,037 - CRITICAL - This is a CRITICAL message\n",
            "\n"
          ]
        }
      ],
      "source": [
        "with open(\"logfile.log\",\"r\") as f:\n",
        "    print(f.read())"
      ]
    },
    {
      "cell_type": "code",
      "execution_count": 12,
      "metadata": {},
      "outputs": [
        {
          "name": "stdout",
          "output_type": "stream",
          "text": [
            "Error: The file was not found.\n"
          ]
        }
      ],
      "source": [
        "# 8.Write a program to handle a file opening error using exception handling\n",
        "try:\n",
        "      with open(\"file.txt\", 'r') as file:\n",
        "        content = file.read()\n",
        "        print(\"File content:\\n\", content)\n",
        "except FileNotFoundError:\n",
        "      print(f\"Error: The file was not found.\")\n",
        "except PermissionError:\n",
        "      print(f\"Error: Permission denied while trying to open file.\")\n",
        "except Exception as e:\n",
        "      print(f\"An unexpected error occurred: {e}\")"
      ]
    },
    {
      "cell_type": "code",
      "execution_count": 25,
      "metadata": {},
      "outputs": [
        {
          "name": "stdout",
          "output_type": "stream",
          "text": [
            "['This is first line', 'This is second line', 'This is third line', 'This is fourth line']\n"
          ]
        }
      ],
      "source": [
        "# 9.How can you read a file line by line and store its content in a list in Python\n",
        "l=[]\n",
        "with open(\"file.txt\",\"r\") as f:\n",
        "    for i in f:\n",
        "        l.append(i.removesuffix(\"\\n\"))\n",
        "    # OR we can use read lines\n",
        "    # f.seek(0)\n",
        "    # l=f.readlines()\n",
        "print(l)"
      ]
    },
    {
      "cell_type": "code",
      "execution_count": 28,
      "metadata": {},
      "outputs": [
        {
          "name": "stdout",
          "output_type": "stream",
          "text": [
            "This is first line\n",
            "This is second line\n",
            "This is third line\n",
            "This is fourth line\n",
            "This is fifth line\n"
          ]
        }
      ],
      "source": [
        "# 10.How can you append data to an existing file in Python\n",
        "with open(\"file.txt\",\"a\") as f:\n",
        "    f.write(\"\\nThis is fifth line\")\n",
        "\n",
        "with open(\"file.txt\",\"r\") as f:\n",
        "    print(f.read())"
      ]
    },
    {
      "cell_type": "code",
      "execution_count": 38,
      "metadata": {},
      "outputs": [
        {
          "name": "stdout",
          "output_type": "stream",
          "text": [
            "KeyError: 'roll'\n"
          ]
        }
      ],
      "source": [
        "# 11.Write a Python program that uses a try-except block to handle an error when attempting to access a dictionary key that doesn't exist\n",
        "d={\"name\":\"Ram\",\"age\":\"21\"}\n",
        "try:\n",
        "    Roll=d[\"roll\"]\n",
        "except KeyError as e:\n",
        "    print(\"KeyError:\", e)\n"
      ]
    },
    {
      "cell_type": "code",
      "execution_count": 42,
      "metadata": {},
      "outputs": [
        {
          "name": "stdout",
          "output_type": "stream",
          "text": [
            "Error: Please enter valid integers.\n"
          ]
        }
      ],
      "source": [
        "#12.Write a program that demonstrates using multiple except blocks to handle different types of exceptions\n",
        "def divide_numbers():\n",
        "    try:\n",
        "        num1 = int(input(\"Enter the numerator: \"))\n",
        "        num2 = int(input(\"Enter the denominator: \"))\n",
        "        result = num1 / num2\n",
        "        print(f\"The result is: {result}\")\n",
        "    except ValueError:\n",
        "        print(f\"Error: Please enter valid integers.\")\n",
        "    except ZeroDivisionError:\n",
        "        print(\"Error: Division by zero is not allowed.\")\n",
        "    except Exception as e:\n",
        "        print(f\"An unexpected error occurred: {e}\")\n",
        "\n",
        "# Run the function\n",
        "divide_numbers()"
      ]
    },
    {
      "cell_type": "code",
      "execution_count": 45,
      "metadata": {},
      "outputs": [
        {
          "data": {
            "text/plain": [
              "True"
            ]
          },
          "execution_count": 45,
          "metadata": {},
          "output_type": "execute_result"
        }
      ],
      "source": [
        "#13. How would you check if a file exists before attempting to read it in Python\n",
        "import os\n",
        "os.path.isfile(\"file.txt\")"
      ]
    },
    {
      "cell_type": "code",
      "execution_count": 46,
      "metadata": {},
      "outputs": [
        {
          "data": {
            "text/plain": [
              "False"
            ]
          },
          "execution_count": 46,
          "metadata": {},
          "output_type": "execute_result"
        }
      ],
      "source": [
        "os.path.isfile(\"test.txt\")"
      ]
    },
    {
      "cell_type": "code",
      "execution_count": 47,
      "metadata": {},
      "outputs": [],
      "source": [
        "#14. Write a program that uses the logging module to log both informational and error messages\n",
        "import logging\n",
        "\n",
        "logging.basicConfig(\n",
        "    level=logging.INFO,\n",
        "    format='%(asctime)s - %(levelname)s - %(message)s',\n",
        "    filename='logfile.log', \n",
        "    filemode='w'      \n",
        ")\n",
        "\n",
        "def divide(a, b):\n",
        "    try:\n",
        "        logging.info(f\"Attempting to divide {a} by {b}\")\n",
        "        result = a / b\n",
        "        logging.info(f\"Result: {result}\")\n",
        "        return result\n",
        "    except ZeroDivisionError as e:\n",
        "        logging.error(\"Error: Division by zero\")\n",
        "        return None\n",
        "    except Exception as e:\n",
        "        logging.error(f\"Unexpected error: {e}\")\n",
        "        return None\n",
        "\n",
        "# Example usage\n",
        "divide(10, 2)\n",
        "divide(5, 0)\n"
      ]
    },
    {
      "cell_type": "code",
      "execution_count": 48,
      "metadata": {},
      "outputs": [
        {
          "name": "stdout",
          "output_type": "stream",
          "text": [
            "\u0000\u0000\u0000\u0000\u0000\u0000\u0000\u0000\u0000\u0000\u0000\u0000\u0000\u0000\u0000\u0000\u0000\u0000\u0000\u0000\u0000\u0000\u0000\u0000\u0000\u0000\u0000\u0000\u0000\u0000\u0000\u0000\u0000\u0000\u0000\u0000\u0000\u0000\u0000\u0000\u0000\u0000\u0000\u0000\u0000\u0000\u0000\u0000\u0000\u0000\u0000\u0000\u0000\u0000\u0000\u0000\u0000\u0000\u0000\u0000\u0000\u0000\u0000\u0000\u0000\u0000\u0000\u0000\u0000\u0000\u0000\u0000\u0000\u0000\u0000\u0000\u0000\u0000\u0000\u0000\u0000\u0000\u0000\u0000\u0000\u0000\u0000\u0000\u0000\u0000\u0000\u0000\u0000\u0000\u0000\u0000\u0000\u0000\u0000\u0000\u0000\u0000\u0000\u0000\u0000\u0000\u0000\u0000\u0000\u0000\u0000\u0000\u0000\u0000\u0000\u0000\u0000\u0000\u0000\u0000\u0000\u0000\u0000\u0000\u0000\u0000\u0000\u0000\u0000\u0000\u0000\u0000\u0000\u0000\u0000\u0000\u0000\u0000\u0000\u0000\u0000\u0000\u0000\u0000\u0000\u0000\u0000\u0000\u0000\u0000\u0000\u0000\u0000\u0000\u0000\u0000\u0000\u0000\u0000\u0000\u0000\u0000\u0000\u0000\u0000\u0000\u0000\u0000\u0000\u0000\u0000\u0000\u0000\u0000\u0000\u0000\u0000\u0000\u0000\u0000\u0000\u0000\u0000\u0000\u0000\u0000\u0000\u0000\u0000\u0000\u0000\u0000\u0000\u0000\u0000\u0000\u0000\u0000\u0000\u0000\u0000\u0000\u0000\u0000\u0000\u0000\u0000\u0000\u0000\u0000\u0000\u0000\u0000\u0000\u0000\u0000\u0000\u0000\u0000\u0000\u0000\u0000\u0000\u0000\u0000\u0000\u0000\u0000\u0000\u0000\u0000\u0000\u0000\u0000\u0000\u0000\u0000\u0000\u0000\u0000\u0000\u0000\u0000\u0000\u0000\u00002025-07-08 22:52:27,317 - INFO - Attempting to divide 10 by 2\n",
            "2025-07-08 22:52:27,317 - INFO - Result: 5.0\n",
            "2025-07-08 22:52:27,318 - INFO - Attempting to divide 5 by 0\n",
            "2025-07-08 22:52:27,318 - ERROR - Error: Division by zero\n",
            "\n"
          ]
        }
      ],
      "source": [
        "with open(\"logfile.log\",\"r\") as f:\n",
        "    print(f.read())"
      ]
    },
    {
      "cell_type": "code",
      "execution_count": 52,
      "metadata": {},
      "outputs": [
        {
          "name": "stdout",
          "output_type": "stream",
          "text": [
            "This is first line\n",
            "This is second line\n",
            "This is third line\n",
            "This is fourth line\n",
            "This is fifth line\n"
          ]
        }
      ],
      "source": [
        "# 15.Write a Python program that prints the content of a file and handles the case when the file is empty\n",
        "def read_file(file):\n",
        "    try:\n",
        "        with open(\"file.txt\",\"r\") as f:\n",
        "            content=f.read()\n",
        "        if(content==\"\"):\n",
        "            raise Exception(\"File Empty\")\n",
        "        print(content)\n",
        "    except Exception as e:\n",
        "        print(e)\n",
        "\n",
        "read_file(\"file.txt\")\n"
      ]
    },
    {
      "cell_type": "code",
      "execution_count": 53,
      "metadata": {},
      "outputs": [
        {
          "name": "stdout",
          "output_type": "stream",
          "text": [
            "File Empty\n"
          ]
        }
      ],
      "source": [
        "#  After removing content from file\n",
        "read_file(\"file.txt\")"
      ]
    },
    {
      "cell_type": "code",
      "execution_count": null,
      "metadata": {},
      "outputs": [],
      "source": [
        "# 16.Demonstrate how to use memory profiling to check the memory usage of a small program\n",
        "from memory_profiler import profile\n",
        "\n",
        "@profile\n",
        "def create_large_list():\n",
        "    # This function creates a large list to simulate memory usage\n",
        "    large_list = [i * 2 for i in range(1000000)]\n",
        "    return large_list\n",
        "\n",
        "if __name__ == '__main__':\n",
        "    create_large_list()\n",
        "\n",
        "\n",
        "# python -m memory_profiler script.py    Run using Command line\n",
        "\n",
        "# OUTPUT\n",
        "# Line #    Mem usage    Increment  Occurrences   Line Contents\n",
        "# =============================================================\n",
        "#      3     10.3 MiB     10.3 MiB           1   @profile\n",
        "#      4                                         def create_large_list():\n",
        "#      5     63.8 MiB     53.5 MiB           1       large_list = [i * 2 for i in range(1000000)]\n",
        "#      6     63.8 MiB      0.0 MiB           1       return large_list"
      ]
    },
    {
      "cell_type": "code",
      "execution_count": null,
      "metadata": {},
      "outputs": [
        {
          "name": "stdout",
          "output_type": "stream",
          "text": [
            "List to write: ['0\\n', '1\\n', '2\\n', '3\\n', '4\\n', '5\\n', '6\\n', '7\\n', '8\\n', '9\\n', '10\\n', '11\\n', '12\\n', '13\\n', '14\\n', '15\\n', '16\\n', '17\\n', '18\\n', '19\\n', '20\\n', '21\\n', '22\\n', '23\\n', '24\\n', '25\\n', '26\\n', '27\\n', '28\\n', '29\\n', '30\\n']\n",
            "File content:\n",
            " 0\n",
            "1\n",
            "2\n",
            "3\n",
            "4\n",
            "5\n",
            "6\n",
            "7\n",
            "8\n",
            "9\n",
            "10\n",
            "11\n",
            "12\n",
            "13\n",
            "14\n",
            "15\n",
            "16\n",
            "17\n",
            "18\n",
            "19\n",
            "20\n",
            "21\n",
            "22\n",
            "23\n",
            "24\n",
            "25\n",
            "26\n",
            "27\n",
            "28\n",
            "29\n",
            "30\n",
            "\n"
          ]
        }
      ],
      "source": [
        "#  17.Write a Python program to create and write a list of numbers to a file, one number per line\n",
        "l = [str(i) + \"\\n\" for i in range(0, 31)]\n",
        "print(\"List to write:\", l)\n",
        "x = []\n",
        "with open(\"file.txt\", \"w+\") as f:\n",
        "    f.writelines(l)\n",
        "    f.seek(0)  # Move the file pointer back to the beginning\n",
        "    print(\"File content:\\n\", f.read())\n",
        "    "
      ]
    },
    {
      "cell_type": "code",
      "execution_count": null,
      "metadata": {},
      "outputs": [],
      "source": [
        "# 18.How would you implement a basic logging setup that logs to a file with rotation after 1MB\n",
        "import logging\n",
        "from logging.handlers import RotatingFileHandler\n",
        "\n",
        "log_handler = RotatingFileHandler(\n",
        "    \"app.log\",      \n",
        "    maxBytes=1 * 1024 * 1024,  # 1 MB\n",
        "    backupCount=3      # Keep up to 3 backup files (app.log.1, app.log.2, etc.)\n",
        ")\n",
        "# Set log format\n",
        "formatter = logging.Formatter('%(asctime)s - %(levelname)s - %(message)s')\n",
        "log_handler.setFormatter(formatter)\n",
        "\n",
        "# Set up the logger\n",
        "logger = logging.getLogger(\"MyLogger\")\n",
        "logger.setLevel(logging.INFO) \n",
        "logger.addHandler(log_handler)\n",
        "for i in range(10000):\n",
        "    logger.info(f\"This is log message #{i}\")\n",
        "\n",
        "# files created\n",
        "# app.log\n",
        "# app.log.1\n",
        "# app.log.2\n",
        "# app.log.3\n",
        "# Older files are deleted once the backup limit is reached."
      ]
    },
    {
      "cell_type": "code",
      "execution_count": null,
      "metadata": {},
      "outputs": [
        {
          "name": "stdout",
          "output_type": "stream",
          "text": [
            "Caught an IndexError: List index out of range.\n"
          ]
        }
      ],
      "source": [
        "#19.Write a program that handles both IndexError and KeyError using a try-except block\n",
        "def handle_errors():\n",
        "    my_list = [10, 20, 30]\n",
        "    my_dict = {'a': 1, 'b': 2}\n",
        "\n",
        "    try:\n",
        "        # Try to access an invalid index\n",
        "        print(\"Accessing list element at index 5:\", my_list[5])\n",
        "        # Try to access a non-existent key\n",
        "        print(\"Accessing value with key 'z':\", my_dict['z'])\n",
        "\n",
        "    except IndexError:\n",
        "        print(\"Caught an IndexError: List index out of range.\")\n",
        "\n",
        "    except KeyError:\n",
        "        print(\"Caught a KeyError: Key not found in the dictionary.\")\n",
        "\n",
        "    except Exception as e:\n",
        "        print(f\"An unexpected error occurred: {e}\")\n",
        "\n",
        "handle_errors()\n"
      ]
    },
    {
      "cell_type": "code",
      "execution_count": 79,
      "metadata": {},
      "outputs": [
        {
          "name": "stdout",
          "output_type": "stream",
          "text": [
            "File content:\n",
            " reading content from file\n",
            "\n"
          ]
        }
      ],
      "source": [
        "# 20.How would you open a file and read its contents using a context manager in Python\n",
        "filename = \"file.txt\"\n",
        "try:\n",
        "    with open(filename, \"r\") as file:\n",
        "        content = file.read()\n",
        "        print(\"File content:\\n\", content)\n",
        "except FileNotFoundError:\n",
        "    print(f\"Error: The file '{filename}' does not exist.\")\n",
        "except Exception as e:\n",
        "    print(f\"An error occurred: {e}\")\n"
      ]
    },
    {
      "cell_type": "code",
      "execution_count": null,
      "metadata": {},
      "outputs": [
        {
          "name": "stdout",
          "output_type": "stream",
          "text": [
            "file content:  Python is great. Python is powerful. I love Python!\n",
            "\n",
            "Python has occured 3 times\n"
          ]
        }
      ],
      "source": [
        "#21.Write a Python program that reads a file and prints the number of occurrences of a specific word\n",
        "with open(\"file.txt\",\"r\") as f:\n",
        "    content=f.read()\n",
        "    print(\"file content: \",content)\n",
        "    print(content.)\n",
        "    print(f\"Python has occured {content.count(\"Python\")} times\")\n"
      ]
    },
    {
      "cell_type": "code",
      "execution_count": null,
      "metadata": {},
      "outputs": [
        {
          "name": "stdout",
          "output_type": "stream",
          "text": [
            "Size of 'file.txt' is 0 bytes\n",
            "The file is empty.\n"
          ]
        }
      ],
      "source": [
        "#22.How can you check if a file is empty before attempting to read its contents\n",
        "import os\n",
        "\n",
        "filename = \"file.txt\"\n",
        "\n",
        "if os.path.exists(filename):\n",
        "    size = os.path.getsize(filename)\n",
        "    print(f\"Size of '{filename}' is {size} bytes\")\n",
        "    if size > 0:\n",
        "        with open(filename, 'r') as f:\n",
        "            content = f.read()\n",
        "            print(\"File content:\\n\", content)\n",
        "    else:\n",
        "        print(\"The file is empty.\")\n",
        "else:\n",
        "    print(f\"The file '{filename}' does not exist.\")"
      ]
    },
    {
      "cell_type": "code",
      "execution_count": 1,
      "metadata": {},
      "outputs": [
        {
          "name": "stdout",
          "output_type": "stream",
          "text": [
            "An error occurred. Check the log file for details.\n"
          ]
        }
      ],
      "source": [
        "# 23.Write a Python program that writes to a log file when an error occurs during file handling.\n",
        "import logging\n",
        "logging.basicConfig(\n",
        "    filename=\"logfile.log\",\n",
        "    level=logging.ERROR,\n",
        "    format='%(asctime)s - %(levelname)s - %(message)s'\n",
        ")\n",
        "\n",
        "def read_file(filename):\n",
        "    try:\n",
        "        with open(filename, 'r') as file:\n",
        "            content = file.read()\n",
        "            print(\"File content:\\n\", content)\n",
        "    except Exception as e:\n",
        "        logging.error(f\"Error occurred while handling the file '{filename}': {e}\")\n",
        "        print(f\"An error occurred. Check the log file for details.\")\n",
        "\n",
        "# Example usage\n",
        "filename =\"text.txt\"\n",
        "read_file(filename)\n"
      ]
    },
    {
      "cell_type": "code",
      "execution_count": 2,
      "metadata": {},
      "outputs": [
        {
          "name": "stdout",
          "output_type": "stream",
          "text": [
            "2025-07-09 00:42:54,153 - ERROR - Error occurred while handling the file 'text.txt': [Errno 2] No such file or directory: 'text.txt'\n",
            "\n"
          ]
        }
      ],
      "source": [
        "with open(\"logfile.log\",\"r\") as f:\n",
        "    print(f.read())"
      ]
    }
  ],
  "metadata": {
    "colab": {
      "provenance": []
    },
    "kernelspec": {
      "display_name": "Python 3",
      "name": "python3"
    },
    "language_info": {
      "codemirror_mode": {
        "name": "ipython",
        "version": 3
      },
      "file_extension": ".py",
      "mimetype": "text/x-python",
      "name": "python",
      "nbconvert_exporter": "python",
      "pygments_lexer": "ipython3",
      "version": "3.12.4"
    }
  },
  "nbformat": 4,
  "nbformat_minor": 0
}
