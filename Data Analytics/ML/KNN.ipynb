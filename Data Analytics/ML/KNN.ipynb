{
  "nbformat": 4,
  "nbformat_minor": 0,
  "metadata": {
    "colab": {
      "provenance": []
    },
    "kernelspec": {
      "name": "python3",
      "display_name": "Python 3"
    },
    "language_info": {
      "name": "python"
    }
  },
  "cells": [
    {
      "cell_type": "markdown",
      "source": [
        "# Question 1: What is the fundamental idea behind ensemble techniques? How does bagging differ from boosting in terms of approach and objective?\n",
        "\n",
        "## Fundamental Idea of Ensemble Techniques\n",
        "\n",
        "The main idea behind **ensemble techniques** is to **combine multiple individual models (called base learners)** to create a stronger and more accurate model.  \n",
        "The intuition is that **a group of weak models working together can outperform a single strong model**, just like a team effort is often better than an individual effort.\n",
        "\n",
        "In other words, ensemble methods reduce errors by leveraging **diversity among models** and **aggregating their predictions**.\n",
        "\n",
        "## Bagging (Bootstrap Aggregating)\n",
        "\n",
        "**Approach:**\n",
        "- Bagging trains multiple models **in parallel** on different random subsets of the data.\n",
        "- Each subset is created by **random sampling with replacement** (called bootstrapping).\n",
        "- The final prediction is made by **averaging (for regression)** or **majority voting (for classification)**.\n",
        "\n",
        "**Objective:**\n",
        "- The goal of bagging is to **reduce variance** and prevent **overfitting**.\n",
        "- Example algorithms:  \n",
        "  - **Random Forest** (ensemble of decision trees using bagging)\n",
        "\n",
        "**Workflow:**\n",
        "1. Create multiple bootstrapped datasets from the original dataset.  \n",
        "2. Train a separate model (e.g., decision tree) on each dataset.  \n",
        "3. Combine their predictions through averaging or voting.\n",
        "\n",
        "\n",
        "## Boosting\n",
        "\n",
        "**Approach:**\n",
        "- Boosting trains models **sequentially**, where each new model **focuses on correcting the mistakes** made by previous models.\n",
        "- It gives **more weight to misclassified samples**, forcing the next model to learn them better.\n",
        "\n",
        "**Objective:**\n",
        "- The goal of boosting is to **reduce bias** and improve **model accuracy**.\n",
        "- Example algorithms:  \n",
        "  - **AdaBoost (Adaptive Boosting)**  \n",
        "  - **Gradient Boosting**, **XGBoost**, **LightGBM**\n",
        "\n",
        "**EWorkflow:**\n",
        "1. Train a weak model on the full dataset.  \n",
        "2. Increase weights of misclassified samples.  \n",
        "3. Train the next model to correct those mistakes.  \n",
        "4. Combine all weak learners for final prediction.\n",
        "\n",
        "\n",
        "| Aspect               | **Bagging** | **Boosting** |\n",
        "|----------------------|-------------|---------------|\n",
        "| Training Type        | Parallel     | Sequential    |\n",
        "| Focus                | Reducing variance | Reducing bias |\n",
        "| Data Sampling        | Bootstrapped subsets | Weighted data based on previous errors |\n",
        "| Model Dependency     | Independent models | Dependent models (each builds on previous) |\n",
        "| Common Algorithms    | Random Forest | AdaBoost, Gradient Boosting, XGBoost |\n",
        "| Strength             | Stability, Less overfitting | High accuracy, Lower bias |\n",
        "| Weakness             | May not reduce bias | Sensitive to noise & overfitting |\n",
        "\n",
        "---\n"
      ],
      "metadata": {
        "id": "-TClVsrVoDx5"
      }
    },
    {
      "cell_type": "markdown",
      "source": [
        "# Question 2: Explain how the Random Forest Classifier reduces overfitting compared to a single decision tree. Mention the role of two key hyperparameters in this process.\n",
        "\n",
        "##How Random Forest Reduces Overfitting\n",
        "\n",
        "A **single Decision Tree** often tends to **overfit** the training data because it tries to perfectly classify all training examples, capturing noise and small variations in the dataset.\n",
        "\n",
        "A **Random Forest Classifier**, on the other hand, is an **ensemble of multiple decision trees** built on different random subsets of the data and features.  \n",
        "It combines their predictions (via **majority voting** for classification) to make the final decision.\n",
        "\n",
        "This randomization and aggregation process helps in **reducing variance** and **improving generalization**, which significantly lowers the chances of overfitting.\n",
        "\n",
        "\n",
        "### 1. **Random Sampling of Data (Bagging)**\n",
        "- Each decision tree in the forest is trained on a **different random subset** of the original dataset (with replacement).\n",
        "- Because every tree sees slightly different data, they learn different decision boundaries.\n",
        "- When their predictions are averaged (or voted), **random errors cancel out**, reducing overfitting.\n",
        "\n",
        "### 2. **Random Feature Selection**\n",
        "- During the construction of each tree, **only a random subset of features** is considered at each split.\n",
        "- This prevents highly correlated trees from forming and promotes **model diversity**.\n",
        "- As a result, no single strong feature dominates all trees, making the model more robust.\n",
        "\n",
        "\n",
        "##Two Key Hyperparameters That Help Reduce Overfitting\n",
        "\n",
        "| **Hyperparameter** | **Description** | **Effect on Overfitting** |\n",
        "|--------------------|------------------|----------------------------|\n",
        "| `n_estimators` | The number of trees in the forest. | More trees generally improve performance and reduce overfitting by averaging out noise, but too many can increase computation time. |\n",
        "| `max_features` | The number of features to consider when looking for the best split. | Lower values (e.g., `'sqrt'` or `'log2'`) make trees less correlated, increasing model diversity and reducing overfitting. |\n",
        "\n",
        "- **Random Forest** reduces overfitting by introducing randomness in both:\n",
        "  - **Data sampling (bagging)**\n",
        "  - **Feature selection (random subsets per split)**  \n",
        "- The **ensemble averaging** smooths out the noise that an individual decision tree might capture.\n",
        "- Proper tuning of `n_estimators` and `max_features` further helps in building a model that is **both accurate and generalizable**.\n"
      ],
      "metadata": {
        "id": "8a4Lwvn9t6xJ"
      }
    },
    {
      "cell_type": "markdown",
      "source": [
        "---\n",
        "# Question 3: What is Stacking in Ensemble Learning? How does it differ from traditional Bagging/Boosting methods? Provide a simple example use case.\n",
        "\n",
        "## Stacking:\n",
        "\n",
        "**Stacking (Stacked Generalization)** is an **ensemble learning technique** that combines multiple different machine learning models (called **base models**) and uses another model (called a **meta-learner** or **blender**) to make the final prediction.\n",
        "\n",
        "- Instead of taking a simple majority vote (as in bagging) or sequentially improving weak models (as in boosting), stacking **learns how to best combine the predictions** of several base models using a meta-model.\n",
        "\n",
        "## Working\n",
        "\n",
        "1. **Train Base Models (Level-0 models):**\n",
        "   - Train different models (e.g., Decision Tree, SVM, Logistic Regression) on the training data.\n",
        "   - Each model makes predictions on the validation data.\n",
        "\n",
        "2. **Generate Meta Features:**\n",
        "   - The predictions from these base models become **inputs (features)** for the next-level model.\n",
        "\n",
        "3. **Train Meta-Model (Level-1 model):**\n",
        "   - A separate model (like Logistic Regression or Random Forest) learns to combine the base model predictions and make the **final output**.\n",
        "\n",
        "\n",
        "##  Difference Between Bagging, Boosting, and Stacking\n",
        "\n",
        "| **Aspect** | **Bagging** | **Boosting** | **Stacking** |\n",
        "|-------------|-------------|---------------|---------------|\n",
        "| **Goal** | Reduce variance | Reduce bias | Combine strengths of different models |\n",
        "| **Model Type** | Same model type (e.g., many Decision Trees in Random Forest) | Sequentially improved weak learners | Different model types combined |\n",
        "| **Training Process** | Independent models trained in parallel | Sequential models where each focuses on previous errors | Models trained independently, then meta-model combines their outputs |\n",
        "| **Final Prediction** | Majority vote or average | Weighted sum of weak learners | Meta-learner decides best combination |\n",
        "\n",
        "## Example Use Case\n",
        "\n",
        "**Use Case:** Predicting whether an email is spam or not.\n",
        "\n",
        "- **Base Models (Level 0):**\n",
        "  - Logistic Regression → good at linear patterns  \n",
        "  - Decision Tree → captures non-linear relationships  \n",
        "  - Naïve Bayes → works well with text data  \n",
        "\n",
        "- **Meta Model (Level 1):**\n",
        "  - Random Forest → learns from the predictions of the above models to make a final decision.\n",
        "\n",
        "This approach can yield higher accuracy because the meta-model learns **which base model performs best under which conditions**.\n",
        "\n",
        "\n",
        "- **Stacking** is a powerful ensemble method that combines multiple diverse models using another model as a **meta-learner**.\n",
        "- It generally provides **better performance** than bagging or boosting when base models are diverse.\n",
        "- The main difference is that **stacking learns how to combine models intelligently**, instead of averaging or weighting them.\n"
      ],
      "metadata": {
        "id": "WNcZQhv2v-32"
      }
    },
    {
      "cell_type": "markdown",
      "source": [
        "---\n",
        "# Question 4: What is the OOB Score in Random Forest, and why is it useful? How does it help in model evaluation without a separate validation set?\n",
        "\n",
        "## OOB (Out-of-Bag) Score\n",
        "\n",
        "The **OOB Score (Out-of-Bag Score)** is an internal validation technique used in **Random Forest** to estimate the model’s performance **without needing a separate validation or test dataset**.\n",
        "\n",
        "When Random Forest builds multiple decision trees, it uses **bootstrap sampling** — meaning each tree is trained on a random subset of the training data **with replacement**.  \n",
        "As a result, some samples are **not used** in training each tree — these are called **Out-of-Bag (OOB) samples**.\n",
        "\n",
        "## OOB Working\n",
        "\n",
        "1. When building each tree, around **63% of the data samples** (on average) are selected for training (bootstrap sample).  \n",
        "   The remaining **37%** are **OOB samples** for that specific tree.\n",
        "\n",
        "2. Once all trees are trained, each OOB sample is **predicted only by the trees that did not see it** during training.\n",
        "\n",
        "3. The **OOB Score** is then calculated as the **average accuracy** (or R² score for regression) of these OOB predictions across all samples.\n",
        "\n",
        "\n",
        "## Use\n",
        "\n",
        "- It acts as a **built-in cross-validation** mechanism.\n",
        "- Eliminates the need for a **separate validation set**, allowing you to use **more data for training**.\n",
        "- Provides an **unbiased performance estimate**, since OOB samples are not seen by their corresponding trees during training.\n",
        "\n",
        "\n",
        "## Advantages\n",
        "\n",
        "| **Benefit** | **Explanation** |\n",
        "|--------------|----------------|\n",
        "| **Saves data** | No need to split training data into validation/test sets. |\n",
        "| **Efficient** | Model evaluation happens during training. |\n",
        "| **Reliable estimate** | Gives a realistic estimate of model performance similar to cross-validation. |\n",
        "\n",
        "---\n"
      ],
      "metadata": {
        "id": "Vypok1Ydw7M4"
      }
    },
    {
      "cell_type": "markdown",
      "source": [
        "# Question 5: Compare AdaBoost and Gradient Boosting in terms of:\n",
        "- How they handle errors from weak learners\n",
        "-  Weight adjustment mechanism\n",
        "- Typical use cases\n",
        "\n",
        "\n",
        "Both **AdaBoost (Adaptive Boosting)** and **Gradient Boosting** are ensemble techniques that build a strong model by combining multiple **weak learners** (usually Decision Trees).  \n",
        "However, they differ in how they **learn from previous errors** and **adjust weights** during training.\n",
        "\n",
        "\n",
        "## Comparison Table\n",
        "\n",
        "| **Aspect** | **AdaBoost** | **Gradient Boosting** |\n",
        "|-------------|---------------|------------------------|\n",
        "| **1. Handling Errors from Weak Learners** | Focuses more on misclassified samples by increasing their weights, so the next learner pays more attention to them. | Focuses on the **residual errors** (differences between actual and predicted values) from previous models and tries to minimize them. |\n",
        "| **2. Weight Adjustment Mechanism** | Assigns weights to each data point. After each iteration, misclassified samples get **higher weights**, correctly classified ones get **lower weights**. | No explicit weighting of samples. Instead, each new model is trained to **predict the residuals (errors)** from the previous models. |\n",
        "| **3. Objective Function** | Minimizes the **exponential loss** by adjusting sample weights. | Minimizes a **differentiable loss function** (e.g., Mean Squared Error for regression, Log Loss for classification) using gradient descent. |\n",
        "| **4. Sensitivity to Noise** | More sensitive to noisy data and outliers, because misclassified samples keep getting higher weights. | Less sensitive to noise compared to AdaBoost, as it focuses on minimizing gradients rather than reweighting all samples. |\n",
        "| **5. Typical Use Cases** | Binary classification (Spam Detection, Fraud Detection). | Regression and classification tasks (House Price Prediction, Customer Churn Prediction). |\n",
        "\n",
        "\n",
        "\n",
        "##Example\n",
        "\n",
        "- **AdaBoost:**  \n",
        "  Think of it as a teacher giving more attention to students who answered incorrectly in the previous test (increasing their weights).  \n",
        "  The next lesson (weak learner) focuses on those students more.\n",
        "\n",
        "- **Gradient Boosting:**  \n",
        "  Think of it as the teacher analyzing **what type of mistakes** each student made and designing the next lesson to specifically fix those mistakes (learning residuals).\n",
        "\n",
        "\n",
        "---"
      ],
      "metadata": {
        "id": "OMK1zzFMyOBH"
      }
    },
    {
      "cell_type": "markdown",
      "source": [
        "# Question 6: Why does CatBoost perform well on categorical features without requiring extensive preprocessing?\n",
        "# Briefly explain its handling of categorical variables.\n",
        "\n",
        "## CatBoost\n",
        "\n",
        "**CatBoost** (short for *Categorical Boosting*) is a powerful gradient boosting algorithm developed by **Yandex**.  \n",
        "It is designed to handle **categorical features automatically** — unlike most other machine learning models that require **manual encoding** (e.g., one-hot encoding or label encoding).\n",
        "\n",
        "\n",
        "## Why CatBoost Performs Well on Categorical Features\n",
        "\n",
        "Traditional algorithms like **XGBoost** or **LightGBM** need categorical variables to be **converted into numeric form** manually.  \n",
        "CatBoost, however, can **natively process categorical data** by applying a special statistical encoding technique internally.\n",
        "\n",
        "This makes it:\n",
        "- **Simpler to use** (less preprocessing)\n",
        "- **Faster to implement**\n",
        "- **More accurate**, since it avoids overfitting caused by naive encoding\n",
        "\n",
        "\n",
        "## How CatBoost Handles Categorical Variables\n",
        "\n",
        "CatBoost uses a technique called **Target-Based Encoding with Ordered Statistics**.  \n",
        "Here’s how it works:\n",
        "\n",
        "1. **Assigns numeric values to categories based on target statistics:**\n",
        "   - Instead of assigning arbitrary numbers, CatBoost replaces each category with a calculated value like the **mean target value** for that category.\n",
        "   - Example:  \n",
        "     If the target is binary (Spam = 1, Not Spam = 0), and 80% of emails from domain “abc.com” are spam, CatBoost assigns a higher value (e.g., 0.8) to that category.\n",
        "\n",
        "2. **Uses “Ordered Target Encoding” to prevent target leakage:**\n",
        "   - CatBoost encodes each categorical feature using **only the data seen before the current sample**, not the entire dataset.\n",
        "   - This avoids the **data leakage** problem (where future information accidentally influences training).\n",
        "\n",
        "3. **Combines multiple random permutations of data:**\n",
        "   - To make the encoding more robust and reduce variance, CatBoost performs encoding over multiple data orderings and averages the results.\n",
        "\n",
        "\n",
        "\n",
        "## Advantages of CatBoost\n",
        "\n",
        "| **Advantage** | **Explanation** |\n",
        "|----------------|-----------------|\n",
        "| **No need for manual encoding** | Automatically handles categorical features without one-hot or label encoding. |\n",
        "| **Prevents data leakage** | Uses ordered statistics to ensure encoding is based only on past data. |\n",
        "| **Handles high-cardinality categories** | Works well even when features have thousands of unique categories. |\n",
        "| **Reduces overfitting** | Uses random permutations to stabilize encoding. |\n",
        "\n",
        "---"
      ],
      "metadata": {
        "id": "8wiaUCELzuzr"
      }
    },
    {
      "cell_type": "code",
      "execution_count": 16,
      "metadata": {
        "id": "hl-OQM_1n-rN"
      },
      "outputs": [],
      "source": [
        "# Question 7: KNN Classifier Assignment: Wine Dataset Analysis with\n",
        "# Optimization\n",
        "# Task:\n",
        "# 1. Load the Wine dataset (sklearn.datasets.load_wine()).\n",
        "# 2. Split data into 70% train and 30% test.\n",
        "# 3. Train a KNN classifier (default K=5) without scaling and evaluate using:\n",
        "# a. Accuracy\n",
        "# b. Precision, Recall, F1-Score (print classification report)\n",
        "# 4. Apply StandardScaler, retrain KNN, and compare metrics.\n",
        "# 5. Use GridSearchCV to find the best K (test K=1 to 20) and distance metric\n",
        "# (Euclidean, Manhattan).\n",
        "# 6. Train the optimized KNN and compare results with the unscaled/scaled versions."
      ]
    },
    {
      "cell_type": "code",
      "source": [
        "from sklearn.datasets import load_wine\n",
        "from sklearn.model_selection import train_test_split, GridSearchCV\n",
        "from sklearn.preprocessing import StandardScaler\n",
        "from sklearn.neighbors import KNeighborsClassifier\n",
        "from sklearn.metrics import classification_report, accuracy_score\n",
        "\n",
        "# Load the Wine dataset\n",
        "wine = load_wine()\n",
        "X = wine.data\n",
        "y = wine.target\n",
        "\n",
        "print(\"Feature shape:\", X.shape)\n",
        "print(\"Target classes:\", set(y))"
      ],
      "metadata": {
        "colab": {
          "base_uri": "https://localhost:8080/"
        },
        "id": "FrbFUyC3KPjP",
        "outputId": "3b71943d-eb35-455f-ec9b-7e19915a773d"
      },
      "execution_count": 17,
      "outputs": [
        {
          "output_type": "stream",
          "name": "stdout",
          "text": [
            "Feature shape: (178, 13)\n",
            "Target classes: {np.int64(0), np.int64(1), np.int64(2)}\n"
          ]
        }
      ]
    },
    {
      "cell_type": "code",
      "source": [
        "#Split data 70:30\n",
        "X_train, X_test, y_train, y_test = train_test_split(\n",
        "    X, y, test_size=0.3, random_state=42, stratify=y\n",
        ")\n",
        "\n",
        "print(\"Training set size:\", X_train.shape)\n",
        "print(\"Test set size:\", X_test.shape)\n"
      ],
      "metadata": {
        "colab": {
          "base_uri": "https://localhost:8080/"
        },
        "id": "OPoqj7JoKj7k",
        "outputId": "7ab2802d-1513-48be-e983-d69aee33059e"
      },
      "execution_count": 18,
      "outputs": [
        {
          "output_type": "stream",
          "name": "stdout",
          "text": [
            "Training set size: (124, 13)\n",
            "Test set size: (54, 13)\n"
          ]
        }
      ]
    },
    {
      "cell_type": "code",
      "source": [
        "# Training KNN\n",
        "# Initialize KNN\n",
        "knn_unscaled = KNeighborsClassifier(n_neighbors=5)\n",
        "\n",
        "# Train model\n",
        "knn_unscaled.fit(X_train, y_train)\n",
        "\n",
        "# Predict\n",
        "y_pred_unscaled = knn_unscaled.predict(X_test)\n",
        "\n",
        "# Evaluate\n",
        "print(\"KNN without Scaling\")\n",
        "print(\"Accuracy:\", accuracy_score(y_test, y_pred_unscaled))\n",
        "print(\"\\nClassification Report:\\n\", classification_report(y_test, y_pred_unscaled))\n"
      ],
      "metadata": {
        "colab": {
          "base_uri": "https://localhost:8080/"
        },
        "id": "ecARGgr4KsLB",
        "outputId": "57768272-8036-44da-e4ad-c6f0720b4bd1"
      },
      "execution_count": 19,
      "outputs": [
        {
          "output_type": "stream",
          "name": "stdout",
          "text": [
            "KNN without Scaling\n",
            "Accuracy: 0.7222222222222222\n",
            "\n",
            "Classification Report:\n",
            "               precision    recall  f1-score   support\n",
            "\n",
            "           0       0.89      0.89      0.89        18\n",
            "           1       0.78      0.67      0.72        21\n",
            "           2       0.50      0.60      0.55        15\n",
            "\n",
            "    accuracy                           0.72        54\n",
            "   macro avg       0.72      0.72      0.72        54\n",
            "weighted avg       0.74      0.72      0.73        54\n",
            "\n"
          ]
        }
      ]
    },
    {
      "cell_type": "code",
      "source": [
        "# Applying Standard Scaler and Retraining\n",
        "# Apply Standard Scaler\n",
        "scaler = StandardScaler()\n",
        "X_train_scaled = scaler.fit_transform(X_train)\n",
        "X_test_scaled = scaler.transform(X_test)\n",
        "\n",
        "# Train KNN on scaled data\n",
        "knn_scaled = KNeighborsClassifier(n_neighbors=5)\n",
        "knn_scaled.fit(X_train_scaled, y_train)\n",
        "\n",
        "# Predict\n",
        "y_pred_scaled = knn_scaled.predict(X_test_scaled)\n",
        "\n",
        "# Evaluate\n",
        "print(\"KNN with Scaling\")\n",
        "print(\"Accuracy:\", accuracy_score(y_test, y_pred_scaled))\n",
        "print(\"\\nClassification Report:\\n\", classification_report(y_test, y_pred_scaled))\n"
      ],
      "metadata": {
        "colab": {
          "base_uri": "https://localhost:8080/"
        },
        "id": "-r5TLPlxK97w",
        "outputId": "743a99f4-7aa5-4d8b-cf9f-ab207bbfce3a"
      },
      "execution_count": 20,
      "outputs": [
        {
          "output_type": "stream",
          "name": "stdout",
          "text": [
            "KNN with Scaling\n",
            "Accuracy: 0.9444444444444444\n",
            "\n",
            "Classification Report:\n",
            "               precision    recall  f1-score   support\n",
            "\n",
            "           0       1.00      1.00      1.00        18\n",
            "           1       1.00      0.86      0.92        21\n",
            "           2       0.83      1.00      0.91        15\n",
            "\n",
            "    accuracy                           0.94        54\n",
            "   macro avg       0.94      0.95      0.94        54\n",
            "weighted avg       0.95      0.94      0.94        54\n",
            "\n"
          ]
        }
      ]
    },
    {
      "cell_type": "code",
      "source": [
        "# GridSearchCV to Find Best K and Distance Metric\n",
        "# Define parameter grid\n",
        "param_grid = {\n",
        "    'n_neighbors': range(1, 21),\n",
        "    'metric': ['euclidean', 'manhattan']\n",
        "}\n",
        "\n",
        "# Grid Search with cross-validation\n",
        "grid_search = GridSearchCV(\n",
        "    KNeighborsClassifier(),\n",
        "    param_grid,\n",
        "    cv=5,\n",
        "    scoring='accuracy',\n",
        "    n_jobs=-1\n",
        ")\n",
        "\n",
        "grid_search.fit(X_train_scaled, y_train)\n",
        "\n",
        "print(\" Best Parameters:\", grid_search.best_params_)\n",
        "print(\" Best CV Accuracy:\", grid_search.best_score_)\n"
      ],
      "metadata": {
        "colab": {
          "base_uri": "https://localhost:8080/"
        },
        "id": "yXKd_OzXLRps",
        "outputId": "016c8977-c7dc-4ae3-f4ff-7605ded271c0"
      },
      "execution_count": 21,
      "outputs": [
        {
          "output_type": "stream",
          "name": "stdout",
          "text": [
            " Best Parameters: {'metric': 'euclidean', 'n_neighbors': 11}\n",
            " Best CV Accuracy: 0.9756666666666666\n"
          ]
        }
      ]
    },
    {
      "cell_type": "code",
      "source": [
        "# Train best model from GridSearchCV\n",
        "best_knn = grid_search.best_estimator_\n",
        "best_knn.fit(X_train_scaled, y_train)\n",
        "\n",
        "# Predict\n",
        "y_pred_best = best_knn.predict(X_test_scaled)\n",
        "\n",
        "# Evaluate\n",
        "print(\"Optimized KNN (GridSearchCV)\")\n",
        "print(\"Accuracy:\", accuracy_score(y_test, y_pred_best))\n",
        "print(\"\\nClassification Report:\\n\", classification_report(y_test, y_pred_best))\n"
      ],
      "metadata": {
        "colab": {
          "base_uri": "https://localhost:8080/"
        },
        "id": "LwEvvuclLdtL",
        "outputId": "b1017499-09b4-4106-c23d-eed5bf6ace07"
      },
      "execution_count": 22,
      "outputs": [
        {
          "output_type": "stream",
          "name": "stdout",
          "text": [
            "Optimized KNN (GridSearchCV)\n",
            "Accuracy: 0.9629629629629629\n",
            "\n",
            "Classification Report:\n",
            "               precision    recall  f1-score   support\n",
            "\n",
            "           0       1.00      1.00      1.00        18\n",
            "           1       1.00      0.90      0.95        21\n",
            "           2       0.88      1.00      0.94        15\n",
            "\n",
            "    accuracy                           0.96        54\n",
            "   macro avg       0.96      0.97      0.96        54\n",
            "weighted avg       0.97      0.96      0.96        54\n",
            "\n"
          ]
        }
      ]
    },
    {
      "cell_type": "code",
      "source": [
        "# Question 8 : PCA + KNN with Variance Analysis and Visualization\n",
        "# Task:\n",
        "# 1. Load the Breast Cancer dataset (sklearn.datasets.load_breast_cancer()).\n",
        "# 2. Apply PCA and plot the scree plot (explained variance ratio).\n",
        "# 3. Retain 95% variance and transform the dataset.\n",
        "# 4. Train KNN on the original data and PCA-transformed data, then compare\n",
        "# accuracy.\n",
        "# 5. Visualize the first two principal components using a scatter plot (color by class).\n"
      ],
      "metadata": {
        "id": "K_L5AH03L37h"
      },
      "execution_count": 23,
      "outputs": []
    },
    {
      "cell_type": "code",
      "source": [
        "import numpy as np\n",
        "import matplotlib.pyplot as plt\n",
        "from sklearn.datasets import load_breast_cancer\n",
        "from sklearn.preprocessing import StandardScaler\n",
        "from sklearn.decomposition import PCA\n",
        "from sklearn.model_selection import train_test_split\n",
        "from sklearn.neighbors import KNeighborsClassifier\n",
        "from sklearn.metrics import accuracy_score, classification_report\n",
        "\n",
        "# Load the Breast Cancer dataset\n",
        "data = load_breast_cancer()\n",
        "X = data.data\n",
        "y = data.target\n",
        "\n",
        "print(\"Feature shape:\", X.shape)\n",
        "print(\"Target classes:\", set(y))"
      ],
      "metadata": {
        "colab": {
          "base_uri": "https://localhost:8080/"
        },
        "id": "SGPKoYOLMFfI",
        "outputId": "300de060-a194-468f-d493-a4cd612cd904"
      },
      "execution_count": 24,
      "outputs": [
        {
          "output_type": "stream",
          "name": "stdout",
          "text": [
            "Feature shape: (569, 30)\n",
            "Target classes: {np.int64(0), np.int64(1)}\n"
          ]
        }
      ]
    },
    {
      "cell_type": "code",
      "source": [
        "# Scaling the data\n",
        "scaler = StandardScaler()\n",
        "X_scaled = scaler.fit_transform(X)"
      ],
      "metadata": {
        "id": "_Xqpf1X5MNw7"
      },
      "execution_count": 25,
      "outputs": []
    },
    {
      "cell_type": "code",
      "source": [
        "# Apply PCA without specifying components to see all variances\n",
        "pca = PCA()\n",
        "pca.fit(X_scaled)\n",
        "\n",
        "# Explained variance ratio\n",
        "explained_variance = np.cumsum(pca.explained_variance_ratio_)\n",
        "\n",
        "# Plot Scree Plot\n",
        "plt.figure(figsize=(8, 5))\n",
        "plt.plot(range(1, len(explained_variance)+1), explained_variance, marker='o', color='b')\n",
        "plt.title('Scree Plot (Explained Variance Ratio)')\n",
        "plt.xlabel('Number of Principal Components')\n",
        "plt.ylabel('Cumulative Explained Variance')\n",
        "plt.grid(True)\n",
        "plt.show()\n"
      ],
      "metadata": {
        "colab": {
          "base_uri": "https://localhost:8080/",
          "height": 487
        },
        "id": "DImBkCWKMRGt",
        "outputId": "e4da54a1-b206-4308-833c-e2cc84151d3e"
      },
      "execution_count": 26,
      "outputs": [
        {
          "output_type": "display_data",
          "data": {
            "text/plain": [
              "<Figure size 800x500 with 1 Axes>"
            ],
            "image/png": "[encoded data removed]"
          },
          "metadata": {}
        }
      ]
    },
    {
      "cell_type": "code",
      "source": [
        "# Retain 95% of the variance\n",
        "pca_95 = PCA(0.95)\n",
        "X_pca = pca_95.fit_transform(X_scaled)\n",
        "\n",
        "print(\"Original feature count:\", X_scaled.shape[1])\n",
        "print(\"Reduced feature count after PCA (95% variance):\", X_pca.shape[1])\n"
      ],
      "metadata": {
        "colab": {
          "base_uri": "https://localhost:8080/"
        },
        "id": "_YzlyRT4Mj0C",
        "outputId": "90377090-ff3a-4cb1-c3d4-48982cf04992"
      },
      "execution_count": 27,
      "outputs": [
        {
          "output_type": "stream",
          "name": "stdout",
          "text": [
            "Original feature count: 30\n",
            "Reduced feature count after PCA (95% variance): 10\n"
          ]
        }
      ]
    },
    {
      "cell_type": "code",
      "source": [
        "# Split for both original and PCA-transformed data\n",
        "X_train, X_test, y_train, y_test = train_test_split(\n",
        "    X_scaled, y, test_size=0.3, random_state=42, stratify=y\n",
        ")\n",
        "X_train_pca, X_test_pca, _, _ = train_test_split(\n",
        "    X_pca, y, test_size=0.3, random_state=42, stratify=y\n",
        ")\n"
      ],
      "metadata": {
        "id": "8LEmNK0rMuUz"
      },
      "execution_count": 28,
      "outputs": []
    },
    {
      "cell_type": "code",
      "source": [
        "# Training and Evaluate KNN on original Data\n",
        "knn_original = KNeighborsClassifier(n_neighbors=5)\n",
        "knn_original.fit(X_train, y_train)\n",
        "y_pred_orig = knn_original.predict(X_test)\n",
        "\n",
        "print(\" KNN on Original Data\")\n",
        "print(\"Accuracy:\", accuracy_score(y_test, y_pred_orig))\n",
        "print(\"\\nClassification Report:\\n\", classification_report(y_test, y_pred_orig))\n"
      ],
      "metadata": {
        "colab": {
          "base_uri": "https://localhost:8080/"
        },
        "id": "2h65PCVFMyYb",
        "outputId": "f37e6dd6-742b-43ab-bd23-ecd158ba69d0"
      },
      "execution_count": 29,
      "outputs": [
        {
          "output_type": "stream",
          "name": "stdout",
          "text": [
            " KNN on Original Data\n",
            "Accuracy: 0.9707602339181286\n",
            "\n",
            "Classification Report:\n",
            "               precision    recall  f1-score   support\n",
            "\n",
            "           0       1.00      0.92      0.96        64\n",
            "           1       0.96      1.00      0.98       107\n",
            "\n",
            "    accuracy                           0.97       171\n",
            "   macro avg       0.98      0.96      0.97       171\n",
            "weighted avg       0.97      0.97      0.97       171\n",
            "\n"
          ]
        }
      ]
    },
    {
      "cell_type": "code",
      "source": [
        "# Train and Evaluate KNN on PCA-Transformed Data\n",
        "knn_pca = KNeighborsClassifier(n_neighbors=5)\n",
        "knn_pca.fit(X_train_pca, y_train)\n",
        "y_pred_pca = knn_pca.predict(X_test_pca)\n",
        "\n",
        "print(\"KNN on PCA-Transformed Data\")\n",
        "print(\"Accuracy:\", accuracy_score(y_test, y_pred_pca))\n",
        "print(\"\\nClassification Report:\\n\", classification_report(y_test, y_pred_pca))\n"
      ],
      "metadata": {
        "colab": {
          "base_uri": "https://localhost:8080/"
        },
        "id": "uxPmu5WDM6J1",
        "outputId": "32097335-87cb-449b-f700-f0e24ab1ba0e"
      },
      "execution_count": 30,
      "outputs": [
        {
          "output_type": "stream",
          "name": "stdout",
          "text": [
            "KNN on PCA-Transformed Data\n",
            "Accuracy: 0.9473684210526315\n",
            "\n",
            "Classification Report:\n",
            "               precision    recall  f1-score   support\n",
            "\n",
            "           0       0.97      0.89      0.93        64\n",
            "           1       0.94      0.98      0.96       107\n",
            "\n",
            "    accuracy                           0.95       171\n",
            "   macro avg       0.95      0.94      0.94       171\n",
            "weighted avg       0.95      0.95      0.95       171\n",
            "\n"
          ]
        }
      ]
    },
    {
      "cell_type": "code",
      "source": [
        "# PCA with 2 components for visualization\n",
        "pca_2 = PCA(n_components=2)\n",
        "X_pca_2 = pca_2.fit_transform(X_scaled)\n",
        "\n",
        "plt.figure(figsize=(8, 6))\n",
        "plt.scatter(X_pca_2[:, 0], X_pca_2[:, 1], c=y, cmap='coolwarm', edgecolor='k', alpha=0.7)\n",
        "plt.title('PCA Visualization (First Two Components)')\n",
        "plt.xlabel('Principal Component 1')\n",
        "plt.ylabel('Principal Component 2')\n",
        "plt.colorbar(label='Class (0 = Malignant, 1 = Benign)')\n",
        "plt.show()\n"
      ],
      "metadata": {
        "colab": {
          "base_uri": "https://localhost:8080/",
          "height": 564
        },
        "id": "hT7tvfkVNKiA",
        "outputId": "fdbee60f-d231-42f7-c9d7-4e99ee8b03a5"
      },
      "execution_count": 31,
      "outputs": [
        {
          "output_type": "display_data",
          "data": {
            "text/plain": [
              "<Figure size 800x600 with 2 Axes>"
            ],
            "image/png": "[encoded data removed]"
          },
          "metadata": {}
        }
      ]
    },
    {
      "cell_type": "code",
      "source": [
        "# Question 9:KNN Regressor with Distance Metrics and K-Value\n",
        "# Analysis\n",
        "# Task:\n",
        "# 1. Generate a synthetic regression dataset\n",
        "# (sklearn.datasets.make_regression(n_samples=500, n_features=10)).\n",
        "# 2. Train a KNN regressor with:\n",
        "# a. Euclidean distance (K=5)\n",
        "# b. Manhattan distance (K=5)\n",
        "# c. Compare Mean Squared Error (MSE) for both.\n",
        "# 3. Test K=1, 5, 10, 20, 50 and plot K vs. MSE to analyze bias-variance tradeoff.\n"
      ],
      "metadata": {
        "id": "yGsIwaukNboS"
      },
      "execution_count": 32,
      "outputs": []
    },
    {
      "cell_type": "code",
      "source": [
        "import numpy as np\n",
        "import matplotlib.pyplot as plt\n",
        "from sklearn.datasets import make_regression\n",
        "from sklearn.model_selection import train_test_split\n",
        "from sklearn.preprocessing import StandardScaler\n",
        "from sklearn.neighbors import KNeighborsRegressor\n",
        "from sklearn.metrics import mean_squared_error\n",
        "\n",
        "# Generate synthetic regression dataset\n",
        "X, y = make_regression(n_samples=500, n_features=10, noise=10, random_state=42)\n",
        "\n",
        "# Split data into training and testing sets (70%-30%)\n",
        "X_train, X_test, y_train, y_test = train_test_split(X, y, test_size=0.3, random_state=42)\n",
        "\n",
        "# Standardize features (important for distance-based models)\n",
        "scaler = StandardScaler()\n",
        "X_train = scaler.fit_transform(X_train)\n",
        "X_test = scaler.transform(X_test)"
      ],
      "metadata": {
        "id": "LaEv1kDofxht"
      },
      "execution_count": 33,
      "outputs": []
    },
    {
      "cell_type": "code",
      "source": [
        "# KNN with Euclidean distance (p=2)\n",
        "knn_euclidean = KNeighborsRegressor(n_neighbors=5, p=2)\n",
        "knn_euclidean.fit(X_train, y_train)\n",
        "y_pred_euclidean = knn_euclidean.predict(X_test)\n",
        "\n",
        "# Calculate Mean Squared Error (MSE)\n",
        "mse_euclidean = mean_squared_error(y_test, y_pred_euclidean)\n",
        "print(f\"MSE (Euclidean, K=5): {mse_euclidean:.2f}\")\n"
      ],
      "metadata": {
        "colab": {
          "base_uri": "https://localhost:8080/"
        },
        "id": "q8MCvurkf7UD",
        "outputId": "23fac122-ba5f-4090-d420-35d265049f77"
      },
      "execution_count": 34,
      "outputs": [
        {
          "output_type": "stream",
          "name": "stdout",
          "text": [
            "MSE (Euclidean, K=5): 4837.04\n"
          ]
        }
      ]
    },
    {
      "cell_type": "code",
      "source": [
        "# KNN with Manhattan distance (p=1)\n",
        "knn_manhattan = KNeighborsRegressor(n_neighbors=5, p=1)\n",
        "knn_manhattan.fit(X_train, y_train)\n",
        "y_pred_manhattan = knn_manhattan.predict(X_test)\n",
        "\n",
        "# Calculate Mean Squared Error (MSE)\n",
        "mse_manhattan = mean_squared_error(y_test, y_pred_manhattan)\n",
        "print(f\"MSE (Manhattan, K=5): {mse_manhattan:.2f}\")\n"
      ],
      "metadata": {
        "colab": {
          "base_uri": "https://localhost:8080/"
        },
        "id": "pBVLZHrMgKtS",
        "outputId": "cbfaf8e6-25f3-40b8-df7a-c8f65ef57045"
      },
      "execution_count": 35,
      "outputs": [
        {
          "output_type": "stream",
          "name": "stdout",
          "text": [
            "MSE (Manhattan, K=5): 5428.59\n"
          ]
        }
      ]
    },
    {
      "cell_type": "code",
      "source": [
        "print(\"Comparison of Distance Metrics:\")\n",
        "print(f\"Euclidean Distance MSE : {mse_euclidean:.2f}\")\n",
        "print(f\"Manhattan Distance MSE : {mse_manhattan:.2f}\")\n",
        "\n",
        "if mse_euclidean < mse_manhattan:\n",
        "    print(\"Euclidean distance performed slightly better for this dataset.\")\n",
        "else:\n",
        "    print(\"Manhattan distance performed slightly better for this dataset.\")\n"
      ],
      "metadata": {
        "colab": {
          "base_uri": "https://localhost:8080/"
        },
        "id": "v0oipMhdgNql",
        "outputId": "19b77a99-5749-4650-f060-6531561ade3a"
      },
      "execution_count": 36,
      "outputs": [
        {
          "output_type": "stream",
          "name": "stdout",
          "text": [
            "Comparison of Distance Metrics:\n",
            "Euclidean Distance MSE : 4837.04\n",
            "Manhattan Distance MSE : 5428.59\n",
            "Euclidean distance performed slightly better for this dataset.\n"
          ]
        }
      ]
    },
    {
      "cell_type": "code",
      "source": [
        "k_values = [1, 5, 10, 20, 50]\n",
        "mse_values = []\n",
        "\n",
        "for k in k_values:\n",
        "    knn = KNeighborsRegressor(n_neighbors=k, p=2)  # Using Euclidean distance\n",
        "    knn.fit(X_train, y_train)\n",
        "    y_pred = knn.predict(X_test)\n",
        "    mse = mean_squared_error(y_test, y_pred)\n",
        "    mse_values.append(mse)\n",
        "\n",
        "# Plot K vs. MSE\n",
        "plt.figure(figsize=(8,5))\n",
        "plt.plot(k_values, mse_values, marker='o', color='b', linewidth=2)\n",
        "plt.title('K vs. Mean Squared Error (Bias-Variance Tradeoff)')\n",
        "plt.xlabel('Number of Neighbors (K)')\n",
        "plt.ylabel('Mean Squared Error (MSE)')\n",
        "plt.grid(True)\n",
        "plt.show()\n"
      ],
      "metadata": {
        "colab": {
          "base_uri": "https://localhost:8080/",
          "height": 487
        },
        "id": "ykKdNLUJgWIP",
        "outputId": "df910b59-7ecb-44f3-b140-c414f03ad063"
      },
      "execution_count": 37,
      "outputs": [
        {
          "output_type": "display_data",
          "data": {
            "text/plain": [
              "<Figure size 800x500 with 1 Axes>"
            ],
            "image/png": "[encoded data removed]"
          },
          "metadata": {}
        }
      ]
    },
    {
      "cell_type": "markdown",
      "source": [
        "Interpretation — Bias-Variance Tradeoff\n",
        "\n",
        "Low K (K=1):\n",
        "\n",
        "Model has low bias but high variance.\n",
        "\n",
        "Overfits the data and captures noise.\n",
        "\n",
        "High K (K=50):\n",
        "\n",
        "Model has high bias but low variance.\n",
        "\n",
        "Smooth predictions, may underfit.\n",
        "\n",
        "Optimal K:\n",
        "Lies somewhere in the middle (e.g., K=5 or K=10), balancing bias and variance for lowest MSE."
      ],
      "metadata": {
        "id": "uNf-sy2Tgh71"
      }
    },
    {
      "cell_type": "code",
      "source": [
        "# Question 10: KNN with KD-Tree/Ball Tree, Imputation, and Real-World\n",
        "# Data\n",
        "# Task:\n",
        "# 1. Load the Pima Indians Diabetes dataset (contains missing values).\n",
        "# 2. Use KNN Imputation (sklearn.impute.KNNImputer) to fill missing values.\n",
        "# 3. Train KNN using:\n",
        "# a. Brute-force method\n",
        "# b. KD-Tree\n",
        "# c. Ball Tree\n",
        "# 4. Compare their training time and accuracy.\n",
        "# 5. Plot the decision boundary for the best-performing method (use 2 most important\n",
        "# features)."
      ],
      "metadata": {
        "id": "VXiqHBjNghfo"
      },
      "execution_count": 38,
      "outputs": []
    },
    {
      "cell_type": "code",
      "source": [
        "import numpy as np\n",
        "import pandas as pd\n",
        "import matplotlib.pyplot as plt\n",
        "import seaborn as sns\n",
        "import time\n",
        "from sklearn.impute import KNNImputer\n",
        "from sklearn.model_selection import train_test_split\n",
        "from sklearn.preprocessing import StandardScaler\n",
        "from sklearn.neighbors import KNeighborsClassifier\n",
        "from sklearn.metrics import accuracy_score, classification_report\n",
        "from sklearn.decomposition import PCA\n",
        "# Load dataset from sklearn or via URL\n",
        "url = \"https://raw.githubusercontent.com/jbrownlee/Datasets/master/pima-indians-diabetes.data.csv\"\n",
        "\n",
        "# Define column names\n",
        "cols = [\"Pregnancies\", \"Glucose\", \"BloodPressure\", \"SkinThickness\", \"Insulin\",\n",
        "        \"BMI\", \"DiabetesPedigreeFunction\", \"Age\", \"Outcome\"]\n",
        "\n",
        "df = pd.read_csv(url, names=cols)\n",
        "\n",
        "print(\"🔹 Dataset Shape:\", df.shape)\n",
        "df.head()\n"
      ],
      "metadata": {
        "colab": {
          "base_uri": "https://localhost:8080/",
          "height": 223
        },
        "id": "a0quV1k8hcEY",
        "outputId": "e9935c87-7de8-49a3-80c3-c880e04344e2"
      },
      "execution_count": 39,
      "outputs": [
        {
          "output_type": "stream",
          "name": "stdout",
          "text": [
            "🔹 Dataset Shape: (768, 9)\n"
          ]
        },
        {
          "output_type": "execute_result",
          "data": {
            "text/plain": [
              "   Pregnancies  Glucose  BloodPressure  SkinThickness  Insulin   BMI  \\\n",
              "0            6      148             72             35        0  33.6   \n",
              "1            1       85             66             29        0  26.6   \n",
              "2            8      183             64              0        0  23.3   \n",
              "3            1       89             66             23       94  28.1   \n",
              "4            0      137             40             35      168  43.1   \n",
              "\n",
              "   DiabetesPedigreeFunction  Age  Outcome  \n",
              "0                     0.627   50        1  \n",
              "1                     0.351   31        0  \n",
              "2                     0.672   32        1  \n",
              "3                     0.167   21        0  \n",
              "4                     2.288   33        1  "
            ],
            "text/html": [
              "\n",
              "  <div id=\"df-e5d3439a-7fc3-44c0-9b9f-8352239fbeb1\" class=\"colab-df-container\">\n",
              "    <div>\n",
              "<style scoped>\n",
              "    .dataframe tbody tr th:only-of-type {\n",
              "        vertical-align: middle;\n",
              "    }\n",
              "\n",
              "    .dataframe tbody tr th {\n",
              "        vertical-align: top;\n",
              "    }\n",
              "\n",
              "    .dataframe thead th {\n",
              "        text-align: right;\n",
              "    }\n",
              "</style>\n",
              "<table border=\"1\" class=\"dataframe\">\n",
              "  <thead>\n",
              "    <tr style=\"text-align: right;\">\n",
              "      <th></th>\n",
              "      <th>Pregnancies</th>\n",
              "      <th>Glucose</th>\n",
              "      <th>BloodPressure</th>\n",
              "      <th>SkinThickness</th>\n",
              "      <th>Insulin</th>\n",
              "      <th>BMI</th>\n",
              "      <th>DiabetesPedigreeFunction</th>\n",
              "      <th>Age</th>\n",
              "      <th>Outcome</th>\n",
              "    </tr>\n",
              "  </thead>\n",
              "  <tbody>\n",
              "    <tr>\n",
              "      <th>0</th>\n",
              "      <td>6</td>\n",
              "      <td>148</td>\n",
              "      <td>72</td>\n",
              "      <td>35</td>\n",
              "      <td>0</td>\n",
              "      <td>33.6</td>\n",
              "      <td>0.627</td>\n",
              "      <td>50</td>\n",
              "      <td>1</td>\n",
              "    </tr>\n",
              "    <tr>\n",
              "      <th>1</th>\n",
              "      <td>1</td>\n",
              "      <td>85</td>\n",
              "      <td>66</td>\n",
              "      <td>29</td>\n",
              "      <td>0</td>\n",
              "      <td>26.6</td>\n",
              "      <td>0.351</td>\n",
              "      <td>31</td>\n",
              "      <td>0</td>\n",
              "    </tr>\n",
              "    <tr>\n",
              "      <th>2</th>\n",
              "      <td>8</td>\n",
              "      <td>183</td>\n",
              "      <td>64</td>\n",
              "      <td>0</td>\n",
              "      <td>0</td>\n",
              "      <td>23.3</td>\n",
              "      <td>0.672</td>\n",
              "      <td>32</td>\n",
              "      <td>1</td>\n",
              "    </tr>\n",
              "    <tr>\n",
              "      <th>3</th>\n",
              "      <td>1</td>\n",
              "      <td>89</td>\n",
              "      <td>66</td>\n",
              "      <td>23</td>\n",
              "      <td>94</td>\n",
              "      <td>28.1</td>\n",
              "      <td>0.167</td>\n",
              "      <td>21</td>\n",
              "      <td>0</td>\n",
              "    </tr>\n",
              "    <tr>\n",
              "      <th>4</th>\n",
              "      <td>0</td>\n",
              "      <td>137</td>\n",
              "      <td>40</td>\n",
              "      <td>35</td>\n",
              "      <td>168</td>\n",
              "      <td>43.1</td>\n",
              "      <td>2.288</td>\n",
              "      <td>33</td>\n",
              "      <td>1</td>\n",
              "    </tr>\n",
              "  </tbody>\n",
              "</table>\n",
              "</div>\n",
              "    <div class=\"colab-df-buttons\">\n",
              "\n",
              "  <div class=\"colab-df-container\">\n",
              "    <button class=\"colab-df-convert\" onclick=\"convertToInteractive('df-e5d3439a-7fc3-44c0-9b9f-8352239fbeb1')\"\n",
              "            title=\"Convert this dataframe to an interactive table.\"\n",
              "            style=\"display:none;\">\n",
              "\n",
              "  <svg xmlns=\"http://www.w3.org/2000/svg\" height=\"24px\" viewBox=\"0 -960 960 960\">\n",
              "    <path d=\"M120-120v-720h720v720H120Zm60-500h600v-160H180v160Zm220 220h160v-160H400v160Zm0 220h160v-160H400v160ZM180-400h160v-160H180v160Zm440 0h160v-160H620v160ZM180-180h160v-160H180v160Zm440 0h160v-160H620v160Z\"/>\n",
              "  </svg>\n",
              "    </button>\n",
              "\n",
              "  <style>\n",
              "    .colab-df-container {\n",
              "      display:flex;\n",
              "      gap: 12px;\n",
              "    }\n",
              "\n",
              "    .colab-df-convert {\n",
              "      background-color: #E8F0FE;\n",
              "      border: none;\n",
              "      border-radius: 50%;\n",
              "      cursor: pointer;\n",
              "      display: none;\n",
              "      fill: #1967D2;\n",
              "      height: 32px;\n",
              "      padding: 0 0 0 0;\n",
              "      width: 32px;\n",
              "    }\n",
              "\n",
              "    .colab-df-convert:hover {\n",
              "      background-color: #E2EBFA;\n",
              "      box-shadow: 0px 1px 2px rgba(60, 64, 67, 0.3), 0px 1px 3px 1px rgba(60, 64, 67, 0.15);\n",
              "      fill: #174EA6;\n",
              "    }\n",
              "\n",
              "    .colab-df-buttons div {\n",
              "      margin-bottom: 4px;\n",
              "    }\n",
              "\n",
              "    [theme=dark] .colab-df-convert {\n",
              "      background-color: #3B4455;\n",
              "      fill: #D2E3FC;\n",
              "    }\n",
              "\n",
              "    [theme=dark] .colab-df-convert:hover {\n",
              "      background-color: #434B5C;\n",
              "      box-shadow: 0px 1px 3px 1px rgba(0, 0, 0, 0.15);\n",
              "      filter: drop-shadow(0px 1px 2px rgba(0, 0, 0, 0.3));\n",
              "      fill: #FFFFFF;\n",
              "    }\n",
              "  </style>\n",
              "\n",
              "    <script>\n",
              "      const buttonEl =\n",
              "        document.querySelector('#df-e5d3439a-7fc3-44c0-9b9f-8352239fbeb1 button.colab-df-convert');\n",
              "      buttonEl.style.display =\n",
              "        google.colab.kernel.accessAllowed ? 'block' : 'none';\n",
              "\n",
              "      async function convertToInteractive(key) {\n",
              "        const element = document.querySelector('#df-e5d3439a-7fc3-44c0-9b9f-8352239fbeb1');\n",
              "        const dataTable =\n",
              "          await google.colab.kernel.invokeFunction('convertToInteractive',\n",
              "                                                    [key], {});\n",
              "        if (!dataTable) return;\n",
              "\n",
              "        const docLinkHtml = 'Like what you see? Visit the ' +\n",
              "          '<a target=\"_blank\" href=https://colab.research.google.com/notebooks/data_table.ipynb>data table notebook</a>'\n",
              "          + ' to learn more about interactive tables.';\n",
              "        element.innerHTML = '';\n",
              "        dataTable['output_type'] = 'display_data';\n",
              "        await google.colab.output.renderOutput(dataTable, element);\n",
              "        const docLink = document.createElement('div');\n",
              "        docLink.innerHTML = docLinkHtml;\n",
              "        element.appendChild(docLink);\n",
              "      }\n",
              "    </script>\n",
              "  </div>\n",
              "\n",
              "\n",
              "    <div id=\"df-266df6c9-d58c-4a68-bf72-a5b35d82909f\">\n",
              "      <button class=\"colab-df-quickchart\" onclick=\"quickchart('df-266df6c9-d58c-4a68-bf72-a5b35d82909f')\"\n",
              "                title=\"Suggest charts\"\n",
              "                style=\"display:none;\">\n",
              "\n",
              "<svg xmlns=\"http://www.w3.org/2000/svg\" height=\"24px\"viewBox=\"0 0 24 24\"\n",
              "     width=\"24px\">\n",
              "    <g>\n",
              "        <path d=\"M19 3H5c-1.1 0-2 .9-2 2v14c0 1.1.9 2 2 2h14c1.1 0 2-.9 2-2V5c0-1.1-.9-2-2-2zM9 17H7v-7h2v7zm4 0h-2V7h2v10zm4 0h-2v-4h2v4z\"/>\n",
              "    </g>\n",
              "</svg>\n",
              "      </button>\n",
              "\n",
              "<style>\n",
              "  .colab-df-quickchart {\n",
              "      --bg-color: #E8F0FE;\n",
              "      --fill-color: #1967D2;\n",
              "      --hover-bg-color: #E2EBFA;\n",
              "      --hover-fill-color: #174EA6;\n",
              "      --disabled-fill-color: #AAA;\n",
              "      --disabled-bg-color: #DDD;\n",
              "  }\n",
              "\n",
              "  [theme=dark] .colab-df-quickchart {\n",
              "      --bg-color: #3B4455;\n",
              "      --fill-color: #D2E3FC;\n",
              "      --hover-bg-color: #434B5C;\n",
              "      --hover-fill-color: #FFFFFF;\n",
              "      --disabled-bg-color: #3B4455;\n",
              "      --disabled-fill-color: #666;\n",
              "  }\n",
              "\n",
              "  .colab-df-quickchart {\n",
              "    background-color: var(--bg-color);\n",
              "    border: none;\n",
              "    border-radius: 50%;\n",
              "    cursor: pointer;\n",
              "    display: none;\n",
              "    fill: var(--fill-color);\n",
              "    height: 32px;\n",
              "    padding: 0;\n",
              "    width: 32px;\n",
              "  }\n",
              "\n",
              "  .colab-df-quickchart:hover {\n",
              "    background-color: var(--hover-bg-color);\n",
              "    box-shadow: 0 1px 2px rgba(60, 64, 67, 0.3), 0 1px 3px 1px rgba(60, 64, 67, 0.15);\n",
              "    fill: var(--button-hover-fill-color);\n",
              "  }\n",
              "\n",
              "  .colab-df-quickchart-complete:disabled,\n",
              "  .colab-df-quickchart-complete:disabled:hover {\n",
              "    background-color: var(--disabled-bg-color);\n",
              "    fill: var(--disabled-fill-color);\n",
              "    box-shadow: none;\n",
              "  }\n",
              "\n",
              "  .colab-df-spinner {\n",
              "    border: 2px solid var(--fill-color);\n",
              "    border-color: transparent;\n",
              "    border-bottom-color: var(--fill-color);\n",
              "    animation:\n",
              "      spin 1s steps(1) infinite;\n",
              "  }\n",
              "\n",
              "  @keyframes spin {\n",
              "    0% {\n",
              "      border-color: transparent;\n",
              "      border-bottom-color: var(--fill-color);\n",
              "      border-left-color: var(--fill-color);\n",
              "    }\n",
              "    20% {\n",
              "      border-color: transparent;\n",
              "      border-left-color: var(--fill-color);\n",
              "      border-top-color: var(--fill-color);\n",
              "    }\n",
              "    30% {\n",
              "      border-color: transparent;\n",
              "      border-left-color: var(--fill-color);\n",
              "      border-top-color: var(--fill-color);\n",
              "      border-right-color: var(--fill-color);\n",
              "    }\n",
              "    40% {\n",
              "      border-color: transparent;\n",
              "      border-right-color: var(--fill-color);\n",
              "      border-top-color: var(--fill-color);\n",
              "    }\n",
              "    60% {\n",
              "      border-color: transparent;\n",
              "      border-right-color: var(--fill-color);\n",
              "    }\n",
              "    80% {\n",
              "      border-color: transparent;\n",
              "      border-right-color: var(--fill-color);\n",
              "      border-bottom-color: var(--fill-color);\n",
              "    }\n",
              "    90% {\n",
              "      border-color: transparent;\n",
              "      border-bottom-color: var(--fill-color);\n",
              "    }\n",
              "  }\n",
              "</style>\n",
              "\n",
              "      <script>\n",
              "        async function quickchart(key) {\n",
              "          const quickchartButtonEl =\n",
              "            document.querySelector('#' + key + ' button');\n",
              "          quickchartButtonEl.disabled = true;  // To prevent multiple clicks.\n",
              "          quickchartButtonEl.classList.add('colab-df-spinner');\n",
              "          try {\n",
              "            const charts = await google.colab.kernel.invokeFunction(\n",
              "                'suggestCharts', [key], {});\n",
              "          } catch (error) {\n",
              "            console.error('Error during call to suggestCharts:', error);\n",
              "          }\n",
              "          quickchartButtonEl.classList.remove('colab-df-spinner');\n",
              "          quickchartButtonEl.classList.add('colab-df-quickchart-complete');\n",
              "        }\n",
              "        (() => {\n",
              "          let quickchartButtonEl =\n",
              "            document.querySelector('#df-266df6c9-d58c-4a68-bf72-a5b35d82909f button');\n",
              "          quickchartButtonEl.style.display =\n",
              "            google.colab.kernel.accessAllowed ? 'block' : 'none';\n",
              "        })();\n",
              "      </script>\n",
              "    </div>\n",
              "\n",
              "    </div>\n",
              "  </div>\n"
            ],
            "application/vnd.google.colaboratory.intrinsic+json": {
              "type": "dataframe",
              "variable_name": "df",
              "summary": "{\n  \"name\": \"df\",\n  \"rows\": 768,\n  \"fields\": [\n    {\n      \"column\": \"Pregnancies\",\n      \"properties\": {\n        \"dtype\": \"number\",\n        \"std\": 3,\n        \"min\": 0,\n        \"max\": 17,\n        \"num_unique_values\": 17,\n        \"samples\": [\n          6,\n          1,\n          3\n        ],\n        \"semantic_type\": \"\",\n        \"description\": \"\"\n      }\n    },\n    {\n      \"column\": \"Glucose\",\n      \"properties\": {\n        \"dtype\": \"number\",\n        \"std\": 31,\n        \"min\": 0,\n        \"max\": 199,\n        \"num_unique_values\": 136,\n        \"samples\": [\n          151,\n          101,\n          112\n        ],\n        \"semantic_type\": \"\",\n        \"description\": \"\"\n      }\n    },\n    {\n      \"column\": \"BloodPressure\",\n      \"properties\": {\n        \"dtype\": \"number\",\n        \"std\": 19,\n        \"min\": 0,\n        \"max\": 122,\n        \"num_unique_values\": 47,\n        \"samples\": [\n          86,\n          46,\n          85\n        ],\n        \"semantic_type\": \"\",\n        \"description\": \"\"\n      }\n    },\n    {\n      \"column\": \"SkinThickness\",\n      \"properties\": {\n        \"dtype\": \"number\",\n        \"std\": 15,\n        \"min\": 0,\n        \"max\": 99,\n        \"num_unique_values\": 51,\n        \"samples\": [\n          7,\n          12,\n          48\n        ],\n        \"semantic_type\": \"\",\n        \"description\": \"\"\n      }\n    },\n    {\n      \"column\": \"Insulin\",\n      \"properties\": {\n        \"dtype\": \"number\",\n        \"std\": 115,\n        \"min\": 0,\n        \"max\": 846,\n        \"num_unique_values\": 186,\n        \"samples\": [\n          52,\n          41,\n          183\n        ],\n        \"semantic_type\": \"\",\n        \"description\": \"\"\n      }\n    },\n    {\n      \"column\": \"BMI\",\n      \"properties\": {\n        \"dtype\": \"number\",\n        \"std\": 7.8841603203754405,\n        \"min\": 0.0,\n        \"max\": 67.1,\n        \"num_unique_values\": 248,\n        \"samples\": [\n          19.9,\n          31.0,\n          38.1\n        ],\n        \"semantic_type\": \"\",\n        \"description\": \"\"\n      }\n    },\n    {\n      \"column\": \"DiabetesPedigreeFunction\",\n      \"properties\": {\n        \"dtype\": \"number\",\n        \"std\": 0.33132859501277484,\n        \"min\": 0.078,\n        \"max\": 2.42,\n        \"num_unique_values\": 517,\n        \"samples\": [\n          1.731,\n          0.426,\n          0.138\n        ],\n        \"semantic_type\": \"\",\n        \"description\": \"\"\n      }\n    },\n    {\n      \"column\": \"Age\",\n      \"properties\": {\n        \"dtype\": \"number\",\n        \"std\": 11,\n        \"min\": 21,\n        \"max\": 81,\n        \"num_unique_values\": 52,\n        \"samples\": [\n          60,\n          47,\n          72\n        ],\n        \"semantic_type\": \"\",\n        \"description\": \"\"\n      }\n    },\n    {\n      \"column\": \"Outcome\",\n      \"properties\": {\n        \"dtype\": \"number\",\n        \"std\": 0,\n        \"min\": 0,\n        \"max\": 1,\n        \"num_unique_values\": 2,\n        \"samples\": [\n          0,\n          1\n        ],\n        \"semantic_type\": \"\",\n        \"description\": \"\"\n      }\n    }\n  ]\n}"
            }
          },
          "metadata": {},
          "execution_count": 39
        }
      ]
    },
    {
      "cell_type": "code",
      "source": [
        "# Replace zeros with NaN (except 'Pregnancies' and 'Outcome')\n",
        "cols_with_missing = [\"Glucose\", \"BloodPressure\", \"SkinThickness\", \"Insulin\", \"BMI\"]\n",
        "df[cols_with_missing] = df[cols_with_missing].replace(0, np.nan)\n",
        "\n",
        "# Count missing values\n",
        "df.isnull().sum()"
      ],
      "metadata": {
        "colab": {
          "base_uri": "https://localhost:8080/",
          "height": 366
        },
        "id": "7nlEQWP6hiMv",
        "outputId": "a2b5408e-7ae4-4731-98c2-297e63bbb382"
      },
      "execution_count": 40,
      "outputs": [
        {
          "output_type": "execute_result",
          "data": {
            "text/plain": [
              "Pregnancies                   0\n",
              "Glucose                       5\n",
              "BloodPressure                35\n",
              "SkinThickness               227\n",
              "Insulin                     374\n",
              "BMI                          11\n",
              "DiabetesPedigreeFunction      0\n",
              "Age                           0\n",
              "Outcome                       0\n",
              "dtype: int64"
            ],
            "text/html": [
              "<div>\n",
              "<style scoped>\n",
              "    .dataframe tbody tr th:only-of-type {\n",
              "        vertical-align: middle;\n",
              "    }\n",
              "\n",
              "    .dataframe tbody tr th {\n",
              "        vertical-align: top;\n",
              "    }\n",
              "\n",
              "    .dataframe thead th {\n",
              "        text-align: right;\n",
              "    }\n",
              "</style>\n",
              "<table border=\"1\" class=\"dataframe\">\n",
              "  <thead>\n",
              "    <tr style=\"text-align: right;\">\n",
              "      <th></th>\n",
              "      <th>0</th>\n",
              "    </tr>\n",
              "  </thead>\n",
              "  <tbody>\n",
              "    <tr>\n",
              "      <th>Pregnancies</th>\n",
              "      <td>0</td>\n",
              "    </tr>\n",
              "    <tr>\n",
              "      <th>Glucose</th>\n",
              "      <td>5</td>\n",
              "    </tr>\n",
              "    <tr>\n",
              "      <th>BloodPressure</th>\n",
              "      <td>35</td>\n",
              "    </tr>\n",
              "    <tr>\n",
              "      <th>SkinThickness</th>\n",
              "      <td>227</td>\n",
              "    </tr>\n",
              "    <tr>\n",
              "      <th>Insulin</th>\n",
              "      <td>374</td>\n",
              "    </tr>\n",
              "    <tr>\n",
              "      <th>BMI</th>\n",
              "      <td>11</td>\n",
              "    </tr>\n",
              "    <tr>\n",
              "      <th>DiabetesPedigreeFunction</th>\n",
              "      <td>0</td>\n",
              "    </tr>\n",
              "    <tr>\n",
              "      <th>Age</th>\n",
              "      <td>0</td>\n",
              "    </tr>\n",
              "    <tr>\n",
              "      <th>Outcome</th>\n",
              "      <td>0</td>\n",
              "    </tr>\n",
              "  </tbody>\n",
              "</table>\n",
              "</div><br><label><b>dtype:</b> int64</label>"
            ]
          },
          "metadata": {},
          "execution_count": 40
        }
      ]
    },
    {
      "cell_type": "code",
      "source": [
        "imputer = KNNImputer(n_neighbors=5)\n",
        "df_imputed = pd.DataFrame(imputer.fit_transform(df), columns=df.columns)\n",
        "\n",
        "print(\"Missing values handled using KNN Imputation.\")\n",
        "df_imputed.head()\n"
      ],
      "metadata": {
        "colab": {
          "base_uri": "https://localhost:8080/",
          "height": 223
        },
        "id": "GjXdgl1AhwSd",
        "outputId": "4eb7a00c-6bdd-49b4-cbbb-91a933fc0af1"
      },
      "execution_count": 41,
      "outputs": [
        {
          "output_type": "stream",
          "name": "stdout",
          "text": [
            "Missing values handled using KNN Imputation.\n"
          ]
        },
        {
          "output_type": "execute_result",
          "data": {
            "text/plain": [
              "   Pregnancies  Glucose  BloodPressure  SkinThickness  Insulin   BMI  \\\n",
              "0          6.0    148.0           72.0           35.0    169.0  33.6   \n",
              "1          1.0     85.0           66.0           29.0     58.6  26.6   \n",
              "2          8.0    183.0           64.0           25.8    164.6  23.3   \n",
              "3          1.0     89.0           66.0           23.0     94.0  28.1   \n",
              "4          0.0    137.0           40.0           35.0    168.0  43.1   \n",
              "\n",
              "   DiabetesPedigreeFunction   Age  Outcome  \n",
              "0                     0.627  50.0      1.0  \n",
              "1                     0.351  31.0      0.0  \n",
              "2                     0.672  32.0      1.0  \n",
              "3                     0.167  21.0      0.0  \n",
              "4                     2.288  33.0      1.0  "
            ],
            "text/html": [
              "\n",
              "  <div id=\"df-f4f918d7-20fb-4546-b08d-7828c296d92e\" class=\"colab-df-container\">\n",
              "    <div>\n",
              "<style scoped>\n",
              "    .dataframe tbody tr th:only-of-type {\n",
              "        vertical-align: middle;\n",
              "    }\n",
              "\n",
              "    .dataframe tbody tr th {\n",
              "        vertical-align: top;\n",
              "    }\n",
              "\n",
              "    .dataframe thead th {\n",
              "        text-align: right;\n",
              "    }\n",
              "</style>\n",
              "<table border=\"1\" class=\"dataframe\">\n",
              "  <thead>\n",
              "    <tr style=\"text-align: right;\">\n",
              "      <th></th>\n",
              "      <th>Pregnancies</th>\n",
              "      <th>Glucose</th>\n",
              "      <th>BloodPressure</th>\n",
              "      <th>SkinThickness</th>\n",
              "      <th>Insulin</th>\n",
              "      <th>BMI</th>\n",
              "      <th>DiabetesPedigreeFunction</th>\n",
              "      <th>Age</th>\n",
              "      <th>Outcome</th>\n",
              "    </tr>\n",
              "  </thead>\n",
              "  <tbody>\n",
              "    <tr>\n",
              "      <th>0</th>\n",
              "      <td>6.0</td>\n",
              "      <td>148.0</td>\n",
              "      <td>72.0</td>\n",
              "      <td>35.0</td>\n",
              "      <td>169.0</td>\n",
              "      <td>33.6</td>\n",
              "      <td>0.627</td>\n",
              "      <td>50.0</td>\n",
              "      <td>1.0</td>\n",
              "    </tr>\n",
              "    <tr>\n",
              "      <th>1</th>\n",
              "      <td>1.0</td>\n",
              "      <td>85.0</td>\n",
              "      <td>66.0</td>\n",
              "      <td>29.0</td>\n",
              "      <td>58.6</td>\n",
              "      <td>26.6</td>\n",
              "      <td>0.351</td>\n",
              "      <td>31.0</td>\n",
              "      <td>0.0</td>\n",
              "    </tr>\n",
              "    <tr>\n",
              "      <th>2</th>\n",
              "      <td>8.0</td>\n",
              "      <td>183.0</td>\n",
              "      <td>64.0</td>\n",
              "      <td>25.8</td>\n",
              "      <td>164.6</td>\n",
              "      <td>23.3</td>\n",
              "      <td>0.672</td>\n",
              "      <td>32.0</td>\n",
              "      <td>1.0</td>\n",
              "    </tr>\n",
              "    <tr>\n",
              "      <th>3</th>\n",
              "      <td>1.0</td>\n",
              "      <td>89.0</td>\n",
              "      <td>66.0</td>\n",
              "      <td>23.0</td>\n",
              "      <td>94.0</td>\n",
              "      <td>28.1</td>\n",
              "      <td>0.167</td>\n",
              "      <td>21.0</td>\n",
              "      <td>0.0</td>\n",
              "    </tr>\n",
              "    <tr>\n",
              "      <th>4</th>\n",
              "      <td>0.0</td>\n",
              "      <td>137.0</td>\n",
              "      <td>40.0</td>\n",
              "      <td>35.0</td>\n",
              "      <td>168.0</td>\n",
              "      <td>43.1</td>\n",
              "      <td>2.288</td>\n",
              "      <td>33.0</td>\n",
              "      <td>1.0</td>\n",
              "    </tr>\n",
              "  </tbody>\n",
              "</table>\n",
              "</div>\n",
              "    <div class=\"colab-df-buttons\">\n",
              "\n",
              "  <div class=\"colab-df-container\">\n",
              "    <button class=\"colab-df-convert\" onclick=\"convertToInteractive('df-f4f918d7-20fb-4546-b08d-7828c296d92e')\"\n",
              "            title=\"Convert this dataframe to an interactive table.\"\n",
              "            style=\"display:none;\">\n",
              "\n",
              "  <svg xmlns=\"http://www.w3.org/2000/svg\" height=\"24px\" viewBox=\"0 -960 960 960\">\n",
              "    <path d=\"M120-120v-720h720v720H120Zm60-500h600v-160H180v160Zm220 220h160v-160H400v160Zm0 220h160v-160H400v160ZM180-400h160v-160H180v160Zm440 0h160v-160H620v160ZM180-180h160v-160H180v160Zm440 0h160v-160H620v160Z\"/>\n",
              "  </svg>\n",
              "    </button>\n",
              "\n",
              "  <style>\n",
              "    .colab-df-container {\n",
              "      display:flex;\n",
              "      gap: 12px;\n",
              "    }\n",
              "\n",
              "    .colab-df-convert {\n",
              "      background-color: #E8F0FE;\n",
              "      border: none;\n",
              "      border-radius: 50%;\n",
              "      cursor: pointer;\n",
              "      display: none;\n",
              "      fill: #1967D2;\n",
              "      height: 32px;\n",
              "      padding: 0 0 0 0;\n",
              "      width: 32px;\n",
              "    }\n",
              "\n",
              "    .colab-df-convert:hover {\n",
              "      background-color: #E2EBFA;\n",
              "      box-shadow: 0px 1px 2px rgba(60, 64, 67, 0.3), 0px 1px 3px 1px rgba(60, 64, 67, 0.15);\n",
              "      fill: #174EA6;\n",
              "    }\n",
              "\n",
              "    .colab-df-buttons div {\n",
              "      margin-bottom: 4px;\n",
              "    }\n",
              "\n",
              "    [theme=dark] .colab-df-convert {\n",
              "      background-color: #3B4455;\n",
              "      fill: #D2E3FC;\n",
              "    }\n",
              "\n",
              "    [theme=dark] .colab-df-convert:hover {\n",
              "      background-color: #434B5C;\n",
              "      box-shadow: 0px 1px 3px 1px rgba(0, 0, 0, 0.15);\n",
              "      filter: drop-shadow(0px 1px 2px rgba(0, 0, 0, 0.3));\n",
              "      fill: #FFFFFF;\n",
              "    }\n",
              "  </style>\n",
              "\n",
              "    <script>\n",
              "      const buttonEl =\n",
              "        document.querySelector('#df-f4f918d7-20fb-4546-b08d-7828c296d92e button.colab-df-convert');\n",
              "      buttonEl.style.display =\n",
              "        google.colab.kernel.accessAllowed ? 'block' : 'none';\n",
              "\n",
              "      async function convertToInteractive(key) {\n",
              "        const element = document.querySelector('#df-f4f918d7-20fb-4546-b08d-7828c296d92e');\n",
              "        const dataTable =\n",
              "          await google.colab.kernel.invokeFunction('convertToInteractive',\n",
              "                                                    [key], {});\n",
              "        if (!dataTable) return;\n",
              "\n",
              "        const docLinkHtml = 'Like what you see? Visit the ' +\n",
              "          '<a target=\"_blank\" href=https://colab.research.google.com/notebooks/data_table.ipynb>data table notebook</a>'\n",
              "          + ' to learn more about interactive tables.';\n",
              "        element.innerHTML = '';\n",
              "        dataTable['output_type'] = 'display_data';\n",
              "        await google.colab.output.renderOutput(dataTable, element);\n",
              "        const docLink = document.createElement('div');\n",
              "        docLink.innerHTML = docLinkHtml;\n",
              "        element.appendChild(docLink);\n",
              "      }\n",
              "    </script>\n",
              "  </div>\n",
              "\n",
              "\n",
              "    <div id=\"df-43f3cfa6-366c-4682-b8c2-7aa10af05126\">\n",
              "      <button class=\"colab-df-quickchart\" onclick=\"quickchart('df-43f3cfa6-366c-4682-b8c2-7aa10af05126')\"\n",
              "                title=\"Suggest charts\"\n",
              "                style=\"display:none;\">\n",
              "\n",
              "<svg xmlns=\"http://www.w3.org/2000/svg\" height=\"24px\"viewBox=\"0 0 24 24\"\n",
              "     width=\"24px\">\n",
              "    <g>\n",
              "        <path d=\"M19 3H5c-1.1 0-2 .9-2 2v14c0 1.1.9 2 2 2h14c1.1 0 2-.9 2-2V5c0-1.1-.9-2-2-2zM9 17H7v-7h2v7zm4 0h-2V7h2v10zm4 0h-2v-4h2v4z\"/>\n",
              "    </g>\n",
              "</svg>\n",
              "      </button>\n",
              "\n",
              "<style>\n",
              "  .colab-df-quickchart {\n",
              "      --bg-color: #E8F0FE;\n",
              "      --fill-color: #1967D2;\n",
              "      --hover-bg-color: #E2EBFA;\n",
              "      --hover-fill-color: #174EA6;\n",
              "      --disabled-fill-color: #AAA;\n",
              "      --disabled-bg-color: #DDD;\n",
              "  }\n",
              "\n",
              "  [theme=dark] .colab-df-quickchart {\n",
              "      --bg-color: #3B4455;\n",
              "      --fill-color: #D2E3FC;\n",
              "      --hover-bg-color: #434B5C;\n",
              "      --hover-fill-color: #FFFFFF;\n",
              "      --disabled-bg-color: #3B4455;\n",
              "      --disabled-fill-color: #666;\n",
              "  }\n",
              "\n",
              "  .colab-df-quickchart {\n",
              "    background-color: var(--bg-color);\n",
              "    border: none;\n",
              "    border-radius: 50%;\n",
              "    cursor: pointer;\n",
              "    display: none;\n",
              "    fill: var(--fill-color);\n",
              "    height: 32px;\n",
              "    padding: 0;\n",
              "    width: 32px;\n",
              "  }\n",
              "\n",
              "  .colab-df-quickchart:hover {\n",
              "    background-color: var(--hover-bg-color);\n",
              "    box-shadow: 0 1px 2px rgba(60, 64, 67, 0.3), 0 1px 3px 1px rgba(60, 64, 67, 0.15);\n",
              "    fill: var(--button-hover-fill-color);\n",
              "  }\n",
              "\n",
              "  .colab-df-quickchart-complete:disabled,\n",
              "  .colab-df-quickchart-complete:disabled:hover {\n",
              "    background-color: var(--disabled-bg-color);\n",
              "    fill: var(--disabled-fill-color);\n",
              "    box-shadow: none;\n",
              "  }\n",
              "\n",
              "  .colab-df-spinner {\n",
              "    border: 2px solid var(--fill-color);\n",
              "    border-color: transparent;\n",
              "    border-bottom-color: var(--fill-color);\n",
              "    animation:\n",
              "      spin 1s steps(1) infinite;\n",
              "  }\n",
              "\n",
              "  @keyframes spin {\n",
              "    0% {\n",
              "      border-color: transparent;\n",
              "      border-bottom-color: var(--fill-color);\n",
              "      border-left-color: var(--fill-color);\n",
              "    }\n",
              "    20% {\n",
              "      border-color: transparent;\n",
              "      border-left-color: var(--fill-color);\n",
              "      border-top-color: var(--fill-color);\n",
              "    }\n",
              "    30% {\n",
              "      border-color: transparent;\n",
              "      border-left-color: var(--fill-color);\n",
              "      border-top-color: var(--fill-color);\n",
              "      border-right-color: var(--fill-color);\n",
              "    }\n",
              "    40% {\n",
              "      border-color: transparent;\n",
              "      border-right-color: var(--fill-color);\n",
              "      border-top-color: var(--fill-color);\n",
              "    }\n",
              "    60% {\n",
              "      border-color: transparent;\n",
              "      border-right-color: var(--fill-color);\n",
              "    }\n",
              "    80% {\n",
              "      border-color: transparent;\n",
              "      border-right-color: var(--fill-color);\n",
              "      border-bottom-color: var(--fill-color);\n",
              "    }\n",
              "    90% {\n",
              "      border-color: transparent;\n",
              "      border-bottom-color: var(--fill-color);\n",
              "    }\n",
              "  }\n",
              "</style>\n",
              "\n",
              "      <script>\n",
              "        async function quickchart(key) {\n",
              "          const quickchartButtonEl =\n",
              "            document.querySelector('#' + key + ' button');\n",
              "          quickchartButtonEl.disabled = true;  // To prevent multiple clicks.\n",
              "          quickchartButtonEl.classList.add('colab-df-spinner');\n",
              "          try {\n",
              "            const charts = await google.colab.kernel.invokeFunction(\n",
              "                'suggestCharts', [key], {});\n",
              "          } catch (error) {\n",
              "            console.error('Error during call to suggestCharts:', error);\n",
              "          }\n",
              "          quickchartButtonEl.classList.remove('colab-df-spinner');\n",
              "          quickchartButtonEl.classList.add('colab-df-quickchart-complete');\n",
              "        }\n",
              "        (() => {\n",
              "          let quickchartButtonEl =\n",
              "            document.querySelector('#df-43f3cfa6-366c-4682-b8c2-7aa10af05126 button');\n",
              "          quickchartButtonEl.style.display =\n",
              "            google.colab.kernel.accessAllowed ? 'block' : 'none';\n",
              "        })();\n",
              "      </script>\n",
              "    </div>\n",
              "\n",
              "    </div>\n",
              "  </div>\n"
            ],
            "application/vnd.google.colaboratory.intrinsic+json": {
              "type": "dataframe",
              "variable_name": "df_imputed",
              "summary": "{\n  \"name\": \"df_imputed\",\n  \"rows\": 768,\n  \"fields\": [\n    {\n      \"column\": \"Pregnancies\",\n      \"properties\": {\n        \"dtype\": \"number\",\n        \"std\": 3.3695780626988623,\n        \"min\": 0.0,\n        \"max\": 17.0,\n        \"num_unique_values\": 17,\n        \"samples\": [\n          6.0,\n          1.0,\n          3.0\n        ],\n        \"semantic_type\": \"\",\n        \"description\": \"\"\n      }\n    },\n    {\n      \"column\": \"Glucose\",\n      \"properties\": {\n        \"dtype\": \"number\",\n        \"std\": 30.496543447624145,\n        \"min\": 44.0,\n        \"max\": 199.0,\n        \"num_unique_values\": 140,\n        \"samples\": [\n          193.0,\n          81.0,\n          92.0\n        ],\n        \"semantic_type\": \"\",\n        \"description\": \"\"\n      }\n    },\n    {\n      \"column\": \"BloodPressure\",\n      \"properties\": {\n        \"dtype\": \"number\",\n        \"std\": 12.206417285005461,\n        \"min\": 24.0,\n        \"max\": 122.0,\n        \"num_unique_values\": 67,\n        \"samples\": [\n          55.0,\n          90.0,\n          74.0\n        ],\n        \"semantic_type\": \"\",\n        \"description\": \"\"\n      }\n    },\n    {\n      \"column\": \"SkinThickness\",\n      \"properties\": {\n        \"dtype\": \"number\",\n        \"std\": 9.424099918749514,\n        \"min\": 7.0,\n        \"max\": 99.0,\n        \"num_unique_values\": 129,\n        \"samples\": [\n          31.2,\n          60.0,\n          29.4\n        ],\n        \"semantic_type\": \"\",\n        \"description\": \"\"\n      }\n    },\n    {\n      \"column\": \"Insulin\",\n      \"properties\": {\n        \"dtype\": \"number\",\n        \"std\": 98.38530764459496,\n        \"min\": 14.0,\n        \"max\": 846.0,\n        \"num_unique_values\": 452,\n        \"samples\": [\n          170.0,\n          207.0,\n          46.8\n        ],\n        \"semantic_type\": \"\",\n        \"description\": \"\"\n      }\n    },\n    {\n      \"column\": \"BMI\",\n      \"properties\": {\n        \"dtype\": \"number\",\n        \"std\": 6.886587703441882,\n        \"min\": 18.2,\n        \"max\": 67.1,\n        \"num_unique_values\": 258,\n        \"samples\": [\n          19.6,\n          42.0,\n          34.92\n        ],\n        \"semantic_type\": \"\",\n        \"description\": \"\"\n      }\n    },\n    {\n      \"column\": \"DiabetesPedigreeFunction\",\n      \"properties\": {\n        \"dtype\": \"number\",\n        \"std\": 0.33132859501277484,\n        \"min\": 0.078,\n        \"max\": 2.42,\n        \"num_unique_values\": 517,\n        \"samples\": [\n          1.731,\n          0.426,\n          0.138\n        ],\n        \"semantic_type\": \"\",\n        \"description\": \"\"\n      }\n    },\n    {\n      \"column\": \"Age\",\n      \"properties\": {\n        \"dtype\": \"number\",\n        \"std\": 11.76023154067868,\n        \"min\": 21.0,\n        \"max\": 81.0,\n        \"num_unique_values\": 52,\n        \"samples\": [\n          60.0,\n          47.0,\n          72.0\n        ],\n        \"semantic_type\": \"\",\n        \"description\": \"\"\n      }\n    },\n    {\n      \"column\": \"Outcome\",\n      \"properties\": {\n        \"dtype\": \"number\",\n        \"std\": 0.4769513772427971,\n        \"min\": 0.0,\n        \"max\": 1.0,\n        \"num_unique_values\": 2,\n        \"samples\": [\n          0.0,\n          1.0\n        ],\n        \"semantic_type\": \"\",\n        \"description\": \"\"\n      }\n    }\n  ]\n}"
            }
          },
          "metadata": {},
          "execution_count": 41
        }
      ]
    },
    {
      "cell_type": "code",
      "source": [
        "X = df_imputed.drop(\"Outcome\", axis=1)\n",
        "y = df_imputed[\"Outcome\"]\n",
        "\n",
        "X_train, X_test, y_train, y_test = train_test_split(X, y, test_size=0.3, random_state=42, stratify=y)\n",
        "\n",
        "# Standardize data (important for KNN)\n",
        "scaler = StandardScaler()\n",
        "X_train = scaler.fit_transform(X_train)\n",
        "X_test = scaler.transform(X_test)\n"
      ],
      "metadata": {
        "id": "DRtHr_dKh4iQ"
      },
      "execution_count": 42,
      "outputs": []
    },
    {
      "cell_type": "code",
      "source": [
        "methods = ['brute', 'kd_tree', 'ball_tree']\n",
        "results = {}\n",
        "\n",
        "for algo in methods:\n",
        "    start = time.time()\n",
        "    knn = KNeighborsClassifier(n_neighbors=5, algorithm=algo)\n",
        "    knn.fit(X_train, y_train)\n",
        "    y_pred = knn.predict(X_test)\n",
        "    end = time.time()\n",
        "\n",
        "    acc = accuracy_score(y_test, y_pred)\n",
        "    results[algo] = {\"accuracy\": acc, \"time\": end - start}\n",
        "\n",
        "    print(f\"Algorithm: {algo}\")\n",
        "    print(f\" Accuracy: {acc:.4f}\")\n",
        "    print(f\"Training Time: {end - start:.4f} sec\\n\")\n"
      ],
      "metadata": {
        "colab": {
          "base_uri": "https://localhost:8080/"
        },
        "id": "xL-lM1RTh7Zw",
        "outputId": "811c8a4a-1f6c-46ba-f3be-8db1bff3018a"
      },
      "execution_count": 43,
      "outputs": [
        {
          "output_type": "stream",
          "name": "stdout",
          "text": [
            "Algorithm: brute\n",
            " Accuracy: 0.7446\n",
            "Training Time: 0.0067 sec\n",
            "\n",
            "Algorithm: kd_tree\n",
            " Accuracy: 0.7446\n",
            "Training Time: 0.0080 sec\n",
            "\n",
            "Algorithm: ball_tree\n",
            " Accuracy: 0.7446\n",
            "Training Time: 0.0070 sec\n",
            "\n"
          ]
        }
      ]
    },
    {
      "cell_type": "code",
      "source": [
        "results_df = pd.DataFrame(results).T\n",
        "print(results_df)\n",
        "\n",
        "# Visualization\n",
        "results_df.plot(kind='bar', figsize=(8,5))\n",
        "plt.title(\"KNN Algorithm Comparison: Accuracy & Time\")\n",
        "plt.ylabel(\"Value\")\n",
        "plt.grid(True)\n",
        "plt.show()\n"
      ],
      "metadata": {
        "colab": {
          "base_uri": "https://localhost:8080/",
          "height": 583
        },
        "id": "Q_fkRVn6iGwR",
        "outputId": "5342bb15-8c09-40e1-f756-57a775368cec"
      },
      "execution_count": 44,
      "outputs": [
        {
          "output_type": "stream",
          "name": "stdout",
          "text": [
            "           accuracy      time\n",
            "brute      0.744589  0.006706\n",
            "kd_tree    0.744589  0.007987\n",
            "ball_tree  0.744589  0.007023\n"
          ]
        },
        {
          "output_type": "display_data",
          "data": {
            "text/plain": [
              "<Figure size 800x500 with 1 Axes>"
            ],
            "image/png": "[encoded data removed]"
          },
          "metadata": {}
        }
      ]
    },
    {
      "cell_type": "code",
      "source": [
        "best_algo = results_df['accuracy'].idxmax()\n",
        "print(f\"Best Performing Algorithm: {best_algo}\")\n"
      ],
      "metadata": {
        "colab": {
          "base_uri": "https://localhost:8080/"
        },
        "id": "5EIZsQu2iO99",
        "outputId": "3b024fd8-0a53-41bd-8f57-f404bf13610f"
      },
      "execution_count": 45,
      "outputs": [
        {
          "output_type": "stream",
          "name": "stdout",
          "text": [
            "Best Performing Algorithm: brute\n"
          ]
        }
      ]
    }
  ]
}