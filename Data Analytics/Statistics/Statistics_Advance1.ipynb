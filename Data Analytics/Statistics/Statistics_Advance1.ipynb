{
  "nbformat": 4,
  "nbformat_minor": 0,
  "metadata": {
    "colab": {
      "provenance": []
    },
    "kernelspec": {
      "name": "python3",
      "display_name": "Python 3"
    },
    "language_info": {
      "name": "python"
    }
  },
  "cells": [
    {
      "cell_type": "markdown",
      "source": [
        "## Question 1: What is a random variable in probability theory?\n",
        "- In probability theory, a random variable is a variable whose possible values are determined by the outcome of a random experiment.\n",
        "\n",
        "- It acts like a function that maps each outcome of an experiment to a numerical value.\n",
        "\n",
        "Types of Random Variables:\n",
        "\n",
        "+ Discrete Random Variable\n",
        "\n",
        "  - Takes countable values (finite or infinite countable).\n",
        "\n",
        "  - Example: Number of heads in 3 coin tosses → {0, 1, 2, 3}\n",
        "\n",
        "+ Continuous Random Variable\n",
        "\n",
        "  - Takes uncountably infinite values (usually real numbers in an interval).\n",
        "\n",
        "  - Example: Height of students in a class → Any value in a range like 150–200 cm.\n",
        "Example\n",
        "🎲 Rolling a fair die:\n",
        "\n",
        "Experiment: Roll one die.\n",
        "\n",
        "Sample space: {1, 2, 3, 4, 5, 6}\n",
        "\n",
        "Random variable\n",
        "𝑋\n",
        "X = \"number shown on die\".\n",
        "\n",
        "So:\n",
        "\n",
        "𝑃(𝑋=4)=1/6\n",
        "\n",
        "𝑃(𝑋=2)=1/6\n",
        "\n",
        "---\n",
        "\n",
        "## Question 2: What are the types of random variables?\n",
        "\n",
        "In probability theory, a **random variable** is a variable whose possible values are the outcomes of a random phenomenon.\n",
        "\n",
        "There are **two main types of random variables**:\n",
        "\n",
        "### 1. Discrete Random Variable\n",
        "- **Definition**: Takes a **countable** number of possible values.\n",
        "- **Examples**:  \n",
        "  - Number of heads in 10 coin tosses (0, 1, 2, ..., 10)  \n",
        "  - Number of students in a class  \n",
        "- **Key Points**:  \n",
        "  - Values are distinct and separate.  \n",
        "  - Probabilities can be assigned to each possible value using a **probability mass function (PMF)**.\n",
        "\n",
        "### 2. Continuous Random Variable\n",
        "- **Definition**: Takes an **infinite number** of possible values within a given range.\n",
        "- **Examples**:  \n",
        "  - Height of a student (e.g., 160.2 cm, 160.25 cm, etc.)  \n",
        "  - Time taken to run a race  \n",
        "- **Key Points**:  \n",
        "  - Values are measured, not counted.  \n",
        "  - Probabilities are represented using a **probability density function (PDF)**.  \n",
        "  - Probability of any exact value is **zero**; we consider intervals instead.\n",
        "\n",
        "### Summary Table:\n",
        "\n",
        "| Feature                | Discrete Random Variable | Continuous Random Variable |\n",
        "|------------------------|--------------------------|----------------------------|\n",
        "| **Possible Values**    | Countable                | Infinite (within a range)  |\n",
        "| **Function Used**      | PMF                      | PDF                        |\n",
        "| **Example**            | Number of cars in a lot  | Temperature in a city      |\n",
        "\n",
        "---\n",
        "## Question 3: Difference Between Discrete and Continuous Distributions\n",
        "\n",
        "| **Aspect** | **Discrete Distribution** | **Continuous Distribution** |\n",
        "|------------|---------------------------|------------------------------|\n",
        "| **Definition** | Probability distribution where the random variable can take **countable distinct values**. | Probability distribution where the random variable can take **uncountable infinite values** within a range. |\n",
        "| **Possible Values** | Finite or countably infinite (e.g., 0, 1, 2, …). | Any real value within an interval (e.g., 2.5, 3.141, etc.). |\n",
        "| **Probability of a Single Value** | Can have a positive probability for an exact value. | Probability of a specific exact value is **zero**; only ranges have probability. |\n",
        "| **Examples** | Number of students in a class, number of heads in coin tosses, number of cars passing a signal. | Height of people, time to finish a task, temperature in a city. |\n",
        "| **Probability Representation** | **Probability Mass Function (PMF)**. | **Probability Density Function (PDF)**. |\n",
        "| **Graph Representation** | Bar graphs (separate bars for each value). | Smooth curve representing density over an interval. |\n",
        "\n",
        "- Discrete → Countable values, PMF, bars in graph.  \n",
        "- Continuous → Infinite possible values in a range, PDF, smooth curve in graph.\n",
        "\n",
        "---\n",
        "\n",
        "## Question 4: What is a binomial distribution, and how is it used in probability?\n",
        "**Binomial Distribution**\n",
        "\n",
        "A **binomial distribution** is a probability distribution that describes the number of **successes** in a fixed number of independent **Bernoulli trials** (experiments with two possible outcomes: success or failure), where the probability of success is the same in each trial.\n",
        "\n",
        "**Key Characteristics:**\n",
        "1. The experiment has **n** fixed trials.\n",
        "2. Each trial has only **two possible outcomes** — success (p) or failure (q = 1 − p).\n",
        "3. The trials are **independent**.\n",
        "4. The probability of success remains **constant**.\n",
        "\n",
        "**Probability Formula:**\n",
        "\\[\n",
        "P(X = k) = n**C**k p^k (1-p)^{n-k}\n",
        "\\]\n",
        "Where:  \n",
        "- \\( n \\) = number of trials  \n",
        "- \\( k \\) = number of successes  \n",
        "- \\( p \\) = probability of success  \n",
        "- \\(n**C**k) = \"n choose k\" combination  \n",
        "\n",
        "**Example:**\n",
        "If a coin is flipped 10 times, and the probability of heads is 0.5, the binomial distribution can tell us the probability of getting exactly 6 heads.\n",
        "\n",
        "**Applications in Probability:**\n",
        "- Predicting the number of defective items in a batch.\n",
        "- Modeling pass/fail situations in exams.\n",
        "- Estimating customer purchases (buy vs. not buy).\n",
        "\n",
        "---\n",
        "\n",
        "## Question 5: What is the standard normal distribution, and why is it important?\n",
        "\n",
        "**Definition:**  \n",
        "The **Standard Normal Distribution** is a special case of the normal (Gaussian) distribution with:\n",
        "- **Mean (μ) = 0**\n",
        "- **Standard Deviation (σ) = 1**\n",
        "\n",
        "It is symmetric about the mean and follows the bell-shaped curve.\n",
        "\n",
        "**Key Properties:**\n",
        "1. **Shape:** Bell curve, symmetric about the mean.\n",
        "2. **Area under the curve:** Total probability = **1**.\n",
        "3. **Empirical Rule (68-95-99.7 Rule):**\n",
        "   - 68% of data lies within **±1σ** (standard deviation)\n",
        "   - 95% of data lies within **±2σ**\n",
        "   - 99.7% of data lies within **±3σ**\n",
        "4. **Z-score:**  \n",
        "   - Formula:  \n",
        "\n",
        "     Z = frac{{X -mu}/{sigma}}\n",
        "\n",
        "   - Converts any normal distribution to a standard normal distribution.\n",
        "\n",
        "\n",
        "**Importance:**\n",
        "- Simplifies probability calculations using **Z-tables**.\n",
        "- Used for hypothesis testing, confidence intervals, and statistical inference.\n",
        "- Allows comparison of scores from different normal distributions.\n",
        "\n",
        "\n",
        "**Example:**\n",
        "Suppose test scores are normally distributed with mean = 70 and standard deviation = 10.  \n",
        "Find the probability that a student scores **above 85**.\n",
        "\n",
        "1. Convert to Z-score:  \n",
        "   \\[\n",
        "   Z = \\frac{85 - 70}{10} = 1.5\n",
        "   \\]\n",
        "2. From the Z-table, \\( P(Z < 1.5) = 0.9332 \\)  \n",
        "3. Probability above 85 = \\( 1 - 0.9332 = 0.0668 \\) (≈ 6.68%)\n",
        "\n",
        "---\n",
        "\n",
        "## Question 6: What is the Central Limit Theorem (CLT), and why is it critical in statistics?\n",
        "\n",
        "### **Definition**\n",
        "The **Central Limit Theorem (CLT)** states that **when you take sufficiently large random samples from any population with a finite mean and variance, the sampling distribution of the sample mean will tend to follow a normal distribution**, regardless of the original population’s distribution.\n",
        "\n",
        "\n",
        "### **Key Points**\n",
        "- Works **even if** the original population is **not normal**.\n",
        "- The distribution of sample means becomes **approximately normal** as sample size increases.\n",
        "- **Larger sample size** ⇒ better approximation to the normal distribution.\n",
        "- **Standard deviation of the sample mean** is called the **Standard Error (SE)**.\n",
        "\n",
        "\n",
        "### **Mathematical Form**\n",
        "If:\n",
        "- Population mean = μ  \n",
        "- Population standard deviation = σ  \n",
        "- Sample size = n  \n",
        "\n",
        "Then, the sampling distribution of the mean:\n",
        "- Mean: μ  \n",
        "- Standard Error:  \n",
        "\n",
        "SE = frac{sigma}/{sqrt{n}}\n",
        "\n",
        "\n",
        "### **Why is CLT Important?**\n",
        "1. **Foundation for Statistical Inference**  \n",
        "   - Allows use of **normal distribution** for hypothesis testing and confidence intervals.\n",
        "   \n",
        "2. **Works with Non-Normal Data**  \n",
        "   - Even if the population is skewed, the mean's distribution approaches normality for large n.\n",
        "   \n",
        "3. **Practical Applications**  \n",
        "   - In quality control, surveys, and A/B testing, CLT justifies normal-based methods.\n",
        "\n",
        "\n",
        "### **Example**\n",
        "Suppose we have a population with unknown distribution, mean μ = 50, σ = 10.\n",
        "- Take **n = 30** samples repeatedly.\n",
        "- The distribution of those sample means will be approximately normal with:\n",
        "  Mean = 50, SE = frac{10}/{sqrt{30}} =approx 1.83\n",
        "\n",
        "\n",
        "---\n",
        "\n",
        "## Question 7: What is the significance of confidence intervals in statistical analysis?\n",
        "\n",
        "A **Confidence Interval (CI)** is a range of values, derived from sample data, that is likely to contain the true population parameter (like mean or proportion) with a certain level of confidence.\n",
        "\n",
        "####  Purpose:\n",
        "- To estimate **population parameters** from sample statistics.\n",
        "- To indicate the **reliability** and **precision** of the estimate.\n",
        "- To quantify **uncertainty** in sampling.\n",
        "\n",
        "#### Key Concepts:\n",
        "1. **Confidence Level**:  \n",
        "   - The probability that the interval contains the true parameter.  \n",
        "   - Commonly used: 90%, 95%, 99%.\n",
        "\n",
        "2. **Margin of Error (MOE)**:  \n",
        "   - Half the width of the CI.  \n",
        "   - Depends on sample size, variability, and confidence level.\n",
        "\n",
        "3. **Interpretation**:  \n",
        "   - A 95% CI means: If we take many samples and compute the CI for each, ~95% of them will contain the true parameter.\n",
        "\n",
        "\n",
        "#### Importance in Statistics:\n",
        "- Provides **range** instead of a single point estimate.\n",
        "- Helps in **decision making** (e.g., quality control, clinical trials).\n",
        "- Avoids overconfidence by acknowledging uncertainty.\n",
        "\n",
        "**In short:** Confidence intervals give us a range of  values for the population parameter and help us understand the precision of our estimates.\n",
        "\n",
        "---\n",
        "## Question 8: What is the concept of Expected Value in a Probability Distribution?\n",
        "\n",
        "**Definition:**  \n",
        "The **Expected Value (EV)** is the long-run average value of a random variable after many repetitions of an experiment.  \n",
        "It represents the **center of the probability distribution** and is sometimes called the *mean* of the distribution.\n",
        "\n",
        "\n",
        "### **Intuition:**\n",
        "- It’s like asking: *\"If I repeat this random process infinitely, what value should I expect on average?\"*\n",
        "- It doesn’t guarantee that the expected value will appear as an actual outcome in a single trial.\n",
        "\n",
        "\n",
        "### **Why is it important?**\n",
        "- Used in **decision making** under uncertainty.\n",
        "- Helps evaluate **risk vs reward**.\n",
        "- Fundamental in **finance**, **economics**, **machine learning**, and **game theory**.\n",
        "\n",
        "### **Python Example**\n",
        "\n",
        "\n"
      ],
      "metadata": {
        "id": "EvrElEqX1Dhx"
      }
    },
    {
      "cell_type": "code",
      "source": [
        "import numpy as np\n",
        "\n",
        "# Possible outcomes\n",
        "outcomes = np.array([1, 2, 3, 4, 5, 6])\n",
        "probabilities = np.ones(6) / 6  # Equal probability for fair die\n",
        "\n",
        "expected_value = np.sum(outcomes * probabilities)\n",
        "print(\"Expected Value:\", expected_value)"
      ],
      "metadata": {
        "colab": {
          "base_uri": "https://localhost:8080/"
        },
        "id": "0QkxYX_C7-SM",
        "outputId": "8f037392-56a9-4f39-918c-8319d8587d30"
      },
      "execution_count": 1,
      "outputs": [
        {
          "output_type": "stream",
          "name": "stdout",
          "text": [
            "Expected Value: 3.5\n"
          ]
        }
      ]
    },
    {
      "cell_type": "markdown",
      "source": [
        "---"
      ],
      "metadata": {
        "id": "eaiEvPs78O-Q"
      }
    },
    {
      "cell_type": "code",
      "source": [
        "# Question 9: Write a Python program to generate 1000 random numbers from a normal\n",
        "# distribution with mean = 50 and standard deviation = 5. Compute its mean and standard\n",
        "# deviation using NumPy, and draw a histogram to visualize the distribution.\n"
      ],
      "metadata": {
        "id": "Ui-2bEze8JZA"
      },
      "execution_count": null,
      "outputs": []
    },
    {
      "cell_type": "code",
      "source": [
        "import numpy as np\n",
        "import matplotlib.pyplot as plt\n",
        "\n",
        "# random numbers from normal distribution\n",
        "mean = 50\n",
        "std_dev = 5\n",
        "size = 1000\n",
        "data = np.random.normal(mean, std_dev, size)\n",
        "\n",
        "#sample mean and standard deviation\n",
        "sample_mean = np.mean(data)\n",
        "sample_std_dev = np.std(data)\n",
        "\n",
        "print(f\"Sample Mean: {sample_mean:.2f}\")\n",
        "print(f\"Sample Standard Deviation: {sample_std_dev:.2f}\")\n",
        "\n"
      ],
      "metadata": {
        "colab": {
          "base_uri": "https://localhost:8080/"
        },
        "id": "VOdsKeay8cdC",
        "outputId": "e4b56542-51de-481b-f1d8-cbe408a59393"
      },
      "execution_count": 14,
      "outputs": [
        {
          "output_type": "stream",
          "name": "stdout",
          "text": [
            "Sample Mean: 49.97\n",
            "Sample Standard Deviation: 5.07\n"
          ]
        }
      ]
    },
    {
      "cell_type": "code",
      "source": [
        "#histogram\n",
        "plt.hist(data, bins=30, edgecolor='black', alpha=0.7)\n",
        "plt.title('Normal Distribution (Mean=50, Std=5)')\n",
        "plt.xlabel('Value')\n",
        "plt.ylabel('Frequency')\n",
        "plt.axvline(sample_mean, color='red', linestyle='dashed', linewidth=2, label=f'Mean: {sample_mean:.2f}')\n",
        "plt.legend()\n",
        "plt.show()"
      ],
      "metadata": {
        "colab": {
          "base_uri": "https://localhost:8080/",
          "height": 472
        },
        "id": "qfyKO0e2-77I",
        "outputId": "3913742d-211e-449e-a626-2c6cb578728d"
      },
      "execution_count": 18,
      "outputs": [
        {
          "output_type": "display_data",
          "data": {
            "text/plain": [
              "<Figure size 640x480 with 1 Axes>"
            ],
            "image/png": "[encoded data removed]"
          },
          "metadata": {}
        }
      ]
    },
    {
      "cell_type": "code",
      "source": [
        "# Question 10: You are working as a data analyst for a retail company. The company has\n",
        "# collected daily sales data for 2 years and wants you to identify the overall sales trend.\n",
        "# daily_sales = [220, 245, 210, 265, 230, 250, 260, 275, 240, 255, 235, 260, 245, 250, 225, 270, 265, 255, 250, 260]\n",
        "# ● Explain how you would apply the Central Limit Theorem to estimate the average sales\n",
        "# with a 95% confidence interval.\n",
        "# ● Write the Python code to compute the mean sales and its confidence interval.\n"
      ],
      "metadata": {
        "id": "CCnTjFx8_JrC"
      },
      "execution_count": null,
      "outputs": []
    },
    {
      "cell_type": "markdown",
      "source": [
        "### Applying the Central Limit Theorem (CLT)\n",
        "The Central Limit Theorem (CLT) says:\n",
        "\n",
        "If we take many random samples from a population and calculate their means, the sampling distribution of these means will be approximately normal, even if the original data is not, provided the sample size is large enough (n ≥ 30 is a common rule of thumb).\n",
        "\n",
        "- Here’s how we apply it to this sales data:\n",
        "\n",
        "### Population vs. Sample\n",
        "\n",
        "We don’t have the sales for all days ever; we just have data for 2 years (sample).\n",
        "\n",
        "We want to estimate the population mean (true average sales).\n",
        "\n",
        "### Why CLT helps\n",
        "\n",
        "With CLT, we know that the sample mean (x̄) is approximately normally distributed.\n",
        "\n",
        "This allows us to construct a Confidence Interval (CI) for the mean.\n",
        "\n",
        "95% Confidence Interval formula\n",
        "Since we have a small dataset (<30 points), we will use t-distribution (not z-distribution).\n"
      ],
      "metadata": {
        "id": "VEPqjMztEIsW"
      }
    },
    {
      "cell_type": "code",
      "source": [
        "import numpy as np\n",
        "import scipy.stats as stats\n",
        "\n",
        "# Data\n",
        "daily_sales = [220, 245, 210, 265, 230, 250, 260, 275, 240, 255,\n",
        "               235, 260, 245, 250, 225, 270, 265, 255, 250, 260]\n",
        "\n",
        "# Convert to numpy array\n",
        "data = np.array(daily_sales)\n",
        "\n",
        "# Step 1: Sample statistics\n",
        "mean_sales = np.mean(data)\n",
        "std_sales = np.std(data, ddof=1)  # Sample std deviation\n",
        "n = len(data)\n",
        "\n",
        "# Step 2: t-value for 95% CI\n",
        "confidence = 0.95\n",
        "t_value = stats.t.ppf((1 + confidence) / 2, df=n-1)\n",
        "\n",
        "# Step 3: Margin of Error\n",
        "margin_error = t_value * (std_sales / np.sqrt(n))\n",
        "\n",
        "# Step 4: Confidence Interval\n",
        "lower_bound = mean_sales - margin_error\n",
        "upper_bound = mean_sales + margin_error\n",
        "\n",
        "print(f\"Sample Mean: {mean_sales:.2f}\")\n",
        "print(f\"95% Confidence Interval: ({lower_bound:.2f}, {upper_bound:.2f})\")\n"
      ],
      "metadata": {
        "colab": {
          "base_uri": "https://localhost:8080/"
        },
        "id": "-Uskh_aaEibH",
        "outputId": "61b6aef2-b27a-4898-f92d-f5e56fa59793"
      },
      "execution_count": 39,
      "outputs": [
        {
          "output_type": "stream",
          "name": "stdout",
          "text": [
            "Sample Mean: 248.25\n",
            "95% Confidence Interval: (240.17, 256.33)\n"
          ]
        }
      ]
    },
    {
      "cell_type": "markdown",
      "source": [
        "The mean daily sales are 248.25, and the 95% confidence interval is approximately (240.17, 256.33).\n",
        "\n",
        "This means we can be 95% confident that the true average daily sales lie between 240.17 and 256.33."
      ],
      "metadata": {
        "id": "ThkMOsMJEsu8"
      }
    }
  ]
}
