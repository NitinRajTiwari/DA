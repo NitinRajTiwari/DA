{
  "nbformat": 4,
  "nbformat_minor": 0,
  "metadata": {
    "colab": {
      "provenance": []
    },
    "kernelspec": {
      "name": "python3",
      "display_name": "Python 3"
    },
    "language_info": {
      "name": "python"
    }
  },
  "cells": [
    {
      "cell_type": "markdown",
      "source": [
        "# Theory Questions"
      ],
      "metadata": {
        "id": "tMaxywzIWhll"
      }
    },
    {
      "cell_type": "markdown",
      "source": [
        "##1. What is Object-Oriented Programming (OOP)?\n",
        "\n",
        "**Object-Oriented Programming (OOP)** is a programming paradigm based on the concept of \"objects\" that encapsulate data (attributes) and behavior (methods). OOP allows for modular, reusable, and scalable code design.\n",
        "\n",
        "Key principles of OOP:\n",
        "- Encapsulation\n",
        "- Abstraction\n",
        "- Inheritance\n",
        "- Polymorphism\n",
        "\n",
        "**Example:** Designing a `Car` class with attributes (`color`, `speed`) and methods (`drive()`).\n",
        "\n",
        "---\n",
        "##2. What is a class in OOP?\n",
        "\n",
        "A **class** is a blueprint or template for creating objects. It defines attributes and methods that the created objects will have.\n",
        "\n",
        "**Example:**\n",
        "```python\n",
        "class Car:\n",
        "    def __init__(self, brand):\n",
        "        self.brand = brand\n",
        "\n",
        "    def drive(self):\n",
        "        print(f\"{self.brand} is driving.\")\n",
        "```\n",
        "---\n",
        "## 3. What is an object in OOP?\n",
        "\n",
        "```markdown\n",
        "An **object** is an instance of a class. It represents a specific implementation with actual data.\n",
        "\n",
        "**Example:**\n",
        "```python\n",
        "car1 = Car(\"Toyota\")\n",
        "car1.drive()  # Output: Toyota is driving.\n",
        "car2 = Car(\"Honda\")\n",
        "car2.drive()  # Output: Honda is driving.\n",
        "```\n",
        "\n",
        "---\n",
        "\n",
        "## 4. What is the difference between abstraction and encapsulation?\n",
        "\n",
        "- **Abstraction:** Hides complex internal logic and shows only essential features.\n",
        "```python\n",
        "  from abc import ABC,abstractmethod\n",
        "  class Car(ABC):\n",
        "    @abstractmethod\n",
        "    def drive(slef):\n",
        "      pass\n",
        " ```\n",
        "- **Encapsulation:** Binds data and methods together and restricts direct access to some components.\n",
        "```python\n",
        " class Car:\n",
        "  def __init__(self,name,price):\n",
        "    self.__name=name\n",
        "    self.__price=price\n",
        "car1=Car(\"Toyota\",\"50l\")\n",
        "\n",
        " ```\n",
        "\n",
        "**Example:**\n",
        "- Abstraction: Using `.read()` method of a file without knowing internal buffer implementation.\n",
        "- Encapsulation: Using private attributes like `self.__salary` inside a class.\n",
        "---\n",
        "\n",
        "##5. What are dunder methods in Python?\n",
        "\n",
        "**Dunder methods** (short for \"double underscore\") are special methods in Python that start and end with `__`.\n",
        "\n",
        "Examples:\n",
        "- `__init__` → Constructor\n",
        "- `__str__` → String representation\n",
        "- `__len__`, `__add__`, `__getitem__`, etc.\n",
        "\n",
        "**Example:**\n",
        "```python\n",
        "class Book:\n",
        "    def __str__(self):\n",
        "        return \"Book object\"\n",
        "\n",
        "print(str(Book()))  # Book object\n",
        "```\n",
        "\n",
        "---\n",
        "\n",
        "## 6. Explain the concept of inheritance in OOP\n",
        "\n",
        "**Inheritance** allows one class (child/subclass) to inherit attributes and methods from another class (parent/superclass).\n",
        "\n",
        "**Example:**\n",
        "```python\n",
        "class Animal:\n",
        "    def speak(self):\n",
        "        print(\"Animal speaks\")\n",
        "\n",
        "class Dog(Animal):\n",
        "    def bark(self):\n",
        "        print(\"Dog barks\")\n",
        "\n",
        "d = Dog()\n",
        "d.speak()  # Inherited\n",
        "d.bark()\n",
        "```\n",
        "\n",
        "---\n",
        "\n",
        "## 7. What is polymorphism in OOP?\n",
        "\n",
        "```markdown\n",
        "**Polymorphism** allows different classes to be treated as instances of the same interface or parent class.\n",
        "\n",
        "**Example:**\n",
        "```python\n",
        "class Cat:\n",
        "    def sound(self):\n",
        "        print(\"Meow\")\n",
        "\n",
        "class Dog:\n",
        "    def sound(self):\n",
        "        print(\"Bark\")\n",
        "\n",
        "for animal in [Cat(), Dog()]:\n",
        "    animal.sound()\n",
        "\n",
        "#output\n",
        " Meow\n",
        " Bark\n",
        "```\n",
        "\n",
        "---\n",
        "\n",
        "## 8. How is encapsulation achieved in Python?\n",
        "\n",
        "```markdown\n",
        "Encapsulation is achieved using:\n",
        "- **Public members**: accessible everywhere\n",
        "- **Private members**: prefix with double underscore (`__`)\n",
        "\n",
        "**Example:**\n",
        "```python\n",
        "class Employee:\n",
        "    def __init__(self, name, salary):\n",
        "        self.name = name\n",
        "        self.__salary = salary  # private\n",
        "\n",
        "    def get_salary(self):\n",
        "        return self.__salary\n",
        "\n",
        "```\n",
        "\n",
        "---\n",
        "\n",
        "## 9. What is a constructor in Python?\n",
        "\n",
        "```markdown\n",
        "A **constructor** is a special method called `__init__()` that is automatically invoked when an object is created.\n",
        "\n",
        "**Example:**\n",
        "```python\n",
        "class Student:\n",
        "    def __init__(self, name):\n",
        "        self.name = name\n",
        "        print(f\"this is new Student Object:{self.name}\")\n",
        "\n",
        "s = Student(\"John\")\n",
        "print(s.name)\n",
        "\n",
        "#output\n",
        " this is new Student Object:John\n",
        " John\n",
        "```\n",
        "\n",
        "---\n",
        "\n",
        "## 10. What are class and static methods in Python?\n",
        "\n",
        "```markdown\n",
        "- **@classmethod** → Takes `cls` as the first parameter and can access class variables.\n",
        "- **@staticmethod** → Behaves like a regular function inside the class (no `self` or `cls`).\n",
        "\n",
        "**Example:**\n",
        "```python\n",
        "class MyClass:\n",
        "    count = 0\n",
        "\n",
        "    @classmethod\n",
        "    def show_count(cls,name):\n",
        "        return cls.count\n",
        "\n",
        "    @staticmethod\n",
        "    def greet():\n",
        "        print(\"Hello!\")\n",
        "MyClass.show_count()\n",
        "MyClass.greet()\n",
        "```\n",
        "\n",
        "---\n",
        "\n",
        "## 11. What is method overloading in Python?\n",
        "\n",
        "Python does not support traditional method overloading directly. Instead, you can use default arguments or `*args`.\n",
        "- Even if you try to overload the function python will interpret the latest defined function\n",
        "\n",
        "**Example:**\n",
        "```python\n",
        "class Math:\n",
        "    def add(self, a, b=0, c=0):\n",
        "        return a + b + c\n",
        "\n",
        "m = Math()\n",
        "print(m.add(5))       # 5\n",
        "print(m.add(5, 3))    # 8\n",
        "print(m.add(5, 3, 2)) # 10\n",
        "```\n",
        "\n",
        "---\n",
        "\n",
        "### 12. What is method overriding in OOP\n",
        "\n",
        "**Method overriding** allows a subclass to provide a specific implementation of a method that is already defined in its superclass.\n",
        "\n",
        "**Example:**\n",
        "```python\n",
        "class Animal:\n",
        "    def speak(self):\n",
        "        print(\"Animal speaks\")\n",
        "\n",
        "class Dog(Animal):\n",
        "    def speak(self):\n",
        "        print(\"Dog barks\")\n",
        "\n",
        "d = Dog()\n",
        "d.speak()  # Output: Dog barks\n",
        "```\n",
        "\n",
        "---\n",
        "\n",
        "## 13. What is a property decorator in Python\n",
        "\n",
        "The `@property` decorator is used to define getter methods so that an attribute can be accessed like a variable, while internally it runs a method.\n",
        "\n",
        "**Example:**\n",
        "```python\n",
        "class Circle:\n",
        "    def __init__(self, radius):\n",
        "        self._radius = radius\n",
        "\n",
        "    @property\n",
        "    def area(self):\n",
        "        return 3.14 * self._radius ** 2\n",
        "\n",
        "c = Circle(5)\n",
        "print(c.area)  # No parentheses needed\n",
        "\n",
        "```\n",
        "---\n",
        "## 14. Why is polymorphism important in OOP\n",
        "**Polymorphism** (meaning \"many forms\") allows objects of different classes to be treated through a common interface, especially when they share a method name.\n",
        "\n",
        "**Importance:**\n",
        "- Enables code **reusability**\n",
        "- Allows **flexibility** in function/method calls\n",
        "- Simplifies code by using common interfaces\n",
        "\n",
        "**Example:**\n",
        "```python\n",
        "class Cat:\n",
        "    def speak(self):\n",
        "        return \"Meow\"\n",
        "\n",
        "class Dog:\n",
        "    def speak(self):\n",
        "        return \"Woof\"\n",
        "\n",
        "def make_sound(animal_obj):\n",
        "    print(animal_obj.speak())\n",
        "\n",
        "animal_sound(Cat())\n",
        "animal_sound(Dog())\n",
        "\n",
        "```\n",
        "---\n",
        "---\n",
        "\n",
        "##15. What is an abstract class in Python\n",
        "\n",
        "```markdown\n",
        "An **abstract class** is a class that cannot be instantiated directly and often contains **abstract methods**, which are methods without implementation.\n",
        "\n",
        "Python provides the `ABC` (Abstract Base Class) module to define abstract classes using `@abstractmethod`.\n",
        "\n",
        "**Purpose:**\n",
        "- Define a blueprint for subclasses\n",
        "- Ensure certain methods are implemented in child classes\n",
        "\n",
        "**Example:**\n",
        "```python\n",
        "from abc import ABC, abstractmethod\n",
        "\n",
        "class Shape(ABC):\n",
        "    @abstractmethod\n",
        "    def area(self):\n",
        "        pass\n",
        "\n",
        "class Circle(Shape):\n",
        "    def area(self):\n",
        "        return 3.14 * 5 * 5  # example radius\n",
        "\n",
        "c = Circle()\n",
        "print(c.area())\n",
        "```\n",
        "\n",
        "---\n",
        "\n",
        "##16. What are the advantages of OOP\n",
        "\n",
        "**Object-Oriented Programming** offers several benefits:\n",
        "\n",
        "1. **Modularity:** Code is organized into classes and objects.\n",
        "2. **Reusability:** Inheritance allows code reuse.\n",
        "3. **Scalability:** Easy to scale with new features via polymorphism/inheritance.\n",
        "4. **Security:** Encapsulation hides internal states.\n",
        "5. **Maintainability:** Classes and methods are easier to test, debug, and maintain.\n",
        "\n",
        "OOP allows building real-world applications with cleaner, reusable, and extensible code.\n",
        "\n",
        "---\n",
        "##17. What is multiple inheritance in Python\n",
        "**Multiple inheritance** means a class can inherit from **more than one** parent class.\n",
        "\n",
        "**Syntax:**\n",
        "```python\n",
        "class A:\n",
        "    def show(self):\n",
        "        print(\"A\")\n",
        "\n",
        "class B:\n",
        "    def display(self):\n",
        "        print(\"B\")\n",
        "\n",
        "class C(A, B):\n",
        "    pass\n",
        "\n",
        "obj = C()\n",
        "obj.show()\n",
        "obj.display()\n",
        "```\n",
        "Python uses the Method Resolution Order (MRO) to decide which method to call if multiple base classes have the same method(Diamond Problem).\n",
        "\n",
        "\n",
        "---\n",
        "\n",
        "## 18. What is the difference between a class variable and an instance variable\n",
        "\n",
        "- **Class variable**: Shared by **all instances** of a class. Defined outside `__init__`.\n",
        "\n",
        "- **Instance variable**: Unique to each object. Defined inside `__init__`.\n",
        "\n",
        "**Example:**\n",
        "```python\n",
        "class Car:\n",
        "    wheels = 4  # Class variable(same for all objects)\n",
        "\n",
        "    def __init__(self, color):\n",
        "        self.color = color  # Instance variable(Diff. for each object)\n",
        "\n",
        "car1 = Car(\"Red\")\n",
        "car2 = Car(\"Blue\")\n",
        "\n",
        "print(Car.wheels)  # 4\n",
        "print(car2.color)   # Blue\n",
        "```\n",
        "\n",
        "---\n",
        "\n",
        "##19. Explain the purpose of `__str__` and `__repr__` methods in Python\n",
        "\n",
        "```markdown\n",
        "- `__str__`: Called by `print()` or `str()` to return a readable string for the end-user.\n",
        "- `__repr__`: Called by `repr()` or in the interpreter, meant for **developers** (debugging).\n",
        "\n",
        "**Example:**\n",
        "```python\n",
        "class Book:\n",
        "    def __init__(self, title):\n",
        "        self.title = title\n",
        "\n",
        "    def __str__(self):\n",
        "        return f\"Book Title: {self.title}\"\n",
        "\n",
        "    def __repr__(self):\n",
        "        return f\"Book('{self.title}')\"\n",
        "\n",
        "b = Book(\"Python\")\n",
        "print(str(b))     # Book Title: Python\n",
        "print(repr(b))    # Book('Python')\n",
        "```\n",
        "\n",
        "---\n",
        "\n",
        "##20. What is the significance of the `super()` function in Python\n",
        "\n",
        "The `super()` function is used to **call methods from a parent class**, especially inside constructors or overridden methods.\n",
        "\n",
        "**Why use it?**\n",
        "- Avoids hardcoding parent class names\n",
        "- Supports multiple inheritance correctly via MRO\n",
        "\n",
        "**Example:**\n",
        "```python\n",
        "class Animal:\n",
        "    def __init__(self):\n",
        "        print(\"Animal constructor\")\n",
        "\n",
        "class Dog(Animal):\n",
        "    def __init__(self):\n",
        "        super().__init__()  # Call parent constructor\n",
        "        print(\"Dog constructor\")\n",
        "\n",
        "d = Dog()\n",
        "#output\n",
        " Animal constructor\n",
        " Dog constructor\n",
        "```\n",
        "\n",
        "---\n",
        "\n",
        "##21. What is the significance of the `__del__` method in Python\n",
        "\n",
        "The `__del__` method is a **destructor**. It is automatically called when an object is about to be deleted (usually when reference count drops to 0).\n",
        "\n",
        "**Use case:** Resource cleanup like closing files or network connections.\n",
        "\n",
        "**Example:**\n",
        "```python\n",
        "class FileHandler:\n",
        "    def __init__(self, filename):\n",
        "        self.file = open(filename, 'w')\n",
        "\n",
        "    def __del__(self):\n",
        "        self.file.close()\n",
        "        print(\"File closed.\")\n",
        "\n",
        "f = FileHandler(\"demo.txt\")\n",
        "del f  # Triggers __del__()\n",
        "```\n",
        "__del__() is rarely used today due to unpredictable behavior and Python's garbage collection.\n",
        "\n",
        "\n",
        "---\n",
        "\n",
        "## 22. What is the difference between `@staticmethod` and `@classmethod` in Python\n",
        "\n",
        "- `@staticmethod`: Doesn't take `self` or `cls`, and cannot access class or instance data. Acts like a plain function inside a class.\n",
        "- `@classmethod`: Takes `cls` as first argument and can access/modify class variables.\n",
        "\n",
        "**Example:**\n",
        "```python\n",
        "class Test:\n",
        "    count = 0\n",
        "\n",
        "    @staticmethod\n",
        "    def greet():\n",
        "        print(\"Hello!\")\n",
        "\n",
        "    @classmethod\n",
        "    def increment(cls):\n",
        "        cls.count += 1\n",
        "```\n",
        "we use @staticmethod for utility functions, and @classmethod when you need class-level access.\n",
        "\n",
        "\n",
        "---\n",
        "\n",
        "## 23. How does polymorphism work in Python with inheritance\n",
        "\n",
        "Polymorphism in inheritance allows **child classes to override** parent class methods, enabling objects of different classes to behave differently using the same interface.\n",
        "\n",
        "**Example:**\n",
        "```python\n",
        "class Animal:\n",
        "    def speak(self):\n",
        "        print(\"Animal sound\")\n",
        "\n",
        "class Cat(Animal):\n",
        "    def speak(self):\n",
        "        print(\"Meow\")\n",
        "\n",
        "class Dog(Animal):\n",
        "    def speak(self):\n",
        "        print(\"Woof\")\n",
        "\n",
        "for animal in (Cat(), Dog()):\n",
        "    animal.speak()\n",
        "\n",
        "```\n",
        "This is runtime polymorphism, where method resolution happens during execution.\n",
        "\n",
        "\n",
        "---\n",
        "\n",
        "## 24. What is method chaining in Python OOP\n",
        "\n",
        "```markdown\n",
        "**Method chaining** is the practice of calling multiple methods in a **single line**, where each method returns the object itself (`self`).\n",
        "\n",
        "**Example:**\n",
        "```python\n",
        "class Text:\n",
        "    def __init__(self):\n",
        "        self.content = \"\"\n",
        "\n",
        "    def write(self, text):\n",
        "        self.content += text\n",
        "        return self\n",
        "\n",
        "    def uppercase(self):\n",
        "        self.content = self.content.upper()\n",
        "        return self\n",
        "\n",
        "    def display(self):\n",
        "        print(self.content)\n",
        "        return self   # self is returned to get the objects reference and apply chained function to it\n",
        "\n",
        "print(Text().write(\"hello \").write(\"world\").uppercase().display())\n",
        "\n",
        "#output\n",
        " HELLO WORLD\n",
        "```\n",
        "\n",
        "---\n",
        "\n",
        "## 25. What is the purpose of the `__call__` method in Python?\n",
        "\n",
        "```markdown\n",
        "The `__call__` method allows an instance of a class to be **called like a function**.\n",
        "\n",
        "**Use case:** Function-like objects, decorators, or callback handlers.\n",
        "\n",
        "**Example:**\n",
        "```python\n",
        "class Greeter:\n",
        "    def __init__(self, name):\n",
        "        self.name = name\n",
        "\n",
        "    def __call__(self):\n",
        "        print(f\"Hello, {self.name}!\")\n",
        "\n",
        "g = Greeter(\"Ram\")\n",
        "g()  # Equivalent to g.__call__()\n",
        "\n",
        "#output\n",
        " Hello, Ram!\n",
        "```\n",
        "\n",
        "\n",
        "\n",
        "\n",
        "\n",
        "\n",
        "\n",
        "\n",
        "\n"
      ],
      "metadata": {
        "id": "akG01qPeWpvC"
      }
    },
    {
      "cell_type": "markdown",
      "source": [
        "# Practical Questions"
      ],
      "metadata": {
        "id": "wUGnBaaFlKpy"
      }
    },
    {
      "cell_type": "code",
      "source": [
        "#Q1 Create a parent class Animal with a method speak() that prints a generic message. Create a child class Dog that overrides the speak() method to print \"Bark!\".\n",
        "class Animal:\n",
        "  def speak(self):\n",
        "    print(\"Animal make Sound\")\n",
        "class Dog(Animal):\n",
        "  def speak(self):\n",
        "    print(\"Bark!\")\n",
        "d=Dog()\n",
        "d.speak()"
      ],
      "metadata": {
        "colab": {
          "base_uri": "https://localhost:8080/"
        },
        "id": "BsCBGERrAQik",
        "outputId": "3683f232-6e61-4aeb-d344-e4c26bfa8ca5"
      },
      "execution_count": null,
      "outputs": [
        {
          "output_type": "stream",
          "name": "stdout",
          "text": [
            "Bark!\n"
          ]
        }
      ]
    },
    {
      "cell_type": "code",
      "source": [
        "#Q2 Write a program to create an abstract class Shape with a method area(). Derive classes Circle and Rectangle from it and implement the area() method in both.\n",
        "from abc import ABC,abstractmethod\n",
        "import math\n",
        "class Shape(ABC):\n",
        "  @abstractmethod\n",
        "  def area(self):\n",
        "    pass\n",
        "class Circle(Shape):\n",
        "  def __init__(self,radius):\n",
        "    self.radius=radius\n",
        "  def area(self):\n",
        "    return round(math.pi*self.radius*self.radius,2)\n",
        "c1=Circle(5)\n",
        "c1.area()"
      ],
      "metadata": {
        "colab": {
          "base_uri": "https://localhost:8080/"
        },
        "id": "CrLjXrYWA4sk",
        "outputId": "0e411f68-2a76-4f90-d9c7-d44d719096e3"
      },
      "execution_count": null,
      "outputs": [
        {
          "output_type": "execute_result",
          "data": {
            "text/plain": [
              "78.54"
            ]
          },
          "metadata": {},
          "execution_count": 36
        }
      ]
    },
    {
      "cell_type": "code",
      "source": [
        "class Rectanlge(Shape):\n",
        "  def __init__(self,length,breadth):\n",
        "    self.length=length\n",
        "    self.breadth=breadth\n",
        "  def area(self):\n",
        "    return round(self.length*self.breadth,2)\n",
        "r1=Rectanlge(5,4)\n",
        "r1.area()"
      ],
      "metadata": {
        "colab": {
          "base_uri": "https://localhost:8080/"
        },
        "id": "H9Sgw7ccCU1n",
        "outputId": "4063c9dc-7ec0-418d-f8d4-6db613d035b9"
      },
      "execution_count": null,
      "outputs": [
        {
          "output_type": "execute_result",
          "data": {
            "text/plain": [
              "20"
            ]
          },
          "metadata": {},
          "execution_count": 39
        }
      ]
    },
    {
      "cell_type": "code",
      "source": [
        "#Q3 Implement a multi-level inheritance scenario where a class Vehicle has an attribute type. Derive a class Car and further derive a class ElectricCar that adds a battery attribute.\n",
        "class Vehicle:\n",
        "  def __init__(self,vehicle_type):\n",
        "    self.vehicle_type=vehicle_type # car / Bike\n",
        "  def __str__(self):\n",
        "    return f\"Vehicle Type : {self.vehicle_type}\"\n",
        "class Car(Vehicle):\n",
        "  def __init__(self,car_type):\n",
        "    super().__init__(\"car\")\n",
        "    self.car_type=car_type\n",
        "  def __str__(self):\n",
        "    return f\"Car Type : {self.car_type}\"\n",
        "class ElectricCar(Car):\n",
        "  def __init__(self,battery):\n",
        "    super().__init__(\"Electric Car\")\n",
        "    self.battery=battery\n",
        "  def __str__(self):\n",
        "    return f\"Electric Car with Battery : {self.battery}\"\n",
        "\n",
        "v1=Vehicle(\"car\")\n",
        "print(v1)\n",
        "\n",
        "c1=Car(\"petrol\")\n",
        "print(c1)\n",
        "\n",
        "e1=ElectricCar(\"80%\")\n",
        "print(f\"\\n{e1.vehicle_type}\")\n",
        "print(e1.car_type)\n",
        "print(e1)\n",
        "\n",
        "\n"
      ],
      "metadata": {
        "colab": {
          "base_uri": "https://localhost:8080/"
        },
        "id": "80nejflDC1nc",
        "outputId": "e324c215-9aab-4add-e75f-fcb65f38df13"
      },
      "execution_count": null,
      "outputs": [
        {
          "output_type": "stream",
          "name": "stdout",
          "text": [
            "Vehicle Type : car\n",
            "Car Type : petrol\n",
            "\n",
            "car\n",
            "Electric Car\n",
            "Electric Car with Battery : 80%\n"
          ]
        }
      ]
    },
    {
      "cell_type": "code",
      "source": [
        "#Q4 Demonstrate polymorphism by creating a base class Bird with a method fly(). Create two derived classes Sparrow and Penguin that override the fly() method.\n",
        "class Bird:\n",
        "  def fly(self):\n",
        "    pass\n",
        "class Sparrow(Bird):\n",
        "  def fly(self):\n",
        "    print(\"sparrow is flying\")\n",
        "class Penguin(Bird):\n",
        "   def fly(self):\n",
        "    print(\"Penguin can't fly\")\n",
        "\n",
        "s1=Sparrow()\n",
        "s1.fly()\n",
        "p1=Penguin()\n",
        "p1.fly()"
      ],
      "metadata": {
        "colab": {
          "base_uri": "https://localhost:8080/"
        },
        "id": "M4z0w7y6GHRF",
        "outputId": "4eb12657-0c2e-4e7e-868c-6b19ed336329"
      },
      "execution_count": null,
      "outputs": [
        {
          "output_type": "stream",
          "name": "stdout",
          "text": [
            "sparrow is flying\n",
            "Penguin can't fly\n"
          ]
        }
      ]
    },
    {
      "cell_type": "code",
      "source": [
        "#Q5. Write a program to demonstrate encapsulation by creating a class BankAccount with private attribute balance and methods to deposit, withdraw, and check balance.\n",
        "class BankAccount:\n",
        "  def __init__(self):\n",
        "    self.__balance=0\n",
        "  def deposit(self,amount):\n",
        "    self.__balance+= amount if amount>0 else 0\n",
        "  def check_balance(self):\n",
        "    return self.__balance\n",
        "  def withdraw(self,amount):\n",
        "    if(self.__balance>amount):\n",
        "      self.__balance-=amount\n",
        "    else:\n",
        "      print(\"Insufficient balance\")\n",
        "\n",
        "acc=BankAccount()\n",
        "acc.deposit(10000)\n",
        "print(acc.check_balance())\n",
        "acc.withdraw(5000)\n",
        "print(acc.check_balance())\n",
        "acc.withdraw(10000)\n",
        "print(acc.check_balance())"
      ],
      "metadata": {
        "colab": {
          "base_uri": "https://localhost:8080/"
        },
        "id": "IqjpcB9qH_qm",
        "outputId": "b89bf51c-7982-4df0-892f-556d707bbe63"
      },
      "execution_count": 19,
      "outputs": [
        {
          "output_type": "stream",
          "name": "stdout",
          "text": [
            "10000\n",
            "5000\n",
            "Insufficient balance\n",
            "5000\n"
          ]
        }
      ]
    },
    {
      "cell_type": "code",
      "source": [
        "# Q6. Demonstrate runtime polymorphism using a method play() in a base class Instrument. Derive classes Guitar and Piano that implement their own version of play().\n",
        "\n",
        "class Instrument:\n",
        "  def play(self):\n",
        "    pass\n",
        "\n",
        "class Guitar(Instrument):\n",
        "  def play(self):\n",
        "    print(\"Guitar is playing\")\n",
        "\n",
        "class Piano(Instrument):\n",
        "  def play(self):\n",
        "    print(\"Piano is playing\")\n",
        "\n",
        "# Demonstrate polymorphism\n",
        "instruments = [Guitar(), Piano()]\n",
        "\n",
        "for instrument in instruments:\n",
        "  instrument.play()"
      ],
      "metadata": {
        "id": "HYTEhCEpKzlh"
      },
      "execution_count": null,
      "outputs": []
    },
    {
      "cell_type": "code",
      "source": [
        "#Q7. Create a class MathOperations with a class method add_numbers() to add two numbers and a static method subtract_numbers() to subtract two numbers.\n",
        "class MathOperations:\n",
        "  @classmethod\n",
        "  def add_numbers(cls,x,y):\n",
        "    return x+y\n",
        "  @staticmethod\n",
        "  def subtract_numbers(x,y):\n",
        "    return x-y\n",
        "s=MathOperations.add_numbers(5,4)\n",
        "print(s)\n",
        "sub=MathOperations.subtract_numbers(5,4)\n",
        "print(sub)"
      ],
      "metadata": {
        "colab": {
          "base_uri": "https://localhost:8080/"
        },
        "id": "DXVo-QfgLHNX",
        "outputId": "b5cf08e1-ac5a-43d9-a6d3-a9e207279258"
      },
      "execution_count": null,
      "outputs": [
        {
          "output_type": "stream",
          "name": "stdout",
          "text": [
            "9\n",
            "1\n"
          ]
        }
      ]
    },
    {
      "cell_type": "code",
      "source": [
        "# Q8. Implement a class Person with a class method to count the total number of persons created.\n",
        "class Person:\n",
        "  no_of_persons=0\n",
        "\n",
        "  def __init__(self):\n",
        "    self.name=\"a\"\n",
        "    Person.no_of_persons+=1\n",
        "  @classmethod\n",
        "  def count_persons(cls):\n",
        "    return cls.no_of_persons\n",
        "p1=Person()\n",
        "p2=Person()\n",
        "p3=Person()\n",
        "p4=Person()\n",
        "p5=Person()\n",
        "print(f\"Total no. of Persons: {Person.count_persons()}\")"
      ],
      "metadata": {
        "colab": {
          "base_uri": "https://localhost:8080/"
        },
        "id": "NtWAIkZAL1-H",
        "outputId": "c88d25e6-799b-425a-f1c4-30beed3eda9b"
      },
      "execution_count": null,
      "outputs": [
        {
          "output_type": "stream",
          "name": "stdout",
          "text": [
            "Total no. of Persons: 5\n"
          ]
        }
      ]
    },
    {
      "cell_type": "code",
      "source": [
        "#Q9 Write a class Fraction with attributes numerator and denominator. Override the str method to display the fraction as \"numerator/denominator\".\n",
        "class Fractions:\n",
        "  def __init__(self,numerator,denominator):\n",
        "    self.numerator=numerator\n",
        "    self.denominator=denominator\n",
        "  def __str__(self) -> str:\n",
        "    return f\"{self.numerator}/{self.denominator}\"\n",
        "f=Fractions(5,4)\n",
        "print(f)"
      ],
      "metadata": {
        "colab": {
          "base_uri": "https://localhost:8080/"
        },
        "id": "Ur-WpCqwNv-Z",
        "outputId": "db2fa101-4f19-4cb4-cc6d-90bf7699ba98"
      },
      "execution_count": null,
      "outputs": [
        {
          "output_type": "stream",
          "name": "stdout",
          "text": [
            "5/4\n"
          ]
        }
      ]
    },
    {
      "cell_type": "code",
      "source": [
        "# Q10. Demonstrate operator overloading by creating a class Vector and overriding the add method to add two vectors.\n",
        "class Vector:\n",
        "  def __init__(self,x,y,z):\n",
        "    self.x,self.y,self.z=x,y,z\n",
        "  def __str__(self):\n",
        "     return f\"[{self.x}i,{self.y}j,{self.z}k]\"\n",
        "  def __add__(self,other):\n",
        "    return Vector(self.x+other.x, self.y+other.y ,self.z+other.z)\n",
        "v1=Vector(5,4,3)\n",
        "v2=Vector(1,1,1)\n",
        "print(v1)\n",
        "print(v2)\n",
        "v3=v1+v2\n",
        "print(v3)"
      ],
      "metadata": {
        "colab": {
          "base_uri": "https://localhost:8080/"
        },
        "id": "kTEKTsc5OkEM",
        "outputId": "39dd3ced-f043-42f8-8ca4-bd7a06f758ce"
      },
      "execution_count": null,
      "outputs": [
        {
          "output_type": "stream",
          "name": "stdout",
          "text": [
            "[5i,4j,3k]\n",
            "[1i,1j,1k]\n",
            "[6i,5j,4k]\n"
          ]
        }
      ]
    },
    {
      "cell_type": "code",
      "source": [
        "#Q11.Create a class Person with attributes name and age. Add a method greet() that prints \"Hello, my name is {name} and I am {age} years old.\"\n",
        "class Person:\n",
        "  def __init__(self,name,age):\n",
        "    self.name=name\n",
        "    self.age=age\n",
        "  def greet(self):\n",
        "    print(f\"Hello, my name is {self.name} and I am {self.age} years old\")\n",
        "\n",
        "p1=Person(\"Ram\",21)\n",
        "p1.greet()\n"
      ],
      "metadata": {
        "colab": {
          "base_uri": "https://localhost:8080/"
        },
        "id": "2lTg1Ef8Qbg1",
        "outputId": "c8f7c266-8952-4e7a-b42a-0b63047731b9"
      },
      "execution_count": null,
      "outputs": [
        {
          "output_type": "stream",
          "name": "stdout",
          "text": [
            "Hello, my name is Ram and I am 21 years old\n"
          ]
        }
      ]
    },
    {
      "cell_type": "code",
      "source": [
        "# Q12 Implement a class Student with attributes name and grades. Create a method average_grade() to compute the average of the grades.\n",
        "class Student:\n",
        "    def __init__(self, name, grades):\n",
        "      self.name = name\n",
        "      self.grades = grades\n",
        "    def average_grade(self):\n",
        "      return round(sum(self.grades)/len(self.grades),2)\n",
        "\n",
        "\n",
        "s1 = Student(\"Ram\", [80, 90, 100])\n",
        "print(s1.average_grade())\n"
      ],
      "metadata": {
        "colab": {
          "base_uri": "https://localhost:8080/"
        },
        "id": "dhz388pQRcPX",
        "outputId": "0cd0b035-a5c4-484b-fe7a-f98979ab9428"
      },
      "execution_count": 2,
      "outputs": [
        {
          "output_type": "stream",
          "name": "stdout",
          "text": [
            "90.0\n"
          ]
        }
      ]
    },
    {
      "cell_type": "code",
      "source": [
        "#Q13 Create a class Rectangle with methods set_dimensions() to set the dimensions and area() to calculate the area.\n",
        "class Rectangle:\n",
        "  def __init__(self):\n",
        "    self.length=0\n",
        "    self.breadth=0\n",
        "  def set_dimensions(self,length,breadth):\n",
        "    self.length=length\n",
        "    self.breadth=breadth\n",
        "  def area(self):\n",
        "    return self.length*self.breadth\n",
        "r1=Rectangle()\n",
        "r1.set_dimensions(10,20)\n",
        "r1.area()"
      ],
      "metadata": {
        "id": "WEz3UgPPbXNC",
        "outputId": "d8c921d5-1869-4a53-c27f-9744d218db00",
        "colab": {
          "base_uri": "https://localhost:8080/"
        }
      },
      "execution_count": 6,
      "outputs": [
        {
          "output_type": "execute_result",
          "data": {
            "text/plain": [
              "200"
            ]
          },
          "metadata": {},
          "execution_count": 6
        }
      ]
    },
    {
      "cell_type": "code",
      "source": [
        "#Q14. Create a class Employee with a method calculate_salary() that computes the salary based on hours worked and hourly rate.\n",
        "# Create a derived class Manager that adds a bonus to the salary\n",
        "class Employee:\n",
        "  hour_rate=400\n",
        "  def __init__(self,hours):\n",
        "    self.hours=hours\n",
        "  def calculate_salary(self):\n",
        "    return Employee.hour_rate*self.hours\n",
        "class Manager(Employee):\n",
        "  def calculate_salary(self,bonous):\n",
        "    base_salary=super().calculate_salary()\n",
        "    return base_salary+bonous\n",
        "\n",
        "emp = Employee(40)\n",
        "print(f\"Employee Salary: {emp.calculate_salary()}\")\n",
        "\n",
        "mgr = Manager(40)\n",
        "print(f\"Manager Salary with Bonus: {mgr.calculate_salary(5000)}\")\n",
        "\n"
      ],
      "metadata": {
        "colab": {
          "base_uri": "https://localhost:8080/"
        },
        "id": "QHCQNuQNdl4k",
        "outputId": "10f3fc02-7786-4da9-8045-d24801808c1c"
      },
      "execution_count": 7,
      "outputs": [
        {
          "output_type": "stream",
          "name": "stdout",
          "text": [
            "Employee Salary: 16000\n",
            "Manager Salary with Bonus: 21000\n"
          ]
        }
      ]
    },
    {
      "cell_type": "code",
      "source": [
        "# Q15. Create a class Product with attributes name, price, and quantity. Implement a method total_price() that\n",
        "# calculates the total price of the product.\n",
        "\n",
        "class Product:\n",
        "  def __init__(self, name, price, quantity):\n",
        "    self.name = name\n",
        "    self.price = price\n",
        "    self.quantity = quantity\n",
        "\n",
        "  def total_price(self):\n",
        "    return self.price * self.quantity\n",
        "\n",
        "product1 = Product(\"Laptop\", 50000, 2)\n",
        "print(f\"Total price of {product1.name}: {product1.total_price()} Rupees\")\n"
      ],
      "metadata": {
        "colab": {
          "base_uri": "https://localhost:8080/"
        },
        "id": "fnQ1GbJJf9Y7",
        "outputId": "603adc27-ad27-4e47-b854-cd5448e56429"
      },
      "execution_count": 11,
      "outputs": [
        {
          "output_type": "stream",
          "name": "stdout",
          "text": [
            "Total price of Laptop: 100000 Rupees\n"
          ]
        }
      ]
    },
    {
      "cell_type": "code",
      "source": [
        "# Q16. Create a class Animal with an abstract method sound(). Create two derived classes Cow and Sheep that implement the sound() method.\n",
        "from abc import ABC,abstractmethod\n",
        "class Animal(ABC):\n",
        "  @abstractmethod\n",
        "  def sound(self):\n",
        "    pass\n",
        "\n",
        "class Cow(Animal):\n",
        "  def sound(self):\n",
        "    print(\"Moo!\")\n",
        "\n",
        "class Sheep(Animal):\n",
        "  def sound(self):\n",
        "    print(\"Baa!\")\n",
        "\n",
        "cow = Cow()\n",
        "cow.sound()\n",
        "\n",
        "sheep = Sheep()\n",
        "sheep.sound()\n"
      ],
      "metadata": {
        "colab": {
          "base_uri": "https://localhost:8080/"
        },
        "id": "tYdBpRPQgVEJ",
        "outputId": "3a0c312c-11a0-471f-a820-99bd26bfd964"
      },
      "execution_count": 13,
      "outputs": [
        {
          "output_type": "stream",
          "name": "stdout",
          "text": [
            "Moo!\n",
            "Baa!\n"
          ]
        }
      ]
    },
    {
      "cell_type": "code",
      "source": [
        "#  17. Create a class Book with attributes title, author, and year_published. Add a method get_book_info() that returns a formatted string with the book's details\n",
        "class Book:\n",
        "  def __init__(self, title, author, year):\n",
        "    self.title = title\n",
        "    self.author = author\n",
        "    self.year = year\n",
        "  def get_book_info(self):\n",
        "    return f\"Book Title: {self.title}\\nAuthor: {self.author}\\nYear_published: {self.year}\"\n",
        "\n",
        "book1 = Book(\"To Kill a Mockingbird\", \"Harper Lee\", 1960)\n",
        "print(book1.get_book_info())"
      ],
      "metadata": {
        "colab": {
          "base_uri": "https://localhost:8080/"
        },
        "id": "rCg21BxighzH",
        "outputId": "0ec74fda-51af-42d0-8988-3dbd6542a903"
      },
      "execution_count": 17,
      "outputs": [
        {
          "output_type": "stream",
          "name": "stdout",
          "text": [
            "Book Title: To Kill a Mockingbird\n",
            "Author: Harper Lee\n",
            "Year_published: 1960\n"
          ]
        }
      ]
    },
    {
      "cell_type": "code",
      "source": [
        "# Q18. Create a class House with attributes address and price. Create a derived class Mansion that adds an attribute number_of_rooms.\n",
        "\n",
        "class House:\n",
        "  def __init__(self, address, price):\n",
        "    self.address = address\n",
        "    self.price = price\n",
        "\n",
        "class Mansion(House):\n",
        "  def __init__(self, address, price, number_of_rooms):\n",
        "    super().__init__(address, price)\n",
        "    self.number_of_rooms = number_of_rooms\n",
        "\n",
        "house1 = House(\"123 Main St\", 300000)\n",
        "mansion1 = Mansion(\"456 High St\", 1500000, 20)\n",
        "\n",
        "print(f\"House Address: {house1.address}, Price: {house1.price}\")\n",
        "print(f\"Mansion Address: {mansion1.address}, Price: {mansion1.price}, Rooms: {mansion1.number_of_rooms}\")\n"
      ],
      "metadata": {
        "colab": {
          "base_uri": "https://localhost:8080/"
        },
        "id": "8cigeS8Eh26b",
        "outputId": "779f0103-9f23-44d4-9a35-2b54a106a821"
      },
      "execution_count": 18,
      "outputs": [
        {
          "output_type": "stream",
          "name": "stdout",
          "text": [
            "House Address: 123 Main St, Price: 300000\n",
            "Mansion Address: 456 High St, Price: 1500000, Rooms: 20\n"
          ]
        }
      ]
    }
  ]
}