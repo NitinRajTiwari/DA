{
  "cells": [
    {
      "cell_type": "markdown",
      "metadata": {
        "id": "9ROVgvVsDg4k"
      },
      "source": [
        "# Theoretical Questions"
      ]
    },
    {
      "cell_type": "markdown",
      "metadata": {
        "id": "bf0pSR6zKGfp"
      },
      "source": [
        "#Q1  What are data structures, and why are they important?\n",
        "**Data structures** are specialized formats for organizing, processing, and storing data in a computer so that it can be used efficiently. Common data structures include arrays, lists, stacks, queues, trees, and graphs.\n",
        "\n",
        "They are important because:\n",
        "- They provide a way to manage large amounts of data efficiently.\n",
        "- They help in optimizing algorithms and solving problems faster.\n",
        "- Different data structures are suited for different kinds of applications and tasks (e.g., searching, sorting, or managing hierarchical data).\n",
        "---\n",
        "\n",
        "#Q2 Explain the difference between mutable and immutable data types with examples\n",
        "**Mutable** data types can be changed after creation, while **immutable** data types cannot be changed once they are created.\n",
        "\n",
        "Examples:\n",
        "- **Mutable:** `list`, `dict`, `set`\n",
        "\n",
        "  a = [1, 2, 3]\n",
        "\n",
        "  a[0] = 10  # List is changed\n",
        "\n",
        "Immutable: int, float, str, tuple\n",
        "\n",
        "  s = \"hello\"\n",
        "\n",
        "  s[0] = 'H'  # This will raise an error\n",
        "\n",
        "---\n",
        "\n",
        "#Q3 What are the main differences between lists and tuples in Python\n",
        "\n",
        "- **Mutability:** Lists are mutable, tuples are immutable.\n",
        "- **Syntax:** Lists use square brackets `[]`, tuples use parentheses `()`.\n",
        "- **Performance:** Tuples are slightly faster than lists because of immutability.\n",
        "- **Use Case:** Tuples are used when data should not change (e.g., coordinates), while lists are used when data is expected to change (e.g., shopping cart items).\n",
        "\n",
        "Example:\n",
        "\n",
        "my_list = [1, 2, 3]\n",
        "\n",
        "my_tuple = (1, 2, 3)\n",
        "\n",
        "---\n",
        "\n",
        "#Q4 Describe how dictionaries store data\n",
        "\n",
        "Dictionaries in Python store data as key-value pairs using a **hash table** internally. Each key is hashed to generate a unique index in the table, and the corresponding value is stored at that index.\n",
        "\n",
        "Example:\n",
        "\n",
        "student = {\"name\": \"Alice\", \"age\": 22}\n",
        "\n",
        "---\n",
        "#Q5 Why might you use a set instead of a list in Python\n",
        "\n",
        "You might use a **set** instead of a **list** when:\n",
        "- You want to store only unique values (sets automatically remove duplicates).\n",
        "- You need to perform set operations like union, intersection, or difference efficiently.\n",
        "- You want faster membership checks (`in` operator is faster for sets).\n",
        "\n",
        "Example:\n",
        "\n",
        "nums = [1, 2, 2, 3]\n",
        "\n",
        "unique_nums = set(nums)  # {1, 2, 3}\n",
        "\n",
        "---\n",
        "\n",
        "#Q6 What is a string in Python, and how is it different from a list\n",
        "\n",
        "A **string** is an immutable sequence of characters, while a **list** is a mutable sequence of elements.\n",
        "\n",
        "Differences:\n",
        "- Strings are used for text, lists for general-purpose collections.\n",
        "- Strings cannot be modified in place; lists can.\n",
        "\n",
        "Example:\n",
        "\n",
        "s = \"hello\"\n",
        "\n",
        "s[0] = \"H\"  # Error\n",
        "\n",
        "lst = ['h', 'e', 'l', 'l', 'o']\n",
        "\n",
        "lst[0] = 'H'  # Allowed\n",
        "\n",
        "---\n",
        "#Q7 How do tuples ensure data integrity in Python\n",
        "\n",
        "Tuples are **immutable**, which means once they are created, their content cannot be changed. This property makes them ideal for storing data that should not be modified, such as:\n",
        "- Database records\n",
        "- Fixed configuration values\n",
        "- Coordinates\n",
        "\n",
        "Immutability ensures the integrity of the data across different parts of the program, preventing accidental changes.\n",
        "\n",
        "---\n",
        "#Q8 What is a hash table, and how does it relate to dictionaries in Python\n",
        "A **hash table** is a data structure that maps keys to values using a **hashing function**. The key is processed into a hash code, which determines where to store the value in memory.\n",
        "\n",
        "In Python, **dictionaries** are implemented using hash tables. This allows:\n",
        "- Fast lookups\n",
        "- Efficient insertions and deletions\n",
        "- Unique and immutable keys\n",
        "\n",
        "This internal structure makes dictionaries powerful for storing and accessing data quickly by key.\n",
        "\n",
        "---\n",
        "#Q9 Can lists contain different data types in Python\n",
        "Yes, Python lists can contain elements of **different data types**, including integers, strings, floats, lists, dictionaries, and even functions or custom objects.\n",
        "\n",
        "Example:\n",
        "\n",
        "mixed_list = [1, \"hello\", 3.14, [1, 2], {\"a\": 1}]\n",
        "\n",
        "---\n",
        "\n",
        "#Q10 Explain why strings are immutable in Python\n",
        "\n",
        "Strings in Python are **immutable** because:\n",
        "- It ensures memory efficiency, especially when strings are reused.\n",
        "- It enhances security when strings are shared across code (e.g., in keys or identifiers).\n",
        "- It allows for safer hash-based operations, like using strings as dictionary keys.\n",
        "\n",
        "Each time you modify a string, a new string object is created rather than changing the original.\n",
        "\n",
        "---\n",
        "\n",
        "#Q11 What advantages do dictionaries offer over lists for certain tasks\n",
        "\n",
        "**Dictionaries** are better than lists when:\n",
        "- You need fast lookup by a unique key.\n",
        "- You want to store data with clear labels (like JSON).\n",
        "- You want to avoid searching the entire list.\n",
        "\n",
        "Example:\n",
        "\n",
        "- Using list\n",
        "\n",
        "users = [[\"John\", 25], [\"Alice\", 30]]\n",
        "\n",
        "- Using dict\n",
        "\n",
        "users_dict = {\"John\": 25, \"Alice\": 30}\n",
        "\n",
        "---\n",
        "#Q12 How do sets handle duplicate values in Python\n",
        "\n",
        "Sets automatically **remove duplicate values** when they are created or updated.\n",
        "\n",
        "Example:\n",
        "\n",
        "s = set([1, 2, 2, 3])\n",
        "\n",
        "print(s)  \n",
        "- Output: {1, 2, 3}\n",
        "\n",
        "---\n",
        "#Q13 Describe a scenario where using a tuple would be preferable over a list\n",
        "\n",
        "Use a **tuple** when you have a fixed collection of items that should not change. For example:\n",
        "- Storing coordinates: `(x, y)`\n",
        "- Returning multiple values from a function\n",
        "- Using compound keys in dictionaries\n",
        "\n",
        "Example:\n",
        "\n",
        "coordinates = (10.0, 20.0)  # Should remain unchanged\n",
        "\n",
        "---\n",
        "#Q14 How does the “in” keyword work differently for lists and dictionaries\n",
        "\n",
        "- For **lists**, `in` checks whether an **element** exists in the list.\n",
        "- For **dictionaries**, `in` checks whether a **key** exists.\n",
        "\n",
        "Example:\n",
        "\n",
        "lst = [1, 2, 3]\n",
        "\n",
        "print(2 in lst)  # True\n",
        "\n",
        "d = {\"a\": 1, \"b\": 2}\n",
        "\n",
        "print(\"a\" in d)  # True\n",
        "\n",
        "print(1 in d)    # False (1 is a value, not a key)\n",
        "\n",
        "---\n",
        "#Q15 Can you modify the elements of a tuple? Explain why or why not\n",
        "\n",
        "No, you cannot modify the elements of a tuple because **tuples are immutable** in Python.\n",
        "\n",
        "Once a tuple is created, its elements cannot be changed, added, or removed. This makes them ideal for fixed collections.\n",
        "\n",
        "t = (1, 2, 3)\n",
        "\n",
        "t[0] = 10  # Raises TypeError\n",
        "\n",
        "---\n",
        "#Q16 What is a nested dictionary, and give an example of its use case\n",
        "\n",
        "A **nested dictionary** is a dictionary where values are also dictionaries. This structure is useful for representing complex, hierarchical data.\n",
        "\n",
        "Example:\n",
        "\n",
        "student = {\n",
        "    \"name\": \"John\",\n",
        "    \"marks\": {\n",
        "        \"math\": 90,\n",
        "        \"science\": 85\n",
        "    }\n",
        "}\n",
        "\n",
        "---\n",
        "#Q17 Describe the time complexity of accessing elements in a dictionary\n",
        "\n",
        "The average time complexity of accessing an element in a dictionary is **O(1)** (constant time), thanks to the underlying hash table implementation.\n",
        "\n",
        "However, in rare cases of hash collisions, it can degrade to **O(n)**, but this is highly optimized in Python.\n",
        "\n",
        "---\n",
        "#Q18 In what situations are lists preferred over dictionaries\n",
        "\n",
        "Lists are preferred over dictionaries when:\n",
        "- You only need ordered, sequential data.\n",
        "- You don’t need key-value pairs.\n",
        "- The index-based access is sufficient.\n",
        "- You need to maintain duplicates or order of elements strictly.\n",
        "\n",
        "Examples: Processing arrays, implementing queues/stacks, sorting, or storing repeated values.\n",
        "\n",
        "---\n",
        "#Q19 Why are dictionaries considered unordered, and how does that affect data retrieval\n",
        "\n",
        "In older Python versions (<3.7), dictionaries were unordered, meaning key-value pairs were not stored in insertion order. Since Python 3.7, dictionaries preserve insertion order, but they are still conceptually considered **unordered**.\n",
        "\n",
        "This means:\n",
        "- You should not rely on the position/index of keys.\n",
        "- Retrieval is always by key, not by position.\n",
        "\n",
        "Use lists if order and position matter.\n",
        "\n",
        "---\n",
        "#Q20 Explain the difference between a list and a dictionary in terms of data retrieval.\n",
        "\n",
        "- **List:** Data is accessed by numeric **index**.\n",
        "\n",
        "  my_list=[1,2,3,4]\n",
        "\n",
        "  my_list[0]\n",
        "\n",
        "- Dictionary: Data is accessed by key.\n",
        "\n",
        "  my_dict = {\n",
        "    \"name\": \"John\",\n",
        "\n",
        "    \"marks\": {\n",
        "        \"math\": 90,\n",
        "        \"science\": 85\n",
        "    }\n",
        "  }\n",
        "\n",
        "  my_dict[\"name\"]\n"
      ]
    },
    {
      "cell_type": "markdown",
      "metadata": {
        "id": "HC-co3coQQzW"
      },
      "source": [
        "# Practical Questions"
      ]
    },
    {
      "cell_type": "code",
      "execution_count": 3,
      "metadata": {
        "colab": {
          "base_uri": "https://localhost:8080/"
        },
        "id": "Ztfnfap2KenC",
        "outputId": "f5eda623-6069-4af9-fd30-76d1019b414e"
      },
      "outputs": [
        {
          "name": "stdout",
          "output_type": "stream",
          "text": [
            "My Name is Nitin\n"
          ]
        }
      ],
      "source": [
        "#1  Write a code to create a string with your name and print it\n",
        "name=\"Nitin\"\n",
        "print(f\"My Name is {name}\")"
      ]
    },
    {
      "cell_type": "code",
      "execution_count": 4,
      "metadata": {
        "colab": {
          "base_uri": "https://localhost:8080/"
        },
        "id": "hO2mwTCRQsRu",
        "outputId": "80d5e507-c1e0-4573-e1f0-9b56a28f3634"
      },
      "outputs": [
        {
          "name": "stdout",
          "output_type": "stream",
          "text": [
            "11\n"
          ]
        }
      ],
      "source": [
        "#2 Write a code to find the length of the string \"Hello World\".\n",
        "string=\"Hello World\"\n",
        "print(len(string))"
      ]
    },
    {
      "cell_type": "code",
      "execution_count": 5,
      "metadata": {
        "colab": {
          "base_uri": "https://localhost:8080/"
        },
        "id": "iYXyMPTmQ7z_",
        "outputId": "333802f9-24ba-460e-be5b-4cf5f26d1547"
      },
      "outputs": [
        {
          "name": "stdout",
          "output_type": "stream",
          "text": [
            "Pyt\n"
          ]
        }
      ],
      "source": [
        "#3 Write a code to slice the first 3 characters from the string \"Python Programming\".\n",
        "string=\"Python Programming\"\n",
        "print(string[0:3])"
      ]
    },
    {
      "cell_type": "code",
      "execution_count": 7,
      "metadata": {
        "colab": {
          "base_uri": "https://localhost:8080/"
        },
        "id": "TK33LP0zR3kY",
        "outputId": "661a35b9-5210-4c09-eef1-60417838eece"
      },
      "outputs": [
        {
          "name": "stdout",
          "output_type": "stream",
          "text": [
            "HELLO\n"
          ]
        }
      ],
      "source": [
        "#4 Write a code to convert the string \"hello\" to uppercase\n",
        "string=\"hello\"\n",
        "new_string=string.upper()\n",
        "print(new_string)"
      ]
    },
    {
      "cell_type": "code",
      "execution_count": 20,
      "metadata": {
        "colab": {
          "base_uri": "https://localhost:8080/"
        },
        "id": "4UphC5acSJEM",
        "outputId": "f162a386-d253-4879-cbc8-c87884f16958"
      },
      "outputs": [
        {
          "name": "stdout",
          "output_type": "stream",
          "text": [
            "I like orange\n"
          ]
        }
      ],
      "source": [
        "#5 Write a code to replace the word \"apple\" with \"orange\" in the string \"I like apple\"\n",
        "string=\"I like apple\"\n",
        "string=string.replace(\"apple\", \"orange\")\n",
        "print(string)"
      ]
    },
    {
      "cell_type": "code",
      "execution_count": 22,
      "metadata": {
        "colab": {
          "base_uri": "https://localhost:8080/"
        },
        "id": "mLa5SK0TT1qH",
        "outputId": "db9d7b46-8109-43b8-929f-8390f991c5b0"
      },
      "outputs": [
        {
          "name": "stdout",
          "output_type": "stream",
          "text": [
            "1 2 3 4 5 "
          ]
        }
      ],
      "source": [
        "#6 Write a code to create a list with numbers 1 to 5 and print it\n",
        "lis=[1,2,3,4,5]\n",
        "for i in lis:\n",
        "  print(i, end=\" \")"
      ]
    },
    {
      "cell_type": "code",
      "execution_count": 23,
      "metadata": {
        "colab": {
          "base_uri": "https://localhost:8080/"
        },
        "id": "KDujoxjiUFsS",
        "outputId": "e33ec781-6a9c-4dab-a930-ba8e00d6c0fc"
      },
      "outputs": [
        {
          "name": "stdout",
          "output_type": "stream",
          "text": [
            "[1, 2, 3, 4, 10]\n"
          ]
        }
      ],
      "source": [
        "# 7 Write a code to append the number 10 to the list [1, 2, 3, 4]\n",
        "lis=[1,2,3,4]\n",
        "lis.append(10)\n",
        "print(lis)"
      ]
    },
    {
      "cell_type": "code",
      "execution_count": 24,
      "metadata": {
        "colab": {
          "base_uri": "https://localhost:8080/"
        },
        "id": "vAzJfWNlUQ5M",
        "outputId": "d106add8-2a31-4fa6-9bc9-6238a9c4b8ed"
      },
      "outputs": [
        {
          "name": "stdout",
          "output_type": "stream",
          "text": [
            "[1, 2, 4, 5]\n"
          ]
        }
      ],
      "source": [
        "#8 Write a code to remove the number 3 from the list [1, 2, 3, 4, 5]\n",
        "lis=[1,2,3,4,5]\n",
        "lis.remove(3)\n",
        "print(lis)"
      ]
    },
    {
      "cell_type": "code",
      "execution_count": 25,
      "metadata": {
        "colab": {
          "base_uri": "https://localhost:8080/"
        },
        "id": "RZ7qfu_oUZW4",
        "outputId": "d9f2237e-0b6d-48f4-d5d6-fd7f59cce6e6"
      },
      "outputs": [
        {
          "name": "stdout",
          "output_type": "stream",
          "text": [
            "b\n"
          ]
        }
      ],
      "source": [
        "#9 Write a code to access the second element in the list ['a', 'b', 'c', 'd']\n",
        "lis=['a', 'b', 'c', 'd']\n",
        "print(lis[1])"
      ]
    },
    {
      "cell_type": "code",
      "execution_count": 26,
      "metadata": {
        "colab": {
          "base_uri": "https://localhost:8080/"
        },
        "id": "WKqfS7IJUmRp",
        "outputId": "a11712b5-9bef-43d6-b81d-0657683fce0f"
      },
      "outputs": [
        {
          "name": "stdout",
          "output_type": "stream",
          "text": [
            "[50, 40, 30, 20, 10]\n"
          ]
        }
      ],
      "source": [
        "#10 Write a code to reverse the list [10, 20, 30, 40, 50].\n",
        "lis=[10, 20, 30, 40, 50]\n",
        "lis.reverse()\n",
        "print(lis)"
      ]
    },
    {
      "cell_type": "code",
      "execution_count": 29,
      "metadata": {
        "colab": {
          "base_uri": "https://localhost:8080/"
        },
        "id": "xggafLssU0UH",
        "outputId": "f63d3306-98e4-4b6d-d81c-4364c0275c16"
      },
      "outputs": [
        {
          "name": "stdout",
          "output_type": "stream",
          "text": [
            "(100, 200, 300)\n"
          ]
        }
      ],
      "source": [
        "#11  Write a code to create a tuple with the elements 100, 200, 300 and print it.\n",
        "tup=(100, 200, 300)\n",
        "print(tup)\n",
        "# for i in tup:\n",
        "#   print(i, end=\" \")"
      ]
    },
    {
      "cell_type": "code",
      "execution_count": 32,
      "metadata": {
        "colab": {
          "base_uri": "https://localhost:8080/"
        },
        "id": "ucMeszgnVMi9",
        "outputId": "66e60c7c-390a-41ea-c055-47b8f68566d9"
      },
      "outputs": [
        {
          "name": "stdout",
          "output_type": "stream",
          "text": [
            "('green', 'blue', 'yellow')\n"
          ]
        }
      ],
      "source": [
        "#12 Write a code to access the second-to-last element of the tuple ('red', 'green', 'blue', 'yellow').\n",
        "tup= ('red', 'green', 'blue', 'yellow')\n",
        "print(tup[1:])"
      ]
    },
    {
      "cell_type": "code",
      "execution_count": 37,
      "metadata": {
        "colab": {
          "base_uri": "https://localhost:8080/"
        },
        "id": "GKtg7P_ZVaBb",
        "outputId": "e9a27c3c-ce1e-4d47-c039-89957f05b22c"
      },
      "outputs": [
        {
          "name": "stdout",
          "output_type": "stream",
          "text": [
            "5\n"
          ]
        }
      ],
      "source": [
        "# 13. Write a code to find the minimum number in the tuple (10, 20, 5, 15).\n",
        "tup=(10,20,5,15)\n",
        "print(min(tup))"
      ]
    },
    {
      "cell_type": "code",
      "execution_count": 38,
      "metadata": {
        "colab": {
          "base_uri": "https://localhost:8080/"
        },
        "id": "jFWD1DpAVy4O",
        "outputId": "4cc47773-059b-4f87-d618-4f3f6795ad12"
      },
      "outputs": [
        {
          "name": "stdout",
          "output_type": "stream",
          "text": [
            "1\n"
          ]
        }
      ],
      "source": [
        "# 14. Write a code to find the index of the element \"cat\" in the tuple ('dog', 'cat', 'rabbit').\n",
        "tup=('dog', 'cat', 'rabbit')\n",
        "print(tup.index('cat'))"
      ]
    },
    {
      "cell_type": "code",
      "execution_count": 39,
      "metadata": {
        "colab": {
          "base_uri": "https://localhost:8080/"
        },
        "id": "cQhwMdI-WDAH",
        "outputId": "85bb0d13-8bf6-4777-cfcd-224349e2ff44"
      },
      "outputs": [
        {
          "name": "stdout",
          "output_type": "stream",
          "text": [
            "True\n"
          ]
        }
      ],
      "source": [
        "#15. Write a code to create a tuple containing three different fruits and check if \"kiwi\" is in it.\n",
        "tup=('apple', 'kiwi', 'orange')\n",
        "print('kiwi' in tup)"
      ]
    },
    {
      "cell_type": "code",
      "execution_count": 40,
      "metadata": {
        "colab": {
          "base_uri": "https://localhost:8080/"
        },
        "id": "WOGFvHrDWRxG",
        "outputId": "e8220ac3-6976-40ec-e960-d50a8a11910c"
      },
      "outputs": [
        {
          "name": "stdout",
          "output_type": "stream",
          "text": [
            "{'a', 'b', 'c'}\n"
          ]
        }
      ],
      "source": [
        "#16. Write a code to create a set with the elements 'a', 'b', 'c' and print it.\n",
        "s={'a','b','c'}\n",
        "print(s)"
      ]
    },
    {
      "cell_type": "code",
      "execution_count": 41,
      "metadata": {
        "colab": {
          "base_uri": "https://localhost:8080/"
        },
        "id": "lxLsTJR6Wfwa",
        "outputId": "8cbb655c-f207-4a75-ee3b-aa5ace5a6ad6"
      },
      "outputs": [
        {
          "name": "stdout",
          "output_type": "stream",
          "text": [
            "set()\n"
          ]
        }
      ],
      "source": [
        "#17. Write a code to clear all elements from the set {1, 2, 3, 4, 5}.\n",
        "s={1, 2, 3, 4, 5}\n",
        "s.clear()\n",
        "print(s)"
      ]
    },
    {
      "cell_type": "code",
      "execution_count": 42,
      "metadata": {
        "colab": {
          "base_uri": "https://localhost:8080/"
        },
        "id": "f-8pGRxtWqyp",
        "outputId": "d6f01c4b-477c-4a65-e5ed-386005c3f933"
      },
      "outputs": [
        {
          "name": "stdout",
          "output_type": "stream",
          "text": [
            "{1, 2, 3}\n"
          ]
        }
      ],
      "source": [
        "# 18. Write a code to remove the element 4 from the set {1, 2, 3, 4}.\n",
        "s={1, 2, 3, 4}\n",
        "s.remove(4)\n",
        "print(s)"
      ]
    },
    {
      "cell_type": "code",
      "execution_count": 43,
      "metadata": {
        "colab": {
          "base_uri": "https://localhost:8080/"
        },
        "id": "Cu_XBlOUW0Hb",
        "outputId": "44a7f502-e1b3-4bca-fcac-2f180ca4b09f"
      },
      "outputs": [
        {
          "name": "stdout",
          "output_type": "stream",
          "text": [
            "{1, 2, 3, 4, 5}\n"
          ]
        }
      ],
      "source": [
        "# 19. Write a code to find the union of two sets {1, 2, 3} and {3, 4, 5}.\n",
        "s1={1,2,3}\n",
        "s2={3,4,5}\n",
        "s3=s1.union(s2)\n",
        "print(s3)"
      ]
    },
    {
      "cell_type": "code",
      "execution_count": 44,
      "metadata": {
        "colab": {
          "base_uri": "https://localhost:8080/"
        },
        "id": "UUd2YZuTXCXT",
        "outputId": "d4ab9d0b-90b5-4ee2-d033-a3627d64a61f"
      },
      "outputs": [
        {
          "name": "stdout",
          "output_type": "stream",
          "text": [
            "{2, 3}\n"
          ]
        }
      ],
      "source": [
        "# 20. Write a code to find the intersection of two sets {1, 2, 3} and {2, 3, 4}.\n",
        "s1={1,2,3}\n",
        "s2={2,3,4}\n",
        "s3=s1.intersection(s2)\n",
        "print(s3)"
      ]
    },
    {
      "cell_type": "code",
      "execution_count": 45,
      "metadata": {
        "colab": {
          "base_uri": "https://localhost:8080/"
        },
        "id": "gvhbuYY5XLQC",
        "outputId": "f81b1d6d-dd40-4ab3-88ef-f275af9c9195"
      },
      "outputs": [
        {
          "name": "stdout",
          "output_type": "stream",
          "text": [
            "{'name': 'Nitin', 'age': 21, 'city': 'Delhi'}\n"
          ]
        }
      ],
      "source": [
        "#21. Write a code to create a dictionary with the keys \"name\", \"age\", and \"city\", and print it.\n",
        "my_dict={\"name\":\"Nitin\",\n",
        "         \"age\":21,\n",
        "         \"city\":\"Delhi\"\n",
        "         }\n",
        "print(my_dict)"
      ]
    },
    {
      "cell_type": "code",
      "execution_count": 51,
      "metadata": {
        "colab": {
          "base_uri": "https://localhost:8080/"
        },
        "id": "8oSeQspeXmWk",
        "outputId": "8157e209-35c8-489a-f5d9-1a6a3ee09491"
      },
      "outputs": [
        {
          "name": "stdout",
          "output_type": "stream",
          "text": [
            "{'name': 'John', 'age': 25, 'country': 'Usa'}\n"
          ]
        }
      ],
      "source": [
        "#  22. Write a code to add a new key-value pair \"country\": \"USA\" to the dictionary {'name': 'John', 'age': 25}.\n",
        "my_dict={'name': 'John', 'age': 25}\n",
        "my_dict.update({\"country\":\"USA\"})\n",
        "# my_dict[\"country\"]=\"USA\"\n",
        "print(my_dict)"
      ]
    },
    {
      "cell_type": "code",
      "execution_count": 52,
      "metadata": {
        "colab": {
          "base_uri": "https://localhost:8080/"
        },
        "id": "sZgrHzefYW1F",
        "outputId": "dd638f74-0a66-4753-dd83-d010a20c2967"
      },
      "outputs": [
        {
          "name": "stdout",
          "output_type": "stream",
          "text": [
            "Alice\n"
          ]
        }
      ],
      "source": [
        "#23 Write a code to access the value associated with the key \"name\" in the dictionary {'name': 'Alice', 'age': 30}.\n",
        "my_dict={'name': 'Alice', 'age': 30}\n",
        "print(my_dict[\"name\"])"
      ]
    },
    {
      "cell_type": "code",
      "execution_count": 54,
      "metadata": {
        "colab": {
          "base_uri": "https://localhost:8080/"
        },
        "id": "FZA8BTv-Yjye",
        "outputId": "d8ac2672-2ad9-4e64-c38a-33d8334ab813"
      },
      "outputs": [
        {
          "name": "stdout",
          "output_type": "stream",
          "text": [
            "{'name': 'Bob', 'city': 'New York'}\n"
          ]
        }
      ],
      "source": [
        "# 24. Write a code to remove the key \"age\" from the dictionary {'name': 'Bob', 'age': 22, 'city': 'New York'}.\n",
        "my_dict={'name': 'Bob', 'age': 22, 'city': 'New York'}\n",
        "my_dict.pop(\"age\")\n",
        "print(my_dict)"
      ]
    },
    {
      "cell_type": "code",
      "execution_count": 60,
      "metadata": {
        "colab": {
          "base_uri": "https://localhost:8080/"
        },
        "id": "UOJPR4IZb_3Z",
        "outputId": "d2a53f90-87c4-4ce5-bf62-207ea24d7312"
      },
      "outputs": [
        {
          "name": "stdout",
          "output_type": "stream",
          "text": [
            "True\n"
          ]
        }
      ],
      "source": [
        "# 25.Write a code to check if the key \"city\" exists in the dictionary {'name': 'Alice', 'city': 'Paris'}.\n",
        "my_dict={'name': 'Alice', 'city': 'Paris'}\n",
        "print(\"city\" in my_dict)\n",
        "# keys=my_dict.keys()\n",
        "# print(\"city\" in keys)"
      ]
    },
    {
      "cell_type": "code",
      "execution_count": 61,
      "metadata": {
        "colab": {
          "base_uri": "https://localhost:8080/"
        },
        "id": "4GNwZKo2ctKn",
        "outputId": "c6b45590-d6f9-4bc3-8412-694fae4911ef"
      },
      "outputs": [
        {
          "name": "stdout",
          "output_type": "stream",
          "text": [
            "[1, 2, 3, 4] (1, 2, 3, 4) {'one': 1, 'two': 2, 'three': 3, 'four': 4}\n"
          ]
        }
      ],
      "source": [
        "#  26. Write a code to create a list, a tuple, and a dictionary, and print them all.\n",
        "l=[1,2,3,4]\n",
        "t=(1,2,3,4)\n",
        "d={\"one\":1,\n",
        "   \"two\":2,\n",
        "   \"three\":3,\n",
        "   \"four\":4}\n",
        "\n",
        "print(l,t,d)"
      ]
    },
    {
      "cell_type": "code",
      "execution_count": 76,
      "metadata": {
        "colab": {
          "base_uri": "https://localhost:8080/"
        },
        "id": "6gMh2OSbdUQr",
        "outputId": "74489419-92d8-4d8e-c0f0-1778faf65a02"
      },
      "outputs": [
        {
          "name": "stdout",
          "output_type": "stream",
          "text": [
            "[82, 73, 62, 86, 84] # Unsorted\n",
            "[62, 73, 82, 84, 86] # Sorted\n"
          ]
        }
      ],
      "source": [
        "#27 Write a code to create a list of 5 random numbers between 1 and 100, sort it in ascending order, and print the result\n",
        "import random\n",
        "l=[]\n",
        "for i in range(0,5):\n",
        "  l.append(random.randint(1,100))\n",
        "\n",
        "print(f\"{l} # Unsorted\")\n",
        "l.sort()\n",
        "print(f\"{l} # Sorted\")"
      ]
    },
    {
      "cell_type": "code",
      "execution_count": 77,
      "metadata": {
        "colab": {
          "base_uri": "https://localhost:8080/"
        },
        "id": "trFpqm78h6Wx",
        "outputId": "faecfa7f-be5e-49bf-ab86-75369c232127"
      },
      "outputs": [
        {
          "name": "stdout",
          "output_type": "stream",
          "text": [
            "Guava\n"
          ]
        }
      ],
      "source": [
        "#28.  Write a code to create a list with strings and print the element at the third index.\n",
        "l=[\"apple\", \"Banana\",\"Orange\",\"Guava\",\"Kiwi\"]\n",
        "print(l[3])"
      ]
    },
    {
      "cell_type": "code",
      "execution_count": 81,
      "metadata": {
        "colab": {
          "base_uri": "https://localhost:8080/"
        },
        "id": "JHBfGAbJiMTG",
        "outputId": "1d9bd516-7d52-42aa-8333-3f3f9b018ee8"
      },
      "outputs": [
        {
          "name": "stdout",
          "output_type": "stream",
          "text": [
            "{'one': 1, 'two': 2, 'three': 3, 'four': 4, 'five': 5, 'six': 6, 'seven': 7, 'eight': 8}\n",
            "{'one': 1, 'two': 2, 'three': 3, 'four': 4, 'five': 5, 'six': 6, 'seven': 7, 'eight': 8}\n"
          ]
        }
      ],
      "source": [
        "#  29. Write a code to combine two dictionaries into one and print the result.\n",
        "d1={\"one\":1,\n",
        "   \"two\":2,\n",
        "   \"three\":3,\n",
        "   \"four\":4}\n",
        "d2={\"five\":5,\n",
        "   \"six\":6,\n",
        "   \"seven\":7,\n",
        "   \"eight\":8}\n",
        "\n",
        "# d3=d1|d2\n",
        "# print(d3)\n",
        "\n",
        "d1.update(d2)\n",
        "print(d1)\n",
        "\n"
      ]
    },
    {
      "cell_type": "code",
      "execution_count": 83,
      "metadata": {
        "colab": {
          "base_uri": "https://localhost:8080/"
        },
        "id": "NIsqI_Twi6xz",
        "outputId": "15a11831-8f64-417a-a53c-663a2a466782"
      },
      "outputs": [
        {
          "name": "stdout",
          "output_type": "stream",
          "text": [
            "['apple', 'Banana', 'Orange', 'Guava', 'Kiwi', 'apple', 'Orange']\n",
            "{'Guava', 'Kiwi', 'Banana', 'Orange', 'apple'}\n"
          ]
        }
      ],
      "source": [
        "# 30. Write a code to convert a list of strings into a set.\n",
        "l=[\"apple\", \"Banana\",\"Orange\",\"Guava\",\"Kiwi\",\"apple\",\"Orange\"]\n",
        "s=set(l)\n",
        "print(l)  # List\n",
        "print(s)  # Set"
      ]
    }
  ],
  "metadata": {
    "colab": {
      "provenance": [],
      "toc_visible": true
    },
    "kernelspec": {
      "display_name": "Python 3",
      "name": "python3"
    },
    "language_info": {
      "name": "python"
    }
  },
  "nbformat": 4,
  "nbformat_minor": 0
}
