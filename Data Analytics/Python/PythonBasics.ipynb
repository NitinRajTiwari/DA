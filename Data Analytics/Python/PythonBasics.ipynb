{
  "nbformat": 4,
  "nbformat_minor": 0,
  "metadata": {
    "colab": {
      "provenance": [],
      "toc_visible": true,
      "collapsed_sections": [
        "2m3Qa5NW71Op",
        "YzrkM5tBm3q0"
      ]
    },
    "kernelspec": {
      "name": "python3",
      "display_name": "Python 3"
    },
    "language_info": {
      "name": "python"
    }
  },
  "cells": [
    {
      "cell_type": "markdown",
      "source": [
        "# Theoretical Questions"
      ],
      "metadata": {
        "id": "2m3Qa5NW71Op"
      }
    },
    {
      "cell_type": "markdown",
      "source": [
        "\n",
        "## 1. What is Python, and why is it popular?\n",
        "\n",
        "**Python** is a high-level, interpreted, general-purpose programming language known for its easy-to-read syntax and flexibility. It is used in various domains including web development, data science, automation, artificial intelligence, and more.\n",
        "\n",
        "**Reasons for popularity:**\n",
        "- Simple and readable syntax\n",
        "- Large and active community\n",
        "- Extensive standard libraries and third-party packages\n",
        "- Cross-platform compatibility\n",
        "- Great support for integration and automation\n",
        "\n",
        "---\n",
        "\n",
        "## 2. What is an interpreter in Python?\n",
        "\n",
        "An **interpreter** in Python is the program that reads and executes Python code line-by-line. It translates high-level Python code into machine-understandable instructions at runtime, making development and debugging easier.\n",
        "\n",
        "---\n",
        "\n",
        "## 3. What are pre-defined keywords in Python?\n",
        "\n",
        "**Pre-defined keywords** are reserved words in Python that have special meanings and are part of the language syntax. They cannot be used for variable names.\n",
        "\n",
        "**Examples include:**\n",
        "\n",
        "if, else, elif, while, for, def, return, import, True, False, None, and, or, not, class, try, except\n",
        "\n",
        "---\n",
        "\n",
        "## 4. Can keywords be used as variable names?\n",
        "No, keywords cannot be used as variable names in Python. Attempting to do so will result in a syntax error.\n",
        "\n",
        "---\n",
        "\n",
        "## 5. What is mutability in Python?\n",
        "Mutability refers to an object’s ability to be changed after it is created.\n",
        "\n",
        "Mutable objects: Can be modified in place (e.g., list, dict, set)\n",
        "\n",
        "Immutable objects: Cannot be modified (e.g., int, float, str, tuple)\n",
        "\n",
        "---\n",
        "\n",
        "## 6. Why are lists mutable, but tuples are immutable?\n",
        "Lists are designed for dynamic data structures that may change, so they are mutable.\n",
        "\n",
        "Tuples are intended to store fixed collections of data and offer better performance and safety through immutability.\n",
        "\n",
        "---\n",
        "\n",
        "## 7. What is the difference between == and is operators in Python?\n",
        "== checks if values of two variables are equal.\n",
        "\n",
        "is checks if two variables refer to the same object in memory.\n",
        "\n",
        "a = [1, 2]\n",
        "\n",
        "b = [1, 2]\n",
        "\n",
        "a == b  # True (values are equal)\n",
        "\n",
        "a is b  # False (different memory locations)\n",
        "\n",
        "---\n",
        "\n",
        "## 8. What are logical operators in Python?\n",
        "Logical operators combine boolean expressions:\n",
        "\n",
        "and: True if both expressions are true\n",
        "\n",
        "or: True if at least one expression is true\n",
        "\n",
        "not: Reverses the truth value\n",
        "\n",
        "Example:\n",
        "x = 10\n",
        "\n",
        "print(x > 5 and x < 15)  # True\n",
        "\n",
        "---\n",
        "\n",
        "## 9. What is type casting in Python?\n",
        "Type casting is the process of converting one data type into another, such as from string to integer, float to integer, etc.\n",
        "\n",
        "Example:\n",
        "x = \"123\"\n",
        "y = int(x)  # Explicitly converts string to integer\n",
        "\n",
        "---\n",
        "## 10. What is the difference between implicit and explicit type casting?\n",
        "\n",
        "Implicit casting: Done automatically by Python.\n",
        "\n",
        "a = 10\n",
        "\n",
        "b = 2.5\n",
        "\n",
        "c = a + b  # c becomes 12.5 (float)\n",
        "\n",
        "Explicit casting: Done manually by the programmer.\n",
        "\n",
        "a = \"100\"\n",
        "\n",
        "b = int(a)  # Manually cast to integer\n",
        "\n",
        "---\n",
        "##11. What is the purpose of conditional statements in Python?\n",
        "Conditional statements allow a program to make decisions based on conditions. They control the flow of execution using if, elif, and else.\n",
        "\n",
        "Example:\n",
        "\n",
        "if age >= 18:\n",
        "\n",
        "  print(\"Adult\")\n",
        "\n",
        "else:\n",
        "\n",
        "  print(\"Minor\")\n",
        "\n",
        "---\n",
        "\n",
        "## 12. How does the elif statement work?\n",
        "The elif (else if) statement checks multiple conditions after an initial if. If the if is false, Python checks each elif until one is true. If none match, the else block is executed.\n",
        "\n",
        "Example:\n",
        "\n",
        "x = 5\n",
        "\n",
        "if x > 10:\n",
        "\n",
        "  print(\"Greater than 10\")\n",
        "\n",
        "elif x == 5:\n",
        "\n",
        "  print(\"Equal to 5\")\n",
        "\n",
        "else:\n",
        "\n",
        "  print(\"Other value\")\n",
        "\n",
        "  ---\n",
        "## 13. What is the difference between for and while loops?\n",
        "for loop: Used when the number of iterations is known or finite.\n",
        "\n",
        "for i in range(5):\n",
        "\n",
        "  print(i)\n",
        "\n",
        "while loop: Used when the number of iterations is unknown and depends on a condition.\n",
        "\n",
        "while condition:\n",
        "\n",
        "   run until condition is False\n",
        "\n",
        "---\n",
        "## 14. Describe a scenario where a while loop is more suitable than a for loop.\n",
        "A while loop is better when the loop should continue until a condition is met, rather than a fixed number of times.\n",
        "\n",
        "Example: User input validation\n",
        "\n",
        "password = \"\"\n",
        "\n",
        "while password != \"admin\":\n",
        "\n",
        "  password = input(\"Enter password: \")\n",
        "\n",
        "print(\"Access granted!\")\n",
        "\n",
        "In this scenario, we don’t know how many attempts the user will make, so a while loop is more appropriate."
      ],
      "metadata": {
        "id": "lHnyvEQi8MV3"
      }
    },
    {
      "cell_type": "markdown",
      "source": [
        "# Practical Questions"
      ],
      "metadata": {
        "id": "YzrkM5tBm3q0"
      }
    },
    {
      "cell_type": "code",
      "source": [
        "# 1. Write a Python program to print \"Hello, World!\n",
        "print(\"Hello, World!\")"
      ],
      "metadata": {
        "id": "ZFuwpgBWnJ3R"
      },
      "execution_count": null,
      "outputs": []
    },
    {
      "cell_type": "code",
      "source": [
        "# 2.  Write a Python program that displays your name and age\n",
        "Name=\"Nitin Raj Tiwari\"\n",
        "Age=20\n",
        "print(f\"Name:{Name} Age:{Age}\")"
      ],
      "metadata": {
        "id": "FuvTmjzvnUQE"
      },
      "execution_count": null,
      "outputs": []
    },
    {
      "cell_type": "code",
      "source": [
        "# 3. Write code to print all the pre-defined keywords in Python using the keyword library\n",
        "import keyword\n",
        "for i in keyword.kwlist:\n",
        "  print(i)"
      ],
      "metadata": {
        "collapsed": true,
        "id": "x4HTrpuMnl2o"
      },
      "execution_count": null,
      "outputs": []
    },
    {
      "cell_type": "code",
      "source": [
        "#4. Write a program that checks if a given word is a Python keyword.\n",
        "word_1=\"For\"\n",
        "word_2=\"for\"\n",
        "word_1 in keyword.kwlist\n",
        "word_2 in keyword.kwlist"
      ],
      "metadata": {
        "id": "AFXL1zyjoQ7i"
      },
      "execution_count": null,
      "outputs": []
    },
    {
      "cell_type": "code",
      "source": [
        "#5.  Create a list and tuple in Python, and demonstrate how attempting to change an element works differently\n",
        "# for each.\n",
        "tup=(1,2,3,4)\n",
        "lis=[1,2,3,4]\n",
        "print(f\"{tup[0]}  {lis[0]}\")\n",
        "tup[0]=10 #'tuple' object does not support item assignment\n",
        "lis[0]=10\n",
        "print(f\"{tup[0]}  {lis[0]}\")"
      ],
      "metadata": {
        "id": "2ThMaFaWotch"
      },
      "execution_count": null,
      "outputs": []
    },
    {
      "cell_type": "code",
      "source": [
        "# 6. Write a function to demonstrate the behavior of mutable and immutable arguments.\n",
        "def modify_args(immutable_arg, mutable_arg):\n",
        "    print(\"Inside function before modification:\")\n",
        "    print(\"Immutable argument:\", immutable_arg)\n",
        "    print(\"Mutable argument:\", mutable_arg)\n",
        "    immutable_arg += 10\n",
        "    mutable_arg.append(10)\n",
        "    print(\"Inside function after modification:\")\n",
        "    print(\"Immutable argument:\", immutable_arg)\n",
        "    print(\"Mutable argument:\", mutable_arg)\n",
        "\n",
        "\n",
        "# Outside the function\n",
        "immutable = 5\n",
        "mutable = [1, 2, 3]\n",
        "\n",
        "print(\"Before function call:\")\n",
        "print(\"Immutable value:\", immutable)\n",
        "print(\"Mutable value:\", mutable)\n",
        "\n",
        "modify_args(immutable, mutable)\n",
        "\n",
        "print(\"After function call:\")\n",
        "print(\"Immutable value:\", immutable)\n",
        "print(\"Mutable value:\", mutable)\n"
      ],
      "metadata": {
        "id": "kC_aLVbOpW14"
      },
      "execution_count": null,
      "outputs": []
    },
    {
      "cell_type": "code",
      "source": [
        "# 7. Write a program that performs basic arithmetic operations on two user-input numbers\n",
        "def add():\n",
        "  a=int(input(\"Enter First Number\"))\n",
        "  b=int(input(\"Enter Second Number\"))\n",
        "  sum=a+b\n",
        "  diff=a-b\n",
        "  div=a/b\n",
        "  mul=a*b\n",
        "  return  sum,diff,div,mul\n",
        "print(add()) #returns in tuple"
      ],
      "metadata": {
        "id": "k92TgUI7qUY8"
      },
      "execution_count": null,
      "outputs": []
    },
    {
      "cell_type": "code",
      "source": [
        "#8.  Write a program to demonstrate the use of logical operators.\n",
        "print(not True) #Flase\n",
        "print(not False) #True\n",
        "\n",
        "print(True and False) #Flase\n",
        "print(True and True)  #True\n",
        "print(False and True) #False\n",
        "\n",
        "print(False or True)  #True\n",
        "print(True or True)   #True\n",
        "print(True or False)  #True\n",
        "print(False or False) #False"
      ],
      "metadata": {
        "id": "PZKM7UjCrcBD"
      },
      "execution_count": null,
      "outputs": []
    },
    {
      "cell_type": "code",
      "source": [
        "#9. Write a Python program to convert user input from string to integer, float, and boolean types.\n",
        "user_input=input(\"Enter Integer String\")\n",
        "i=int(user_input)\n",
        "f=float(user_input)\n",
        "b=bool(user_input)\n",
        "print(i,f,b)"
      ],
      "metadata": {
        "id": "xgDE0npQuq0l"
      },
      "execution_count": null,
      "outputs": []
    },
    {
      "cell_type": "code",
      "source": [
        "#10 Write code to demonstrate type casting with list elements.\n",
        "str_list = [\"10\", \"20\", \"30\", \"0\", \"1\", \"100\"]\n",
        "\n",
        "# Convert to integers\n",
        "int_list = []\n",
        "for item in str_list:\n",
        "  int_list.append(int(item))\n",
        "\n",
        "# Convert to floats\n",
        "float_list = []\n",
        "for item in str_list:\n",
        "  float_list.append(float(item))\n",
        "\n",
        "# Convert to booleans\n",
        "bool_list = [bool(item) for item in str_list]\n",
        "\n",
        "print(\"Original List:\", str_list)\n",
        "print(\"Integer List :\", int_list)\n",
        "print(\"Float List   :\", float_list)\n",
        "print(\"Boolean List :\", bool_list)"
      ],
      "metadata": {
        "id": "tKLNCXclwQBF"
      },
      "execution_count": null,
      "outputs": []
    },
    {
      "cell_type": "code",
      "source": [
        "#11. Write a program that checks if a number is positive, negative, or zero.\n",
        "num=float(input(\"Enter Number\"))\n",
        "if(num==0):\n",
        "  print(\"Zero\")\n",
        "elif(num>0):\n",
        "  print(\"greater than zero\")\n",
        "else:\n",
        "  print(\"less than zero\")"
      ],
      "metadata": {
        "id": "-A33X9Whw-am"
      },
      "execution_count": null,
      "outputs": []
    },
    {
      "cell_type": "code",
      "source": [
        "#12.  Write a for loop to print numbers from 1 to 10.\n",
        "for i in range(1,11):\n",
        "  print(i)"
      ],
      "metadata": {
        "id": "-F7II-E9x5wQ"
      },
      "execution_count": null,
      "outputs": []
    },
    {
      "cell_type": "code",
      "source": [
        "#13.  Write a Python program to find the sum of all even numbers between 1 and 50.\n",
        "sum=0;\n",
        "for i in range(2,51,2):\n",
        "  sum+=i\n",
        "print(sum)"
      ],
      "metadata": {
        "id": "97rP0-kMyC48"
      },
      "execution_count": null,
      "outputs": []
    },
    {
      "cell_type": "code",
      "source": [
        "#  14. Write a program to reverse a string using a while loop.\n",
        "s=\"abcdef\"\n",
        "rev=\"\"\n",
        "j=len(s)-1\n",
        "while(j>=0):\n",
        "  rev+=s[j]\n",
        "  j-=1\n",
        "print(rev)"
      ],
      "metadata": {
        "colab": {
          "base_uri": "https://localhost:8080/"
        },
        "id": "jEUOYx-pynTQ",
        "outputId": "536f9a25-fa37-4446-a0c0-c60158afa0f8"
      },
      "execution_count": 20,
      "outputs": [
        {
          "output_type": "stream",
          "name": "stdout",
          "text": [
            "fedcba\n"
          ]
        }
      ]
    },
    {
      "cell_type": "code",
      "source": [
        "#  15. Write a Python program to calculate the factorial of a number provided by the user using a while loop\n",
        "num=int(input(\"Enter the Number\"))\n",
        "fact=1;\n",
        "while(num>0):\n",
        "    fact*=num\n",
        "    num-=1\n",
        "print(fact)"
      ],
      "metadata": {
        "id": "LfN_AvAVz188"
      },
      "execution_count": null,
      "outputs": []
    }
  ]
}