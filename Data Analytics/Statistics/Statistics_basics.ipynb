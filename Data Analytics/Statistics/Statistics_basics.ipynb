{
  "nbformat": 4,
  "nbformat_minor": 0,
  "metadata": {
    "colab": {
      "provenance": []
    },
    "kernelspec": {
      "name": "python3",
      "display_name": "Python 3"
    },
    "language_info": {
      "name": "python"
    }
  },
  "cells": [
    {
      "cell_type": "markdown",
      "source": [
        "#Question 1: What is the difference between descriptive statistics and inferential statistics? Explain with examples.\n",
        "\n",
        "Ans: Descriptive and inferential are two main types of statistics\n",
        "- Descriptive - What is happening in the data?\n",
        "- Inferential -   What can we say about the population based on the data?\n",
        "\n",
        "| Aspect         | **Descriptive Statistics**                             | **Inferential Statistics**                                                                                                                  |\n",
        "| -------------- | ------------------------------------------------------ | ------------------------------------------------------------------------------------------------------------------------------------------- |\n",
        "| **Purpose**    | To **describe or summarize** data                      | To **make predictions or inferences** about a population from a sample                                                                      |\n",
        "| **Scope**      | Deals with **known data** (complete dataset)           | Works with a **sample** to estimate for the whole population                                                                                |\n",
        "| **Tools Used** | Mean, median, mode, standard deviation, graphs, tables | Hypothesis testing, confidence intervals, regression analysis                                                                               |\n",
        "| **Outcome**    | Provides a **summary of data**                         | Helps to **draw conclusions** about data                                                                                                    |\n",
        "| **Example**    | \"The average score of 100 students is 75.\"             | \"Based on a sample of 100 students, we estimate the average score of all students in the college is between 73 and 77 with 95% confidence.\" |\n",
        "\n",
        "\n",
        "Examples Explained\n",
        "\n",
        "**Descriptive Statistics Example:**\n",
        "A teacher collects the scores of 50 students in a class test:\n",
        "\n",
        "Mean = 75\n",
        "\n",
        "Median = 76\n",
        "\n",
        "Standard deviation = 5\n",
        "\n",
        "Bar chart shows most students scored between 70-80\n",
        "\n",
        "This is descriptive because it only tells about the 50 students in that class.\n",
        "\n",
        "**Inferential Statistics Example:**\n",
        "A data analyst collects a sample of 200 people to estimate the average income in a city of 2 lakh people.\n",
        "\n",
        "Sample mean income = ₹35,000\n",
        "\n",
        "Using inferential statistics, they estimate the population mean income is ₹34,500 to ₹35,500 (95% confidence interval)\n",
        "\n",
        "This is inferential because it's predicting for the entire city using a small sample.\n",
        "\n",
        "---\n",
        "\n",
        "## Question 2: What is sampling in statistics? Explain the differences between random and stratified sampling.\n",
        "\n",
        "Ans: Sampling in statistics is the process of selecting a subset of individuals (called a sample) from a larger population to gather insights and make conclusions without surveying the entire population.\n",
        "Instead of collecting data from every single member of the population (which is time-consuming and costly), a sample is taken to represent the whole group.\n",
        "\n",
        "| Feature           | **Random Sampling**                                         | **Stratified Sampling**                                                                            |\n",
        "| ----------------- | ----------------------------------------------------------- | -------------------------------------------------------------------------------------------------- |\n",
        "| **Definition**    | Every individual has an **equal chance** of being selected  | The population is **divided into groups (strata)**, and then samples are taken **from each group** |\n",
        "| **Process**       | Simple random selection from the entire population          | First divide into strata (e.g. gender, age), then randomly sample from each                        |\n",
        "| **Use Case**      | When the population is **fairly homogeneous**               | When the population is **diverse or has sub-groups**                                               |\n",
        "| **Example**       | Picking 100 names randomly from a box of 1000 student names | Dividing students by department, then randomly selecting 10 from each department                   |\n",
        "| **Advantages**    | Easy to implement, unbiased                                 | More representative of the population                                                              |\n",
        "| **Disadvantages** | Might not capture important subgroups                       | Requires knowledge of strata and structure of population                                           |\n",
        "\n",
        "---\n",
        "\n",
        "## Question 3: Define mean, median, and mode. Explain why these measures of central tendency are important.\n",
        "\n",
        "Mean, Median, and Mode are the three most commonly used measures of central tendency in statistics. They are called measures of central tendency because they identify the central point or typical value around which the data tends to cluster.\n",
        "1. Mean (Arithmetic Mean):\n",
        "The mean is the average of all values.\n",
        "Mean=Sum of all values/Number of values\n",
        "2. Median:\n",
        "The median is the middle value when all values are arranged in order.\n",
        "Steps:\n",
        "  1.\tArrange the data in ascending order.\n",
        "  2.\tIf odd number of values → pick the middle one.\n",
        "  3.\tIf even number of values → take the average of the two middle values.\n",
        "3. Mode:\n",
        "The mode is the value that appears most frequently in the dataset.\n",
        "Example:     \n",
        "Data: 5, 6, 7, 6, 9, 6 → Mode = 6 (appears 3 times)\n",
        "\n",
        "A dataset can have:\n",
        "\n",
        "- One mode → Unimodal\n",
        "- Two modes → Bimodal\n",
        "- More than two modes → Multimodal\n",
        "- no repeating values → No mode\n",
        "\n",
        "** importance**\n",
        "\n",
        "| Measure    | Importance                                                                                       |\n",
        "| ---------- | ------------------------------------------------------------------------------------------------ |\n",
        "| **Mean**   | Used in most calculations (e.g., averages, performance metrics), easy to compute.                |\n",
        "| **Median** | Useful when data has **outliers or skewed distribution**. It is not affected by extreme values.  |\n",
        "| **Mode**   | Helps understand the **most common** or **frequent** item (useful in surveys, categorical data). |\n",
        "\n",
        "---\n",
        "## Question 4: Explain skewness and kurtosis. What does a positive skew imply about the data?\n",
        "\n",
        " ### 1. Skewness:\n",
        "Skewness measures the asymmetry of the distribution of values in a dataset.\n",
        "\n",
        "Types of Skewness:\n",
        "\n",
        "| Type                             | Description                                                  |                                            |\n",
        "| -------------------------------- | ------------------------------------------------------------ | ------------------------------------------------- |\n",
        "| **Positive Skew (Right Skewed)** | Tail is stretched to the **right** (more values on the left) |\n",
        "| **Negative Skew (Left Skewed)**  | Tail is stretched to the **left** (more values on the right) |\n",
        "| **Zero Skew (Symmetric)**        | Data is **evenly distributed** around the mean               |\n",
        "\n",
        "### What Does a Positive Skew Imply?\n",
        "Tail is longer on the right side\n",
        "\n",
        "Most values are low, a few are very high\n",
        "\n",
        "- Mean > Median > Mode\n",
        "\n",
        "**Example:**\n",
        "\n",
        "Income data often has a positive skew:\n",
        "\n",
        "Most people earn ₹20,000–₹60,000\n",
        "\n",
        "A few earn ₹10 lakh+\n",
        "\n",
        "Hence, the mean income is higher than the median.\n",
        "\n",
        "\n",
        "### 2. Kurtosis:\n",
        "\n",
        "Kurtosis measures the \"tailedness\" or peakedness of the distribution — i.e., how sharp or flat the peak is, and how heavy the tails are.\n",
        "\n",
        "Types of Kurtosis:\n",
        "\n",
        "| Type            | Description                    | Shape                 |\n",
        "| --------------- | ------------------------------ | --------------------- |\n",
        "| **Mesokurtic**  | Normal distribution            | Medium peak and tails |\n",
        "| **Leptokurtic** | **High peak**, **heavy tails** | More extreme outliers |\n",
        "| **Platykurtic** | **Flat peak**, **light tails** | Fewer extreme values  |\n"
      ],
      "metadata": {
        "id": "XV2Yzn46CneR"
      }
    },
    {
      "cell_type": "code",
      "source": [
        "# Question 5: Implement a Python program to compute the mean, median, and mode of a given list of numbers.\n",
        "# numbers = [12, 15, 12, 18, 19, 12, 20, 22, 19, 19, 24, 24, 24, 26, 28]\n",
        "import statistics\n",
        "numbers = [12, 15, 12, 18, 19, 12, 20, 22, 19, 19, 24, 24, 24, 26, 28]"
      ],
      "metadata": {
        "id": "H8DURr4RGwAH"
      },
      "execution_count": 5,
      "outputs": []
    },
    {
      "cell_type": "code",
      "source": [
        "statistics.mean(numbers)"
      ],
      "metadata": {
        "colab": {
          "base_uri": "https://localhost:8080/"
        },
        "id": "tVretF2AG2R3",
        "outputId": "aa93cd9e-8731-466b-c081-819d84f190df"
      },
      "execution_count": 6,
      "outputs": [
        {
          "output_type": "execute_result",
          "data": {
            "text/plain": [
              "19.6"
            ]
          },
          "metadata": {},
          "execution_count": 6
        }
      ]
    },
    {
      "cell_type": "code",
      "source": [
        "statistics.median(numbers)"
      ],
      "metadata": {
        "colab": {
          "base_uri": "https://localhost:8080/"
        },
        "id": "PYSp7aQDG5sO",
        "outputId": "44960421-157c-4c73-e6cc-6d855ca153fd"
      },
      "execution_count": 7,
      "outputs": [
        {
          "output_type": "execute_result",
          "data": {
            "text/plain": [
              "19"
            ]
          },
          "metadata": {},
          "execution_count": 7
        }
      ]
    },
    {
      "cell_type": "code",
      "source": [
        "statistics.mode(numbers)"
      ],
      "metadata": {
        "colab": {
          "base_uri": "https://localhost:8080/"
        },
        "id": "HgQBXnc8G812",
        "outputId": "aeed93d1-c08c-49b1-ba20-0ff96ed51028"
      },
      "execution_count": 8,
      "outputs": [
        {
          "output_type": "execute_result",
          "data": {
            "text/plain": [
              "12"
            ]
          },
          "metadata": {},
          "execution_count": 8
        }
      ]
    },
    {
      "cell_type": "code",
      "source": [
        "# Question 6: Compute the covariance and correlation coefficient between the following\n",
        "# two datasets provided as lists in Python:\n",
        "# list_x = [10, 20, 30, 40, 50]\n",
        "# list_y = [15, 25, 35, 45, 60]\n",
        "import statistics\n",
        "list_x = [10, 20, 30, 40, 50]\n",
        "list_y = [15, 25, 35, 45, 60]"
      ],
      "metadata": {
        "id": "resjDgreCnFw"
      },
      "execution_count": 2,
      "outputs": []
    },
    {
      "cell_type": "code",
      "execution_count": 3,
      "metadata": {
        "colab": {
          "base_uri": "https://localhost:8080/"
        },
        "id": "Vxo8wttiCju_",
        "outputId": "2fea282b-bf6f-400a-b14a-6701f90c9893"
      },
      "outputs": [
        {
          "output_type": "execute_result",
          "data": {
            "text/plain": [
              "275.0"
            ]
          },
          "metadata": {},
          "execution_count": 3
        }
      ],
      "source": [
        "statistics.covariance(list_x,list_y)"
      ]
    },
    {
      "cell_type": "code",
      "source": [
        "statistics.correlation(list_x,list_y)"
      ],
      "metadata": {
        "colab": {
          "base_uri": "https://localhost:8080/"
        },
        "id": "kKj81oIeGZqp",
        "outputId": "3c0f0889-6392-49c1-cdb6-4dd3671020a3"
      },
      "execution_count": 4,
      "outputs": [
        {
          "output_type": "execute_result",
          "data": {
            "text/plain": [
              "0.9958932064677039"
            ]
          },
          "metadata": {},
          "execution_count": 4
        }
      ]
    },
    {
      "cell_type": "markdown",
      "source": [
        "Explanation:\n",
        "\n",
        "- Covariance = 225.0\n",
        "Positive → Both variables tend to increase together\n",
        "\n",
        "But the value is scale-dependent (units matter)\n",
        "\n",
        "- Correlation Coefficient ≈ 0.99\n",
        "Very strong positive correlation\n",
        "\n",
        "Correlation is unit-free, ranges from -1 to +1\n",
        "\n",
        "+1 → Perfect positive linear relationship\n",
        "\n",
        "0 → No linear relationship\n",
        "\n",
        "-1 → Perfect negative linear relationship"
      ],
      "metadata": {
        "id": "ZW80udwNGg_t"
      }
    },
    {
      "cell_type": "code",
      "source": [
        "# Question 7: Write a Python script to draw a boxplot for the following numeric list and identify its outliers. Explain the result:\n",
        "# data = [12, 14, 14, 15, 18, 19, 19, 21, 22, 22, 23, 23, 24, 26, 29, 35]\n",
        "import matplotlib.pyplot as plt\n",
        "import seaborn as sns\n",
        "data = [12, 14, 14, 15, 18, 19, 19, 21, 22, 22, 23, 23, 24, 26, 29, 35]"
      ],
      "metadata": {
        "id": "G86xe1m9GklG"
      },
      "execution_count": 11,
      "outputs": []
    },
    {
      "cell_type": "code",
      "source": [
        "plt.figure(figsize=(5,6))\n",
        "sns.boxplot(data=data,color=\"red\")\n",
        "plt.title(\"Box Plot of Data\")\n",
        "plt.xlabel(\"Value\")\n",
        "plt.grid()\n",
        "plt.show()"
      ],
      "metadata": {
        "colab": {
          "base_uri": "https://localhost:8080/",
          "height": 550
        },
        "id": "7UV4ygB8HR9Z",
        "outputId": "10ef316b-6a00-4f25-c91f-ab69215c4d94"
      },
      "execution_count": 12,
      "outputs": [
        {
          "output_type": "display_data",
          "data": {
            "text/plain": [
              "<Figure size 500x600 with 1 Axes>"
            ],
            "image/png": "[encoded data removed]"
          },
          "metadata": {}
        }
      ]
    },
    {
      "cell_type": "markdown",
      "source": [
        "### We can see from the box plot the Outlier is 35 which is beyond the upper bound which is 33.25"
      ],
      "metadata": {
        "id": "LlDAvaSEHYw5"
      }
    },
    {
      "cell_type": "code",
      "source": [
        "# Question 8: You are working as a data analyst in an e-commerce company. The marketing team wants to know if there is a relationship between advertising spend and daily sales.\n",
        "# ● Explain how you would use covariance and correlation to explore this relationship.\n",
        "#  ● Write Python code to compute the correlation between the two lists: advertising_spend = [200, 250, 300, 400, 500]\n",
        "# daily_sales = [2200, 2450, 2750, 3200, 4000]\n",
        "\n"
      ],
      "metadata": {
        "id": "kabVIZ-THb61"
      },
      "execution_count": null,
      "outputs": []
    },
    {
      "cell_type": "markdown",
      "source": [
        "covariance → if positive, sales increase with ad spend.\n",
        "\n",
        "correlation → if close to +1, strong positive relationship.\n"
      ],
      "metadata": {
        "id": "hHgH9XawHkjR"
      }
    },
    {
      "cell_type": "code",
      "source": [
        "advertising_spend = [200, 250, 300, 400, 500]\n",
        "daily_sales = [2200, 2450, 2750, 3200, 4000]"
      ],
      "metadata": {
        "id": "sgeD-xveHkQr"
      },
      "execution_count": 13,
      "outputs": []
    },
    {
      "cell_type": "code",
      "source": [
        "import statistics"
      ],
      "metadata": {
        "id": "yJzO0Md3Hsqn"
      },
      "execution_count": 14,
      "outputs": []
    },
    {
      "cell_type": "code",
      "source": [
        "cor=statistics.correlation(advertising_spend,daily_sales)\n",
        "print(f\"correlation is {cor} which is close to +1 to strong positive relation between adverting_spend and daily_sales\")"
      ],
      "metadata": {
        "colab": {
          "base_uri": "https://localhost:8080/"
        },
        "id": "BoKyn9yJHvzE",
        "outputId": "56866c3a-3ec2-4bbe-bab9-14068c8d189b"
      },
      "execution_count": 15,
      "outputs": [
        {
          "output_type": "stream",
          "name": "stdout",
          "text": [
            "correlation is 0.9935824101653327 which is close to +1 to strong positive relation between adverting_spend and daily_sales\n"
          ]
        }
      ]
    },
    {
      "cell_type": "code",
      "source": [
        "cov=statistics.covariance(advertising_spend,daily_sales)\n",
        "print(f\"covariance is {cov} which is positive so with increase in advertising the daily sales is increasing \")"
      ],
      "metadata": {
        "colab": {
          "base_uri": "https://localhost:8080/"
        },
        "id": "pZnHvH0UHx1e",
        "outputId": "b7a0ad34-70c5-4e89-b422-ee7c6ba11956"
      },
      "execution_count": 16,
      "outputs": [
        {
          "output_type": "stream",
          "name": "stdout",
          "text": [
            "covariance is 84875.0 which is positive so with increase in advertising the daily sales is increasing \n"
          ]
        }
      ]
    },
    {
      "cell_type": "code",
      "source": [
        "# Question 9: Your team has collected customer satisfaction survey data on a scale of 1-10 and wants to understand its distribution before launching a new product.\n",
        "# ● Explain which summary statistics and visualizations (e.g. mean, standard deviation, histogram) you’d use.\n",
        "# ● Write Python code to create a histogram using Matplotlib for the survey\n",
        "# data: survey_scores = [7, 8, 5, 9, 6, 7, 8, 9, 10, 4, 7, 6, 9, 8, 7]\n",
        "\n",
        "import matplotlib.pyplot as plt\n",
        "import seaborn as sns\n",
        "survey_scores = [7, 8, 5, 9, 6, 7, 8, 9, 10, 4, 7, 6, 9, 8, 7]\n"
      ],
      "metadata": {
        "id": "USUy9HC4Hywl"
      },
      "execution_count": 17,
      "outputs": []
    },
    {
      "cell_type": "code",
      "source": [
        "plt.figure(figsize=(5,5))\n",
        "sns.histplot(survey_scores,bins=6,kde=True)\n",
        "plt.title(f\"Histogram of survey_score\")\n",
        "plt.xlabel(\"Ratings\")\n",
        "plt.ylabel(\"Counts\")\n",
        "plt.grid()\n",
        "plt.show()"
      ],
      "metadata": {
        "colab": {
          "base_uri": "https://localhost:8080/",
          "height": 487
        },
        "id": "x4BPl-l3IHtQ",
        "outputId": "4dbad88b-6590-409c-a4c9-d3279626cc6c"
      },
      "execution_count": 18,
      "outputs": [
        {
          "output_type": "display_data",
          "data": {
            "text/plain": [
              "<Figure size 500x500 with 1 Axes>"
            ],
            "image/png": "[encoded data removed]"
          },
          "metadata": {}
        }
      ]
    },
    {
      "cell_type": "code",
      "source": [
        "statistics.mean(survey_scores)"
      ],
      "metadata": {
        "colab": {
          "base_uri": "https://localhost:8080/"
        },
        "id": "8OaldjOtIRV_",
        "outputId": "d9150d44-1c06-454c-f14d-c72cbcd0e18e"
      },
      "execution_count": 21,
      "outputs": [
        {
          "output_type": "execute_result",
          "data": {
            "text/plain": [
              "7.333333333333333"
            ]
          },
          "metadata": {},
          "execution_count": 21
        }
      ]
    },
    {
      "cell_type": "code",
      "source": [
        "statistics.mode(survey_scores)"
      ],
      "metadata": {
        "colab": {
          "base_uri": "https://localhost:8080/"
        },
        "id": "0iexOgp3IMMQ",
        "outputId": "27daeb0e-5048-42ee-ef1c-0378b3a2b5fa"
      },
      "execution_count": 19,
      "outputs": [
        {
          "output_type": "execute_result",
          "data": {
            "text/plain": [
              "7"
            ]
          },
          "metadata": {},
          "execution_count": 19
        }
      ]
    },
    {
      "cell_type": "code",
      "source": [
        "statistics.stdev(survey_scores)"
      ],
      "metadata": {
        "colab": {
          "base_uri": "https://localhost:8080/"
        },
        "id": "xffUpLxMIQZC",
        "outputId": "c4fda34d-6e45-4bef-aefa-068e3d06d65f"
      },
      "execution_count": 20,
      "outputs": [
        {
          "output_type": "execute_result",
          "data": {
            "text/plain": [
              "1.632993161855452"
            ]
          },
          "metadata": {},
          "execution_count": 20
        }
      ]
    },
    {
      "cell_type": "markdown",
      "source": [
        "Interpretation:\n",
        "\n",
        "I will use\n",
        "\n",
        "- Mean: to show the average rating\n",
        "\n",
        "    - Mean = 7.4\n",
        "\n",
        "- Mode: to show the which rating maxmimum customers gives  \n",
        "\n",
        "  - Mode=7\n",
        "\n",
        "- Standard Deviation: to show the average rating difference (variation in ratings).\n",
        "\n",
        "  - SD= 1.63\n",
        "\n",
        "- Histogram will likely show:\n",
        "    - A peak around 7–9\n",
        "    - Very few customers rated below 5 or above 9\n"
      ],
      "metadata": {
        "id": "0m6gFgakIYLx"
      }
    }
  ]
}